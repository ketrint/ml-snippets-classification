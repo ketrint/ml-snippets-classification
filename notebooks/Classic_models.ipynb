{
  "cells": [
    {
      "cell_type": "markdown",
      "metadata": {
        "id": "alEukFDvsqPM"
      },
      "source": [
        "## Import & install libs"
      ]
    },
    {
      "cell_type": "code",
      "execution_count": null,
      "metadata": {
        "id": "D1CeQ55vso09"
      },
      "outputs": [],
      "source": [
        "import pandas as pd\n",
        "import numpy as np\n",
        "from sklearn.model_selection import train_test_split\n",
        "from sklearn.utils import shuffle\n",
        "from sklearn.metrics import accuracy_score\n",
        "from sklearn.svm import SVC\n",
        "from sklearn.metrics import f1_score\n",
        "from sklearn.model_selection import GridSearchCV, StratifiedKFold\n",
        "from sklearn.pipeline import Pipeline\n",
        "from sklearn.feature_extraction.text import TfidfVectorizer\n",
        "import re\n",
        "import random\n",
        "import torch\n",
        "from torch import nn\n",
        "import os\n",
        "import warnings\n",
        "from sklearn.linear_model import LogisticRegression\n",
        "from sklearn.compose import ColumnTransformer\n",
        "from sklearn.ensemble import RandomForestClassifier\n",
        "from sklearn.ensemble import GradientBoostingClassifier\n",
        "from tqdm import tqdm\n",
        "from IPython.display import clear_output\n",
        "\n",
        "warnings.filterwarnings(\"ignore\")"
      ]
    },
    {
      "cell_type": "code",
      "execution_count": null,
      "metadata": {
        "id": "QpXFU0LI3y7h"
      },
      "outputs": [],
      "source": [
        "def seed_everything(seed=42):\n",
        "    random.seed(seed)\n",
        "    os.environ['PYTHONHASHSEED'] = str(seed)\n",
        "    np.random.seed(seed)\n",
        "    torch.manual_seed(seed)\n",
        "    torch.backends.cudnn.deterministic = True\n",
        "    torch.backends.cudnn.benchmark = False\n",
        "seed_everything()"
      ]
    },
    {
      "cell_type": "code",
      "execution_count": null,
      "metadata": {
        "id": "heRSbSx9zvAJ"
      },
      "outputs": [],
      "source": [
        "# graphics settings:\n",
        "\n",
        "import matplotlib.pyplot as plt\n",
        "import seaborn as sns\n",
        "sns.set(style='whitegrid')\n",
        "%config InlineBackend.figure_format = 'retina'\n",
        "plt.rcParams['font.size'] = 14\n",
        "plt.rcParams['figure.figsize'] = 10, 7\n",
        "sns.set_style('darkgrid')"
      ]
    },
    {
      "cell_type": "markdown",
      "metadata": {
        "id": "1LKccJwfs0SM"
      },
      "source": [
        "## Load & preprocess data"
      ]
    },
    {
      "cell_type": "code",
      "execution_count": null,
      "metadata": {
        "id": "qqTSZ0LYyANA"
      },
      "outputs": [],
      "source": [
        "def read_data(path):\n",
        "    dml = pd.read_csv(path, index_col=None).drop('Unnamed: 0', axis=1)\n",
        "    print('ALL SNIPPETS: ', dml.shape[0], 'UNIQUE: ', len(dml['code_block'].unique()))\n",
        "    dml = dml.dropna()\n",
        "    print('WITHOUT NANS: ', dml.shape[0])\n",
        "    dml = dml[dml['marks'] == 5]\n",
        "    print('CLEAR DATA MARKS', dml.shape[0])\n",
        "    dml = dml[(dml['graph_vertex_id'] != 53) & (dml['graph_vertex_id'] != 84)]\n",
        "    print('CLEAR DATA CLASSES', dml.shape[0])\n",
        "    return dml"
      ]
    },
    {
      "cell_type": "code",
      "execution_count": null,
      "metadata": {
        "colab": {
          "base_uri": "https://localhost:8080/"
        },
        "id": "z524Jvd6FRxH",
        "outputId": "f340e998-0f2b-401d-a276-87fae09dc0eb"
      },
      "outputs": [
        {
          "name": "stdout",
          "output_type": "stream",
          "text": [
            "ALL SNIPPETS:  7947 UNIQUE:  7839\n",
            "WITHOUT NANS:  7947\n",
            "CLEAR DATA MARKS 5371\n",
            "CLEAR DATA CLASSES 5152\n"
          ]
        }
      ],
      "source": [
        "path = 'snippets.csv'\n",
        "dml = read_data(path)"
      ]
    },
    {
      "cell_type": "code",
      "execution_count": null,
      "metadata": {
        "colab": {
          "base_uri": "https://localhost:8080/"
        },
        "id": "O__Q57Qypq40",
        "outputId": "763f60fd-a007-4658-e591-c0a8b4450752"
      },
      "outputs": [
        {
          "name": "stdout",
          "output_type": "stream",
          "text": [
            "65\n"
          ]
        }
      ],
      "source": [
        "all_classes = sorted(dml['graph_vertex_id'].unique())\n",
        "print(len(all_classes))"
      ]
    },
    {
      "cell_type": "code",
      "execution_count": null,
      "metadata": {
        "id": "ccjfU0rt7TRK"
      },
      "outputs": [],
      "source": [
        "import re\n",
        "from typing import List, Union\n",
        "\n",
        "\n",
        "def from_bytes_to_str(snippet: str) -> str:\n",
        "    \"\"\"Converts a string from byte to regular format.\"\"\"\n",
        "    format_ = f'b\"'\n",
        "    format_hat = f\"b'\"\n",
        "    if snippet[:2] == format_ or snippet[:2] == format_hat:\n",
        "        n = len(snippet)\n",
        "        snippet = snippet[2: n - 1]\n",
        "    return snippet\n",
        "\n",
        "def correct_special_symbols(snippet: str) -> str:\n",
        "    \"\"\"Fixes special characters.\"\"\"\n",
        "    snippet = snippet.replace('\\\\n', '\\n')\n",
        "    snippet = snippet.replace('<br>', '\\n')\n",
        "    snippet = snippet.replace('\\n', ' \\n ')\n",
        "    snippet = snippet.replace('\\\\\"', '\\\"')\n",
        "    snippet = snippet.replace(\"\\\\'\", \"\\'\")\n",
        "    snippet = snippet.replace('\\'\\'\\'', ' \\'\\'\\' ')\n",
        "    snippet = snippet.replace('\\\"\\\"\\\"', ' \\\"\\\"\\\" ')\n",
        "    return snippet\n",
        "\n",
        "def delete_short_comments(snippet: str) -> str:\n",
        "    \"\"\"Deletes short comments.\"\"\"\n",
        "    snippet = re.sub('#.*', '', snippet)\n",
        "    return snippet\n",
        "\n",
        "def delete_imports(snippet: str) -> str:\n",
        "    \"\"\"Deletes imports modules from code.\"\"\"\n",
        "    im_snippet = re.sub('from .* import .*', '', snippet)\n",
        "    im_snippet = re.sub('import .*', '', im_snippet)\n",
        "    if len(im_snippet.replace(' ', '').replace('\\n', '')) != 0:\n",
        "        snippet = im_snippet\n",
        "    return snippet\n",
        "\n",
        "def add_spaces(snippet: str, symbols: List[str]) -> str:\n",
        "    \"\"\"Adds spaces to the beginning and end of each character.\"\"\"\n",
        "    for symb in symbols:\n",
        "        snippet = snippet.replace(symb, ' ' + symb + ' ')\n",
        "    return snippet\n",
        "\n",
        "def delete_empty_lines(snippet: str) -> List[str]:\n",
        "    \"\"\"Deletes empty lines in snippet.\"\"\"\n",
        "    snippet = snippet.split(sep=' ')\n",
        "    while '' in snippet:\n",
        "        snippet.remove('')\n",
        "\n",
        "    if len(snippet) == 0:\n",
        "        snippet = ['\\n']\n",
        "\n",
        "    new_snippet = [snippet[0]]\n",
        "    for i in range(1, len(snippet)):\n",
        "        if snippet[i] == '\\n' and new_snippet[-1] == '\\n':\n",
        "            continue\n",
        "        else:\n",
        "            new_snippet.append(snippet[i])\n",
        "    if len(new_snippet) > 1 and new_snippet[0] == '\\n':\n",
        "        new_snippet = new_snippet[1:]\n",
        "    return new_snippet\n",
        "\n",
        "def delete_long_comments(snippet: List[str]) -> List[str]:\n",
        "    \"\"\"Deletes long comments.\"\"\"\n",
        "    res_snippet = []\n",
        "    comment_flag = 0\n",
        "    opened = ''\n",
        "    for item in snippet:\n",
        "        if item == '\\'\\'\\'' or item == \"\\\\'\\\\'\\\\'\" or item == '\\\"\\\"\\\"' or item == '\\\\\"\\\\\"\\\\\"':\n",
        "            comment_flag += 1\n",
        "            comment_flag %= 2\n",
        "            if comment_flag == 1:\n",
        "                opened = item\n",
        "            else:\n",
        "                if item != opened:\n",
        "                    comment_flag = 1\n",
        "            continue\n",
        "        if comment_flag != 1:\n",
        "            res_snippet.append(item)\n",
        "    if len(res_snippet) == 0:\n",
        "        res_snippet = ['\\n']\n",
        "    return res_snippet\n",
        "\n",
        "def preprocess_snippet(snippet: str, format='list') -> Union[str, List[str]]:\n",
        "    \"\"\"Performs string preprocessing.\"\"\"\n",
        "    functions = [from_bytes_to_str, correct_special_symbols, delete_short_comments, delete_imports]\n",
        "    for function in functions:\n",
        "        snippet = function(snippet)\n",
        "    to_replace = ['.', '(', ')', '\\n', '[', ']', '_']\n",
        "    snippet = add_spaces(snippet, to_replace)\n",
        "    new_snippet = delete_empty_lines(snippet)\n",
        "    res_snippet = delete_long_comments(new_snippet)\n",
        "    if format == 'str':\n",
        "        return ' '.join(res_snippet)\n",
        "    return res_snippet"
      ]
    },
    {
      "cell_type": "code",
      "execution_count": null,
      "metadata": {
        "id": "sq4ddk4ogNsM"
      },
      "outputs": [],
      "source": [
        "def ind(el):\n",
        "  return list(all_classes).index(el)\n",
        "\n",
        "dml['code_block'] = dml['code_block'].apply(preprocess_snippet)\n",
        "dml = shuffle(dml, random_state=42)\n",
        "X = dml[['code_block']]\n",
        "y = dml['graph_vertex_id'].apply(ind)"
      ]
    },
    {
      "cell_type": "code",
      "execution_count": null,
      "metadata": {
        "colab": {
          "base_uri": "https://localhost:8080/"
        },
        "id": "6f2guNAhuOH2",
        "outputId": "01dbfc6a-3b2f-4926-b8b4-f3cba686cd09"
      },
      "outputs": [
        {
          "name": "stdout",
          "output_type": "stream",
          "text": [
            "(3091, 1)\n"
          ]
        }
      ],
      "source": [
        "X_train, X_test, y_train, y_test = train_test_split(X, y, test_size=0.4, random_state=42)\n",
        "print(X_train.shape)"
      ]
    },
    {
      "cell_type": "markdown",
      "metadata": {
        "id": "hO7SdNRds-KB"
      },
      "source": [
        "## SVM, Logreg, RF, GB"
      ]
    },
    {
      "cell_type": "code",
      "execution_count": null,
      "metadata": {
        "id": "wSbmC5vKrQAK"
      },
      "outputs": [],
      "source": [
        "def id(x: str) -> str:\n",
        "    return x\n",
        "\n",
        "def get_score(scoring, tfidf, model, params):\n",
        "    param_grid = params\n",
        "    \n",
        "    column_transformer = ColumnTransformer(\n",
        "        [('tfidf', TfidfVectorizer(analyzer='word', tokenizer=id, preprocessor=id, token_pattern=None), tfidf),\n",
        "         ],\n",
        "         remainder='passthrough'\n",
        "    )\n",
        "    pipeline = Pipeline([\n",
        "           ('trans', column_transformer),\n",
        "           ('model', model),\n",
        "    ])\n",
        "    grid = GridSearchCV(pipeline, param_grid, refit=True, scoring=scoring, error_score=\"raise\", verbose=10, cv=StratifiedKFold(n_splits=5, shuffle=True))\n",
        "    grid.fit(X_train, y_train)\n",
        "    \n",
        "    return grid"
      ]
    },
    {
      "cell_type": "code",
      "execution_count": null,
      "metadata": {
        "id": "Ljk__AmahOT8"
      },
      "outputs": [],
      "source": [
        "def calc(model, params):\n",
        "    res_ac = get_score('accuracy', 'code_block', model, params)\n",
        "    res_f1 = get_score('f1_micro', 'code_block', model, params)\n",
        "    clear_output(True)\n",
        "    print(res_ac.best_score_, res_ac.best_params_, res_ac.cv_results_['std_test_score'][res_ac.best_index_])\n",
        "    print('TEST accuracy: ', accuracy_score(res_ac.best_estimator_.predict(X_test), y_test))\n",
        "    print(res_f1.best_score_, res_f1.best_params_, res_f1.cv_results_['std_test_score'][res_f1.best_index_])\n",
        "    print('TEST f1: ', f1_score(res_f1.best_estimator_.predict(X_test), y_test, average='micro'))"
      ]
    },
    {
      "cell_type": "code",
      "execution_count": null,
      "metadata": {
        "colab": {
          "base_uri": "https://localhost:8080/"
        },
        "id": "7ByEoIkXhYOj",
        "outputId": "6eb141f2-9211-41b6-de61-436350032318"
      },
      "outputs": [
        {
          "name": "stdout",
          "output_type": "stream",
          "text": [
            "0.8233563896251915 {'model__C': 4.6415888336127775, 'model__gamma': 0.01, 'model__kernel': 'linear'} 0.004572130718817808\n",
            "TEST accuracy:  0.8282387190684134\n",
            "0.8211014738250964 {'model__C': 4.6415888336127775, 'model__gamma': 0.01, 'model__kernel': 'linear'} 0.021035146628719522\n",
            "TEST f1:  0.8282387190684134\n",
            "CPU times: user 2h 8min 33s, sys: 12 s, total: 2h 8min 45s\n",
            "Wall time: 2h 8min 35s\n"
          ]
        }
      ],
      "source": [
        "%%time\n",
        "params = {\n",
        "    'model__C' : np.logspace(-2, 2, 10),\n",
        "    'model__kernel' : ['linear', 'poly', 'rbf'],\n",
        "    'model__gamma' : np.logspace(-2, 2, 10)\n",
        "}\n",
        "calc(SVC(), params)"
      ]
    },
    {
      "cell_type": "code",
      "execution_count": null,
      "metadata": {
        "colab": {
          "base_uri": "https://localhost:8080/"
        },
        "id": "0FuQAd9vtfAH",
        "outputId": "9577a0b3-f9d6-4927-b990-c49d0aca4b45"
      },
      "outputs": [
        {
          "name": "stdout",
          "output_type": "stream",
          "text": [
            "0.8301561658589123 {'model__C': 100.0, 'model__penalty': 'l2'} 0.010953289940674609\n",
            "TEST accuracy:  0.8277535177098496\n",
            "0.8223907440228786 {'model__C': 35.93813663804626, 'model__penalty': 'l2'} 0.008329934479417603\n",
            "TEST f1:  0.8282387190684134\n",
            "CPU times: user 36min 25s, sys: 23min 29s, total: 59min 54s\n",
            "Wall time: 32min 45s\n"
          ]
        }
      ],
      "source": [
        "%%time\n",
        "params = {\n",
        "    'model__C' : np.logspace(-2, 2, 10),\n",
        "    'model__penalty' : ['l2', 'none']\n",
        "}\n",
        "calc(LogisticRegression(), params)"
      ]
    },
    {
      "cell_type": "code",
      "execution_count": null,
      "metadata": {
        "colab": {
          "base_uri": "https://localhost:8080/"
        },
        "id": "v1g_e33BtnWV",
        "outputId": "4eb70534-42ba-4032-90e6-628e916629d9"
      },
      "outputs": [
        {
          "name": "stdout",
          "output_type": "stream",
          "text": [
            "0.8191576349786429 {'model__max_depth': None, 'model__min_samples_leaf': 1, 'model__min_samples_split': 2, 'model__n_estimators': 800} 0.015466587861485385\n",
            "TEST accuracy:  0.8233867054827754\n",
            "0.8191576349786429 {'model__max_depth': None, 'model__min_samples_leaf': 1, 'model__min_samples_split': 2, 'model__n_estimators': 400} 0.012297956004606212\n",
            "TEST f1:  0.8238719068413392\n",
            "CPU times: user 32min 26s, sys: 38.4 s, total: 33min 4s\n",
            "Wall time: 33min 3s\n"
          ]
        }
      ],
      "source": [
        "%%time\n",
        "params = {\n",
        "    'model__n_estimators' : [100, 200, 400, 800],\n",
        "    'model__max_depth' : [5, 20, None],\n",
        "    'model__min_samples_split' : [2, 8, 32],\n",
        "    'model__min_samples_leaf' : [1, 4, 16] \n",
        "}\n",
        "calc(RandomForestClassifier(), params)"
      ]
    },
    {
      "cell_type": "code",
      "execution_count": null,
      "metadata": {
        "colab": {
          "base_uri": "https://localhost:8080/"
        },
        "id": "ZQbU4a_6t2iw",
        "outputId": "742a822b-9166-4912-841a-55180b15a83a"
      },
      "outputs": [
        {
          "name": "stdout",
          "output_type": "stream",
          "text": [
            "0.7424878836833603 {'model__learning_rate': 0.1, 'model__max_depth': 4, 'model__n_estimators': 20} 0.017667263263528615\n",
            "TEST accuracy:  0.7530325084910238\n",
            "0.7444259715273095 {'model__learning_rate': 0.1, 'model__max_depth': 4, 'model__n_estimators': 20} 0.01267680336415881\n",
            "TEST f1:  0.750121300339641\n",
            "CPU times: user 54min 22s, sys: 17.2 s, total: 54min 39s\n",
            "Wall time: 54min 31s\n"
          ]
        }
      ],
      "source": [
        "%%time\n",
        "params = {\n",
        "    'model__n_estimators' : [5, 10, 20],\n",
        "    'model__max_depth' : [1, 2, 4],\n",
        "    'model__learning_rate' : [0.01,0.1,1] \n",
        "}\n",
        "calc(GradientBoostingClassifier(), params)"
      ]
    },
    {
      "cell_type": "markdown",
      "metadata": {
        "id": "Vr73xP8dPyea"
      },
      "source": [
        "# Without preprocessing"
      ]
    },
    {
      "cell_type": "code",
      "execution_count": null,
      "metadata": {
        "colab": {
          "base_uri": "https://localhost:8080/"
        },
        "id": "4y3t1f5OOiWI",
        "outputId": "ce3dbfb4-66fe-4054-9aae-b9f585ee58a6"
      },
      "outputs": [
        {
          "name": "stdout",
          "output_type": "stream",
          "text": [
            "ALL SNIPPETS:  7947 UNIQUE:  7839\n",
            "WITHOUT NANS:  7947\n",
            "CLEAR DATA MARKS 5371\n",
            "CLEAR DATA CLASSES 5152\n"
          ]
        }
      ],
      "source": [
        "path = 'snippets.csv'\n",
        "dml = read_data(path)"
      ]
    },
    {
      "cell_type": "code",
      "execution_count": null,
      "metadata": {
        "id": "9UOixcCNP_6q"
      },
      "outputs": [],
      "source": [
        "import re\n",
        "from typing import List, Union\n",
        "\n",
        "def preprocess_snippet(snippet: str, format='list') -> Union[str, List[str]]:\n",
        "    \"\"\"Performs string preprocessing.\"\"\"\n",
        "    return list(snippet.split())"
      ]
    },
    {
      "cell_type": "code",
      "execution_count": null,
      "metadata": {
        "id": "nWn6eEkqQOhu"
      },
      "outputs": [],
      "source": [
        "def ind(el):\n",
        "  return list(all_classes).index(el)\n",
        "\n",
        "dml['code_block'] = dml['code_block'].apply(preprocess_snippet)\n",
        "dml = shuffle(dml, random_state=42)\n",
        "X = dml[['code_block']]\n",
        "y = dml['graph_vertex_id'].apply(ind)"
      ]
    },
    {
      "cell_type": "code",
      "execution_count": null,
      "metadata": {
        "id": "iZ-n6nmkQQ34"
      },
      "outputs": [],
      "source": [
        "X_train, X_test, y_train, y_test = train_test_split(X, y, test_size=0.4, random_state=42)"
      ]
    },
    {
      "cell_type": "code",
      "execution_count": null,
      "metadata": {
        "colab": {
          "base_uri": "https://localhost:8080/"
        },
        "id": "VfSuRXHhQUV1",
        "outputId": "96860bcd-f936-4686-8388-d2c8f2192e0e"
      },
      "outputs": [
        {
          "name": "stdout",
          "output_type": "stream",
          "text": [
            "0.4545472131164683 {'model__C': 100.0, 'model__gamma': 0.027825594022071243, 'model__kernel': 'rbf'} 0.009677837279327571\n",
            "TEST accuracy:  0.47064531780688984\n",
            "0.4532626482843714 {'model__C': 4.6415888336127775, 'model__gamma': 0.01, 'model__kernel': 'linear'} 0.0221946189281898\n",
            "TEST f1:  0.47016011644832606\n",
            "CPU times: user 1h 41min 33s, sys: 7.22 s, total: 1h 41min 40s\n",
            "Wall time: 1h 41min 38s\n"
          ]
        }
      ],
      "source": [
        "%%time\n",
        "params = {\n",
        "    'model__C' : np.logspace(-2, 2, 10),\n",
        "    'model__kernel' : ['linear', 'poly', 'rbf'],\n",
        "    'model__gamma' : np.logspace(-2, 2, 10)\n",
        "}\n",
        "calc(SVC(), params)"
      ]
    },
    {
      "cell_type": "code",
      "execution_count": null,
      "metadata": {
        "colab": {
          "base_uri": "https://localhost:8080/"
        },
        "id": "lXwxTYauQWNH",
        "outputId": "d6c6611f-49eb-4086-8d03-beec9a72a793"
      },
      "outputs": [
        {
          "name": "stdout",
          "output_type": "stream",
          "text": [
            "0.46458009839442466 {'model__C': 100.0, 'model__penalty': 'l2'} 0.012325150833644062\n",
            "TEST accuracy:  0.4754973313925279\n",
            "0.4619848278097568 {'model__C': 100.0, 'model__penalty': 'l2'} 0.011582858042331124\n",
            "TEST f1:  0.4754973313925279\n",
            "CPU times: user 1h 2min 5s, sys: 53min 23s, total: 1h 55min 29s\n",
            "Wall time: 1h 2min 19s\n"
          ]
        }
      ],
      "source": [
        "%%time\n",
        "params = {\n",
        "    'model__C' : np.logspace(-2, 2, 10),\n",
        "    'model__penalty' : ['l2', 'none']\n",
        "} \n",
        "calc(LogisticRegression(), params)"
      ]
    },
    {
      "cell_type": "code",
      "execution_count": 20,
      "metadata": {
        "colab": {
          "base_uri": "https://localhost:8080/"
        },
        "id": "p-bXql_uQXMc",
        "outputId": "67dec28b-fc5a-4467-b52d-822b26e12295"
      },
      "outputs": [
        {
          "name": "stdout",
          "output_type": "stream",
          "text": [
            "0.4280225439298168 {'model__max_depth': None, 'model__min_samples_leaf': 1, 'model__min_samples_split': 8, 'model__n_estimators': 400} 0.012700644979203497\n",
            "TEST accuracy:  0.44347404172731686\n",
            "0.4289965546266815 {'model__max_depth': None, 'model__min_samples_leaf': 1, 'model__min_samples_split': 2, 'model__n_estimators': 100} 0.01566675061942488\n",
            "TEST f1:  0.43619602134885976\n",
            "CPU times: user 33min 1s, sys: 39.3 s, total: 33min 40s\n",
            "Wall time: 33min 50s\n"
          ]
        }
      ],
      "source": [
        "%%time\n",
        "params = {\n",
        "    'model__n_estimators' : [100, 200, 400, 800],\n",
        "    'model__max_depth' : [5, 20, None],\n",
        "    'model__min_samples_split' : [2, 8, 32],\n",
        "    'model__min_samples_leaf' : [1, 4, 16] \n",
        "}\n",
        "calc(RandomForestClassifier(), params)"
      ]
    },
    {
      "cell_type": "code",
      "execution_count": 21,
      "metadata": {
        "colab": {
          "base_uri": "https://localhost:8080/"
        },
        "id": "OSdhBXFvQYOD",
        "outputId": "20c07fdd-2176-4c6a-f07d-017ad3f38091"
      },
      "outputs": [
        {
          "name": "stdout",
          "output_type": "stream",
          "text": [
            "0.38207778492296274 {'model__learning_rate': 0.1, 'model__max_depth': 4, 'model__n_estimators': 20} 0.008556993264833444\n",
            "TEST accuracy:  0.40950994662785056\n",
            "0.3846678273235357 {'model__learning_rate': 0.1, 'model__max_depth': 4, 'model__n_estimators': 20} 0.009225484327261137\n",
            "TEST f1:  0.3993207180980107\n",
            "CPU times: user 44min 33s, sys: 16.9 s, total: 44min 50s\n",
            "Wall time: 44min 55s\n"
          ]
        }
      ],
      "source": [
        "%%time\n",
        "params = {\n",
        "    'model__n_estimators' : [5, 10, 20],\n",
        "    'model__max_depth' : [1, 2, 4],\n",
        "    'model__learning_rate' : [0.01,0.1,1]   \n",
        "}\n",
        "calc(GradientBoostingClassifier(), params)"
      ]
    }
  ],
  "metadata": {
    "colab": {
      "provenance": []
    },
    "kernelspec": {
      "display_name": "Python 3",
      "name": "python3"
    },
    "language_info": {
      "name": "python"
    }
  },
  "nbformat": 4,
  "nbformat_minor": 0
}
