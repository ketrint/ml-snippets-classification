{
  "cells": [
    {
      "cell_type": "markdown",
      "id": "il6tHyjz75P2",
      "metadata": {
        "id": "il6tHyjz75P2"
      },
      "source": [
        "## Import & install libs"
      ]
    },
    {
      "cell_type": "code",
      "execution_count": 6,
      "id": "j9uxEpOyY1To",
      "metadata": {
        "colab": {
          "base_uri": "https://localhost:8080/"
        },
        "id": "j9uxEpOyY1To",
        "outputId": "a1bb415e-dc68-475e-a7f5-e6d2dcbf4510"
      },
      "outputs": [
        {
          "name": "stdout",
          "output_type": "stream",
          "text": [
            "Looking in indexes: https://pypi.org/simple, https://us-python.pkg.dev/colab-wheels/public/simple/\n",
            "Requirement already satisfied: transformers in /usr/local/lib/python3.8/dist-packages (4.25.1)\n",
            "Requirement already satisfied: huggingface-hub<1.0,>=0.10.0 in /usr/local/lib/python3.8/dist-packages (from transformers) (0.11.1)\n",
            "Requirement already satisfied: requests in /usr/local/lib/python3.8/dist-packages (from transformers) (2.23.0)\n",
            "Requirement already satisfied: tqdm>=4.27 in /usr/local/lib/python3.8/dist-packages (from transformers) (4.64.1)\n",
            "Requirement already satisfied: packaging>=20.0 in /usr/local/lib/python3.8/dist-packages (from transformers) (21.3)\n",
            "Requirement already satisfied: regex!=2019.12.17 in /usr/local/lib/python3.8/dist-packages (from transformers) (2022.6.2)\n",
            "Requirement already satisfied: pyyaml>=5.1 in /usr/local/lib/python3.8/dist-packages (from transformers) (6.0)\n",
            "Requirement already satisfied: tokenizers!=0.11.3,<0.14,>=0.11.1 in /usr/local/lib/python3.8/dist-packages (from transformers) (0.13.2)\n",
            "Requirement already satisfied: filelock in /usr/local/lib/python3.8/dist-packages (from transformers) (3.8.0)\n",
            "Requirement already satisfied: numpy>=1.17 in /usr/local/lib/python3.8/dist-packages (from transformers) (1.21.6)\n",
            "Requirement already satisfied: typing-extensions>=3.7.4.3 in /usr/local/lib/python3.8/dist-packages (from huggingface-hub<1.0,>=0.10.0->transformers) (4.1.1)\n",
            "Requirement already satisfied: pyparsing!=3.0.5,>=2.0.2 in /usr/local/lib/python3.8/dist-packages (from packaging>=20.0->transformers) (3.0.9)\n",
            "Requirement already satisfied: idna<3,>=2.5 in /usr/local/lib/python3.8/dist-packages (from requests->transformers) (2.10)\n",
            "Requirement already satisfied: certifi>=2017.4.17 in /usr/local/lib/python3.8/dist-packages (from requests->transformers) (2022.9.24)\n",
            "Requirement already satisfied: chardet<4,>=3.0.2 in /usr/local/lib/python3.8/dist-packages (from requests->transformers) (3.0.4)\n",
            "Requirement already satisfied: urllib3!=1.25.0,!=1.25.1,<1.26,>=1.21.1 in /usr/local/lib/python3.8/dist-packages (from requests->transformers) (1.24.3)\n"
          ]
        }
      ],
      "source": [
        "pip install transformers"
      ]
    },
    {
      "cell_type": "code",
      "execution_count": 7,
      "id": "low8kMbm-H-z",
      "metadata": {
        "id": "low8kMbm-H-z"
      },
      "outputs": [],
      "source": [
        "import pandas as pd\n",
        "import torch\n",
        "import torch.nn as nn\n",
        "import torch.nn.functional as F\n",
        "import numpy as np\n",
        "from transformers import RobertaForSequenceClassification, RobertaTokenizer\n",
        "from transformers import BertForSequenceClassification, BertTokenizer\n",
        "\n",
        "import re\n",
        "import random\n",
        "import os\n",
        "\n",
        "from tqdm import tqdm\n",
        "from IPython.display import clear_output\n",
        "\n",
        "from sklearn.metrics import accuracy_score\n",
        "from sklearn.model_selection import train_test_split\n",
        "from sklearn.utils import shuffle\n",
        "from sklearn.metrics import f1_score\n",
        "\n",
        "\n",
        "from google.colab import files\n",
        "\n",
        "\n",
        "# graphics settings:\n",
        "import matplotlib.pyplot as plt\n",
        "import seaborn as sns\n",
        "sns.set(style='whitegrid')\n",
        "%config InlineBackend.figure_format = 'retina'\n",
        "plt.rcParams['figure.figsize'] = 10, 8\n",
        "plt.rcParams['font.size'] = 12\n",
        "sns.set_style('darkgrid')"
      ]
    },
    {
      "cell_type": "code",
      "execution_count": 8,
      "id": "KKELsE3ZbmyD",
      "metadata": {
        "id": "KKELsE3ZbmyD"
      },
      "outputs": [],
      "source": [
        "def seed_everything(seed=42):\n",
        "    random.seed(seed)\n",
        "    os.environ['PYTHONHASHSEED'] = str(seed)\n",
        "    np.random.seed(seed)\n",
        "    torch.manual_seed(seed)\n",
        "    torch.backends.cudnn.deterministic = True\n",
        "    torch.backends.cudnn.benchmark = False\n",
        "seed_everything()"
      ]
    },
    {
      "cell_type": "markdown",
      "id": "UuZmtWYH0o53",
      "metadata": {
        "id": "UuZmtWYH0o53"
      },
      "source": [
        "## Load & preprocess data"
      ]
    },
    {
      "cell_type": "code",
      "execution_count": 17,
      "id": "FTzsvr7o-K3e",
      "metadata": {
        "id": "FTzsvr7o-K3e"
      },
      "outputs": [],
      "source": [
        "def read_data(path):\n",
        "    dml = pd.read_csv(path, index_col=None).drop('Unnamed: 0', axis=1)\n",
        "    print('ALL SNIPPETS: ', dml.shape[0], 'UNIQUE: ', len(dml['code_block'].unique()))\n",
        "    dml = dml.dropna()\n",
        "    print('WITHOUT NANS: ', dml.shape[0])\n",
        "    other_dml = dml[dml['marks'] == 4]\n",
        "    dml = dml[dml['marks'] == 5]\n",
        "    print('CLEAR DATA MARKS', dml.shape[0])\n",
        "    dml = dml[(dml['graph_vertex_id'] != 53) & (dml['graph_vertex_id'] != 84)]\n",
        "    print('CLEAR DATA CLASSES', dml.shape[0])\n",
        "    return dml, other_dml"
      ]
    },
    {
      "cell_type": "code",
      "execution_count": 18,
      "id": "T2DfgjBsP61M",
      "metadata": {
        "colab": {
          "base_uri": "https://localhost:8080/"
        },
        "id": "T2DfgjBsP61M",
        "outputId": "90efb7ac-854c-4630-f4ae-92cc756f6843"
      },
      "outputs": [
        {
          "name": "stdout",
          "output_type": "stream",
          "text": [
            "ALL SNIPPETS:  7947 UNIQUE:  7839\n",
            "WITHOUT NANS:  7947\n",
            "CLEAR DATA MARKS 5371\n",
            "CLEAR DATA CLASSES 5152\n"
          ]
        }
      ],
      "source": [
        "path = 'snippets.csv'\n",
        "dml, other_dml = read_data(path)"
      ]
    },
    {
      "cell_type": "code",
      "execution_count": 19,
      "id": "niF3UbV-cXwb",
      "metadata": {
        "colab": {
          "base_uri": "https://localhost:8080/"
        },
        "id": "niF3UbV-cXwb",
        "outputId": "05db81e0-dff5-427f-9e5b-ee8c8d45ffeb"
      },
      "outputs": [
        {
          "name": "stdout",
          "output_type": "stream",
          "text": [
            "65\n"
          ]
        }
      ],
      "source": [
        "all_classes = np.unique(sorted(dml['graph_vertex_id'].unique()))\n",
        "print(len(all_classes))\n",
        "n_classes = len(all_classes)"
      ]
    },
    {
      "cell_type": "code",
      "execution_count": 20,
      "id": "YE3Y1Xd4cbt4",
      "metadata": {
        "id": "YE3Y1Xd4cbt4"
      },
      "outputs": [],
      "source": [
        "def ind(el):\n",
        "  return list(all_classes).index(el)\n",
        "\n",
        "dml['code_block'] = dml['code_block']\n",
        "dml = shuffle(dml, random_state=42)\n",
        "X = dml[['code_block']]\n",
        "y = dml['graph_vertex_id'].apply(ind)"
      ]
    },
    {
      "cell_type": "code",
      "execution_count": 21,
      "id": "XOiwNRrB3Owb",
      "metadata": {
        "colab": {
          "base_uri": "https://localhost:8080/"
        },
        "id": "XOiwNRrB3Owb",
        "outputId": "97dcd3a3-f1f8-4b1f-c9e0-a3036a88c0b7"
      },
      "outputs": [
        {
          "name": "stdout",
          "output_type": "stream",
          "text": [
            "(2152, 5)\n",
            "(2151, 5)\n"
          ]
        }
      ],
      "source": [
        "add_dml = pd.read_csv('snippets_after_split_no_duplicates.csv')\n",
        "print(add_dml.shape)\n",
        "add_dml = add_dml.dropna()\n",
        "print(add_dml.shape)"
      ]
    },
    {
      "cell_type": "code",
      "execution_count": 22,
      "id": "W0c31IBZ-OsH",
      "metadata": {
        "colab": {
          "base_uri": "https://localhost:8080/"
        },
        "id": "W0c31IBZ-OsH",
        "outputId": "fc75ee45-4d13-4d8a-898c-c8e6bcd34ac4"
      },
      "outputs": [
        {
          "name": "stdout",
          "output_type": "stream",
          "text": [
            "(2151, 1)\n"
          ]
        }
      ],
      "source": [
        "X_train, X_test, y_train, y_test = train_test_split(X, y, test_size=0.4, random_state=42)\n",
        "X_train, X_val, y_train, y_val = train_test_split(X_train, y_train, test_size=0.33, random_state=42)\n",
        "# add marks 4 data\n",
        "X_train = add_dml[['code_block']]\n",
        "y_train = add_dml['graph_vertex_id'].apply(ind)\n",
        "print(X_train.shape)"
      ]
    },
    {
      "cell_type": "code",
      "execution_count": 23,
      "id": "43lq6EUx3B7F",
      "metadata": {
        "colab": {
          "base_uri": "https://localhost:8080/"
        },
        "id": "43lq6EUx3B7F",
        "outputId": "9beb4661-7897-44d8-dcbb-43f1a3279b6c"
      },
      "outputs": [
        {
          "data": {
            "text/plain": [
              "code_block    submission = pd . DataFrame ( {'id':os . listd...\n",
              "Name: 229, dtype: object"
            ]
          },
          "execution_count": 23,
          "metadata": {},
          "output_type": "execute_result"
        }
      ],
      "source": [
        "X_train.iloc[228]"
      ]
    },
    {
      "cell_type": "markdown",
      "id": "kSJ2Sa8ZMRwi",
      "metadata": {
        "id": "kSJ2Sa8ZMRwi"
      },
      "source": [
        "# CodeBERT"
      ]
    },
    {
      "cell_type": "code",
      "execution_count": 24,
      "id": "XMp-r-XbMV2w",
      "metadata": {
        "colab": {
          "base_uri": "https://localhost:8080/"
        },
        "id": "XMp-r-XbMV2w",
        "outputId": "c6f8a8be-f937-4b41-af79-de1f204d39fb"
      },
      "outputs": [
        {
          "name": "stdout",
          "output_type": "stream",
          "text": [
            "Our main computing device is 'cuda:0'\n"
          ]
        }
      ],
      "source": [
        "def get_computing_device():\n",
        "    if torch.cuda.is_available():\n",
        "        device = torch.device('cuda:0')\n",
        "    else:\n",
        "        device = torch.device('cpu')\n",
        "    return device\n",
        "\n",
        "device = get_computing_device()\n",
        "print(f\"Our main computing device is '{device}'\")"
      ]
    },
    {
      "cell_type": "code",
      "execution_count": 25,
      "id": "wv-WCovI7KGc",
      "metadata": {
        "colab": {
          "base_uri": "https://localhost:8080/",
          "height": 320,
          "referenced_widgets": [
            "f759f6dfd96444c1b448a303c6fca51c",
            "27cddf2523854807bfb7eed3f27d517b",
            "d920445d8f7c440cbbc4b23eb2fef2d1",
            "8bb05ca7640a4f65aeda79932eb391fe",
            "70667002e54d4b86a87908363ecd1851",
            "b5b5ce3e49024924842fa7247e1aec88",
            "adf6fc7e6aca476e89bfbebf85125fca",
            "4ef2e69c5af24f44a8c46d751fd26e5e",
            "13e21e4aa39147e48663269095813ec8",
            "c131876657c349d68fcfc21d9e977eb6",
            "72dab9c0f0894650bbf043e44950eab8",
            "11ca8a0679db4732a662c6a7ffe85a75",
            "f2e638d7a5164ee8ac1ccb8ee173032e",
            "b2a03f866c7c4b8ca03699171afebb8b",
            "4b8940b4b6964c16b983f442b68f52ee",
            "a500f288b61e4bd5a612940add6e32da",
            "f5f13d9a4ecb413db817e13eacb96368",
            "b65130449dbd46e691b01bc4a3506d31",
            "f1aaf1054def4b0eb7e4282c1329675c",
            "0e00873ec29645e49529b50df49b7fa4",
            "651d210b98b9414b98b78775cf5fab86",
            "c1430867b7594ce2924e9c3d2872ec8a",
            "a2734f475d3040a2a559b54b63424aa9",
            "b18431ce346f4c039d8fc0619e53a549",
            "e5e75b933bb049d0a96d6df462b99fef",
            "0d9fff7f618747d5b45f6f107305cdc4",
            "0003428da9d74c97b34ad30849b8e343",
            "e38fe95f418f47de9019c2e72edf8a40",
            "e23ac05b212742db85b3cc896c8b5957",
            "2d39910ab59b491aa94812eb161cffe3",
            "5cd3e4da046b493685a608bda1cadb12",
            "6287c0c6a38d42eca2301e9b59d349e1",
            "49eacf45698c4b1c94c95f8f25f56fb0",
            "f6df77d09c89461aa46a162c327caa14",
            "3f9516f9384e4cc29d15c81b985aa68f",
            "46c16bc7ac9f4be8bcf49b7497f251d0",
            "3063d0e348064326bf9e6e5be076a1fa",
            "6b4b011d603f4e0989ea0de89590bb42",
            "3dc5f4cea9d74273a246a7b9c259cd46",
            "b70861ac6e3544ef97f9fced3ed07104",
            "206bafd08e34442abf5d37b88044e0f2",
            "aff238df6a6c426c8e81ac2da8b2ba23",
            "8393bf32228844d6962b39c596ee775c",
            "1c9fa1111e744812805237298a9d707b",
            "3aa7d042817041eb834291ca753548fa",
            "722a04e735134debaad95309fdf85fde",
            "86489a6e9edf4a75a3f5feb3c3aab8d7",
            "5c5b64fd58224b6583fdab8071cfe613",
            "71647c09afaa41be8c9a56ca28277d59",
            "5a5a389e9dc143e288561c1b99652467",
            "6f7895d8c368421a8ac9beb36a549c67",
            "eaf2c0dccbd0486a80a726b52714a2b7",
            "71c69c2f422f48d9aba7b7d91c0e97a5",
            "613eab6abd954042bff7e251d382c8a4",
            "274f9cb055e341109c73e1bc246eeee4",
            "8b0333bcaa534ab498f12b2868101fd4",
            "b178ddc9cae94fbba221a6615735db81",
            "e65e6c462f8044e98a2f9109b342034b",
            "e503f51a9fc642ba958b1f6941666b2d",
            "dac4bfa4957348c4b9a7555b3819c9e6",
            "8d00cc9c927b4f868f7b71a8f288e7c5",
            "57acd66277b546a0ae19764b177962f8",
            "ff998f6efe5646b7acef0891850c512a",
            "641afa8df1c14b79ab9564eef64a749e",
            "84750f36300042c69e921e17c96a0edf",
            "3da9767c0f8a4c5096b4804cec015ed7"
          ]
        },
        "id": "wv-WCovI7KGc",
        "outputId": "87167076-c085-4611-da62-6b67b6f90ad3"
      },
      "outputs": [
        {
          "data": {
            "application/vnd.jupyter.widget-view+json": {
              "model_id": "f759f6dfd96444c1b448a303c6fca51c",
              "version_major": 2,
              "version_minor": 0
            },
            "text/plain": [
              "Downloading:   0%|          | 0.00/899k [00:00<?, ?B/s]"
            ]
          },
          "metadata": {},
          "output_type": "display_data"
        },
        {
          "data": {
            "application/vnd.jupyter.widget-view+json": {
              "model_id": "11ca8a0679db4732a662c6a7ffe85a75",
              "version_major": 2,
              "version_minor": 0
            },
            "text/plain": [
              "Downloading:   0%|          | 0.00/456k [00:00<?, ?B/s]"
            ]
          },
          "metadata": {},
          "output_type": "display_data"
        },
        {
          "data": {
            "application/vnd.jupyter.widget-view+json": {
              "model_id": "a2734f475d3040a2a559b54b63424aa9",
              "version_major": 2,
              "version_minor": 0
            },
            "text/plain": [
              "Downloading:   0%|          | 0.00/150 [00:00<?, ?B/s]"
            ]
          },
          "metadata": {},
          "output_type": "display_data"
        },
        {
          "data": {
            "application/vnd.jupyter.widget-view+json": {
              "model_id": "f6df77d09c89461aa46a162c327caa14",
              "version_major": 2,
              "version_minor": 0
            },
            "text/plain": [
              "Downloading:   0%|          | 0.00/25.0 [00:00<?, ?B/s]"
            ]
          },
          "metadata": {},
          "output_type": "display_data"
        },
        {
          "data": {
            "application/vnd.jupyter.widget-view+json": {
              "model_id": "3aa7d042817041eb834291ca753548fa",
              "version_major": 2,
              "version_minor": 0
            },
            "text/plain": [
              "Downloading:   0%|          | 0.00/498 [00:00<?, ?B/s]"
            ]
          },
          "metadata": {},
          "output_type": "display_data"
        },
        {
          "data": {
            "application/vnd.jupyter.widget-view+json": {
              "model_id": "8b0333bcaa534ab498f12b2868101fd4",
              "version_major": 2,
              "version_minor": 0
            },
            "text/plain": [
              "Downloading:   0%|          | 0.00/499M [00:00<?, ?B/s]"
            ]
          },
          "metadata": {},
          "output_type": "display_data"
        },
        {
          "name": "stderr",
          "output_type": "stream",
          "text": [
            "Some weights of the model checkpoint at microsoft/codebert-base were not used when initializing RobertaForSequenceClassification: ['pooler.dense.weight', 'pooler.dense.bias']\n",
            "- This IS expected if you are initializing RobertaForSequenceClassification from the checkpoint of a model trained on another task or with another architecture (e.g. initializing a BertForSequenceClassification model from a BertForPreTraining model).\n",
            "- This IS NOT expected if you are initializing RobertaForSequenceClassification from the checkpoint of a model that you expect to be exactly identical (initializing a BertForSequenceClassification model from a BertForSequenceClassification model).\n",
            "Some weights of RobertaForSequenceClassification were not initialized from the model checkpoint at microsoft/codebert-base and are newly initialized: ['classifier.dense.weight', 'classifier.out_proj.bias', 'classifier.out_proj.weight', 'classifier.dense.bias']\n",
            "You should probably TRAIN this model on a down-stream task to be able to use it for predictions and inference.\n"
          ]
        }
      ],
      "source": [
        "tokenizer = RobertaTokenizer.from_pretrained(\"microsoft/codebert-base\")\n",
        "model = RobertaForSequenceClassification.from_pretrained(\"microsoft/codebert-base\", num_labels=n_classes)"
      ]
    },
    {
      "cell_type": "code",
      "execution_count": 27,
      "id": "G2rZ2Xru7bL0",
      "metadata": {
        "id": "G2rZ2Xru7bL0"
      },
      "outputs": [],
      "source": [
        "class SnippetsDataset(torch.utils.data.Dataset):\n",
        "    def __init__(self, X, y):\n",
        "        self.data = X['code_block'].values\n",
        "        self.labels = torch.tensor(y.values).view((-1, 1))\n",
        "        return\n",
        "    \n",
        "    def __len__(self):\n",
        "        return len(self.labels)\n",
        "\n",
        "    def __getitem__(self, ind):\n",
        "        snippets = tokenizer.batch_encode_plus([self.data[ind]], add_special_tokens=True, padding='max_length', truncation=True, return_tensors='pt', max_length=512)\n",
        "        input_ids, attention_mask = snippets['input_ids'].squeeze(0), snippets['attention_mask'].squeeze(0)\n",
        "        labels = self.labels[ind]\n",
        "        return input_ids, attention_mask, labels"
      ]
    },
    {
      "cell_type": "code",
      "execution_count": 28,
      "id": "cbtTcX1r8A-W",
      "metadata": {
        "id": "cbtTcX1r8A-W"
      },
      "outputs": [],
      "source": [
        "BATCH_SIZE = 16\n",
        "\n",
        "train_dataset = SnippetsDataset(X_train, y_train)\n",
        "test_dataset = SnippetsDataset(X_test, y_test)\n",
        "val_dataset = SnippetsDataset(X_val, y_val)\n",
        "\n",
        "train_loader = torch.utils.data.DataLoader(train_dataset, batch_size=BATCH_SIZE, shuffle=True)\n",
        "test_loader = torch.utils.data.DataLoader(test_dataset, batch_size=BATCH_SIZE)\n",
        "val_loader = torch.utils.data.DataLoader(val_dataset, batch_size=BATCH_SIZE)"
      ]
    },
    {
      "cell_type": "code",
      "execution_count": 29,
      "id": "9_t0_4fL8FJ_",
      "metadata": {
        "id": "9_t0_4fL8FJ_"
      },
      "outputs": [],
      "source": [
        "def train(model, optimizer, data_loader, loss_function):\n",
        "    model.train()\n",
        "    loss_sum = 0\n",
        "    pbar = tqdm(data_loader)\n",
        "    true_labels = np.array([])\n",
        "    pred_labels = np.array([])\n",
        "    for input_ids, attention_mask, labels in pbar:\n",
        "        input_ids, attention_mask, labels = input_ids.to(device), attention_mask.to(device), labels.to(device).squeeze(-1)\n",
        "        logits = model(input_ids, attention_mask)['logits']\n",
        "        \n",
        "        loss = loss_function(logits, labels)\n",
        "        optimizer.zero_grad()\n",
        "        loss.backward()\n",
        "        loss_sum += loss.item() * labels.shape[0]\n",
        "        optimizer.step()\n",
        "\n",
        "        ids = F.softmax(logits, dim=-1).argmax(dim=-1).cpu().numpy()\n",
        "        labels = labels.cpu().numpy()\n",
        "        true_labels = np.hstack((true_labels, labels)) if true_labels.size else labels \n",
        "        pred_labels = np.hstack((pred_labels, ids)) if pred_labels.size else ids \n",
        "        \n",
        "        accuracy = accuracy_score(true_labels, pred_labels)\n",
        "        f1 = f1_score(true_labels, pred_labels, average='weighted')\n",
        "        pbar.set_description(\"accuracy on batch %f f1 on batch %f loss on batch %f\" % (accuracy, f1, loss.item()))\n",
        "    return accuracy, f1, loss_sum / len(data_loader.dataset)\n",
        "\n",
        "def test(model, data_loader, loss_function):\n",
        "    model.eval()\n",
        "    true_labels = np.array([])\n",
        "    pred_labels = np.array([]) \n",
        "    loss_sum = 0\n",
        "    pbar = tqdm(data_loader)\n",
        "    for input_ids, attention_mask, labels in pbar:\n",
        "        input_ids, attention_mask, labels = input_ids.to(device), attention_mask.to(device), labels.to(device).squeeze(-1)\n",
        "        with torch.inference_mode():\n",
        "            logits = model(input_ids, attention_mask)['logits']\n",
        "        loss = loss_function(logits, labels)\n",
        "        loss_sum += loss.item() * labels.shape[0]\n",
        "        ids = F.softmax(logits, dim=-1).argmax(dim=-1).cpu().numpy()\n",
        "        labels = labels.cpu().numpy()\n",
        "        true_labels = np.hstack((true_labels, labels)) if true_labels.size else labels \n",
        "        pred_labels = np.hstack((pred_labels, ids)) if pred_labels.size else ids \n",
        "        accuracy = accuracy_score(true_labels, pred_labels)\n",
        "        f1 = f1_score(true_labels, pred_labels, average='weighted')\n",
        "        \n",
        "        pbar.set_description(\"accuracy on batch %f f1 on batch %f loss on batch %f\" % (accuracy, f1, loss.item()))\n",
        "    return accuracy, f1, loss_sum / len(data_loader.dataset)\n",
        "\n",
        "def classification(model, optimizer, loss_function, train_loader, val_loader, test_loader, num_epochs, scheduler=None):\n",
        "    val_ac, val_f1, val_loss, train_ac, train_f1, train_loss, test_ac, test_f1, test_loss = [], [], [], [], [] ,[], [], [], []\n",
        "\n",
        "    for i in range(1, num_epochs + 1):\n",
        "\n",
        "        tr_ac, tr_f1, tr_l = train(model, optimizer, train_loader, loss_function) \n",
        "        train_ac.append(tr_ac)\n",
        "        train_f1.append(tr_f1)\n",
        "        train_loss.append(tr_l) \n",
        "        v_ac, v_f1, v_l = test(model, val_loader, loss_function)\n",
        "        val_ac.append(v_ac) \n",
        "        val_f1.append(v_f1)\n",
        "        val_loss.append(v_l)\n",
        "        t_ac, t_f1, t_l = test(model, test_loader, loss_function)\n",
        "        test_ac.append(t_ac) \n",
        "        test_f1.append(t_f1)\n",
        "        test_loss.append(t_l)\n",
        "        \n",
        "        fig, ax = plt.subplots(1, 3, figsize=(22,6))\n",
        "        \n",
        "        ax[0].plot(np.arange(1, i + 1), val_ac, color=\"#67E46F\", label='Val accuracy') \n",
        "        ax[0].plot(np.arange(1, i + 1), train_ac, color=\"#CB60D3\", label='Train accuracy')\n",
        "        ax[0].plot(np.arange(1, i + 1), test_ac, color=\"#E969A8\", label='Test accuracy')\n",
        "\n",
        "        ax[1].plot(np.arange(1, i + 1), val_f1, color=\"#67E46F\", label='Val f1') \n",
        "        ax[1].plot(np.arange(1, i + 1), train_f1, color=\"#CB60D3\", label='Train f1')\n",
        "        ax[1].plot(np.arange(1, i + 1), test_f1, color=\"#E969A8\", label='Test f1')\n",
        "        \n",
        "        ax[2].plot(np.arange(1, i + 1), val_loss, color=\"#67E46F\", label='Val loss') \n",
        "        ax[2].plot(np.arange(1, i + 1), train_loss,  color=\"#CB60D3\", label='Train loss')\n",
        "        ax[2].plot(np.arange(1, i + 1), test_loss, color=\"#E969A8\", label='Test loss')\n",
        "        \n",
        "        \n",
        "        ax[0].set_ylabel('Accuracy')\n",
        "        ax[0].set_xlabel('Epoch')\n",
        "        ax[0].legend()\n",
        "        ax[1].set_ylabel('F1 score')\n",
        "        ax[1].set_xlabel('Epoch')\n",
        "        ax[1].legend()\n",
        "        ax[2].legend()\n",
        "        ax[2].set_ylabel('Loss')\n",
        "        ax[2].set_xlabel('Epoch')\n",
        "        clear_output(True)\n",
        "        plt.show()\n",
        "        print('MAX TEST ACCURACY: ', max(test_ac))\n",
        "        print('MAX VAL ACCURACY: ', max(val_ac))\n",
        "        print('MAX TEST F1: ', max(test_f1))\n",
        "        print('MAX VAL F1: ', max(val_f1))\n",
        "        print(tr_f1, v_f1, t_f1)\n",
        "        if scheduler is not None:\n",
        "            scheduler.step()\n",
        "    return val_ac, val_f1, val_loss, train_ac, train_f1, train_loss, test_ac, test_f1, test_loss    "
      ]
    },
    {
      "cell_type": "code",
      "execution_count": 30,
      "id": "Vvy6WPUoLVQD",
      "metadata": {
        "id": "Vvy6WPUoLVQD"
      },
      "outputs": [],
      "source": [
        "model = model.to(device)\n",
        "criterion = nn.CrossEntropyLoss()\n",
        "optimizer = torch.optim.AdamW(model.parameters(), lr=0.00007)\n",
        "scheduler = torch.optim.lr_scheduler.StepLR(optimizer, step_size=10, gamma=0.1)"
      ]
    },
    {
      "cell_type": "code",
      "execution_count": 31,
      "id": "_NuPVqEBLmsa",
      "metadata": {
        "colab": {
          "base_uri": "https://localhost:8080/",
          "height": 484
        },
        "id": "_NuPVqEBLmsa",
        "outputId": "d40bf1fa-4bcb-41ea-fbb0-5b49ad81cf26"
      },
      "outputs": [
        {
          "data": {
            "image/png": "[encoded data removed]",
            "text/plain": [
              "<Figure size 1584x432 with 3 Axes>"
            ]
          },
          "metadata": {
            "image/png": {
              "height": 376,
              "width": 1285
            }
          },
          "output_type": "display_data"
        },
        {
          "name": "stdout",
          "output_type": "stream",
          "text": [
            "MAX TEST ACCURACY:  0.7472100921882582\n",
            "MAX VAL ACCURACY:  0.7335945151811949\n",
            "MAX TEST F1:  0.7102517821667467\n",
            "MAX VAL F1:  0.6975510891497998\n",
            "0.9976553136831197 0.6975510891497998 0.7102517821667467\n"
          ]
        }
      ],
      "source": [
        "val_ac, val_f1, val_loss, train_ac, train_f1, train_loss, test_ac, test_f1, test_loss = classification(model, optimizer, criterion, train_loader, val_loader, test_loader, 20)"
      ]
    },
    {
      "cell_type": "markdown",
      "id": "79MgDbRPbjNN",
      "metadata": {
        "id": "79MgDbRPbjNN"
      },
      "source": [
        "# Save model"
      ]
    },
    {
      "cell_type": "code",
      "execution_count": null,
      "id": "_6NwAnpdgQY6",
      "metadata": {
        "colab": {
          "base_uri": "https://localhost:8080/"
        },
        "id": "_6NwAnpdgQY6",
        "outputId": "2606da7e-02bc-4800-de8f-2aa24242f7ff"
      },
      "outputs": [
        {
          "name": "stdout",
          "output_type": "stream",
          "text": [
            "Mounted at /content/drive\n"
          ]
        }
      ],
      "source": [
        "from google.colab import drive\n",
        "drive.mount('/content/drive')"
      ]
    },
    {
      "cell_type": "code",
      "execution_count": null,
      "id": "yyDBWt8XHY9b",
      "metadata": {
        "id": "yyDBWt8XHY9b"
      },
      "outputs": [],
      "source": [
        "model.save_pretrained(\"/content/drive/MyDrive/model\")"
      ]
    },
    {
      "cell_type": "markdown",
      "id": "OlUB5S_Ebl6E",
      "metadata": {
        "id": "OlUB5S_Ebl6E"
      },
      "source": [
        "# Predictions on all data"
      ]
    },
    {
      "cell_type": "code",
      "execution_count": null,
      "id": "bbFd8QKJMY3H",
      "metadata": {
        "colab": {
          "base_uri": "https://localhost:8080/"
        },
        "id": "bbFd8QKJMY3H",
        "outputId": "b823c026-7c48-43cf-d323-5d8aa450e2a2"
      },
      "outputs": [
        {
          "name": "stderr",
          "output_type": "stream",
          "text": [
            "5152it [02:55, 29.39it/s]\n"
          ]
        }
      ],
      "source": [
        "model.eval()\n",
        "res = dml.copy()\n",
        "res['type'] = '*'\n",
        "res['predicted_graph_vertex_id'] = '*'\n",
        "res['predicted_graph_vertex_prob'] = '*'\n",
        "for ind, row in tqdm(dml.iterrows()):\n",
        "    if ind in X_train.index:\n",
        "        res.loc[ind, 'type'] = 'train'\n",
        "    elif ind in X_test.index:\n",
        "        res.loc[ind, 'type'] = 'test'\n",
        "    else:\n",
        "        res.loc[ind, 'type'] = 'val'\n",
        "    \n",
        "    snippet = preprocess_snippet(row['code_block'])\n",
        "    snippet = tokenizer.batch_encode_plus([snippet], add_special_tokens=True, padding='max_length', truncation=True, return_tensors='pt', max_length=512)\n",
        "    input_ids, attention_mask = snippet['input_ids'], snippet['attention_mask']\n",
        "    input_ids, attention_mask = input_ids.to(device), attention_mask.to(device)\n",
        "    with torch.inference_mode():\n",
        "        logits = model(input_ids, attention_mask)['logits']\n",
        "    vertex = F.softmax(logits, dim=-1).argmax(dim=-1).item()\n",
        "    prob = F.softmax(logits, dim=-1).max(dim=-1)[0].item()\n",
        "    res.loc[ind, 'predicted_graph_vertex_id'] = vertex\n",
        "    res.loc[ind, 'predicted_graph_vertex_prob'] = prob"
      ]
    },
    {
      "cell_type": "code",
      "execution_count": null,
      "id": "-VmxFPlxQfXd",
      "metadata": {
        "colab": {
          "base_uri": "https://localhost:8080/",
          "height": 424
        },
        "id": "-VmxFPlxQfXd",
        "outputId": "288b829b-7fab-4871-a1f9-fb64fdf1421e"
      },
      "outputs": [
        {
          "data": {
            "text/html": [
              "\n",
              "  <div id=\"df-936255d6-32fb-4096-ad94-36072847aa0d\">\n",
              "    <div class=\"colab-df-container\">\n",
              "      <div>\n",
              "<style scoped>\n",
              "    .dataframe tbody tr th:only-of-type {\n",
              "        vertical-align: middle;\n",
              "    }\n",
              "\n",
              "    .dataframe tbody tr th {\n",
              "        vertical-align: top;\n",
              "    }\n",
              "\n",
              "    .dataframe thead th {\n",
              "        text-align: right;\n",
              "    }\n",
              "</style>\n",
              "<table border=\"1\" class=\"dataframe\">\n",
              "  <thead>\n",
              "    <tr style=\"text-align: right;\">\n",
              "      <th></th>\n",
              "      <th>code_block</th>\n",
              "      <th>too_long</th>\n",
              "      <th>marks</th>\n",
              "      <th>graph_vertex_id</th>\n",
              "      <th>type</th>\n",
              "      <th>predicted_graph_vertex_id</th>\n",
              "      <th>predicted_graph_vertex_prob</th>\n",
              "    </tr>\n",
              "  </thead>\n",
              "  <tbody>\n",
              "    <tr>\n",
              "      <th>3149</th>\n",
              "      <td>#Sorting values\\ns_corr_list = sorted(corr_lis...</td>\n",
              "      <td>Yes</td>\n",
              "      <td>5</td>\n",
              "      <td>9.0</td>\n",
              "      <td>train</td>\n",
              "      <td>8</td>\n",
              "      <td>0.983497</td>\n",
              "    </tr>\n",
              "    <tr>\n",
              "      <th>2308</th>\n",
              "      <td>fig, ax = plt.subplots(5, 1, figsize=(15,10))\\...</td>\n",
              "      <td>No</td>\n",
              "      <td>5</td>\n",
              "      <td>75.0</td>\n",
              "      <td>train</td>\n",
              "      <td>54</td>\n",
              "      <td>0.978435</td>\n",
              "    </tr>\n",
              "    <tr>\n",
              "      <th>4791</th>\n",
              "      <td># Prepare Data for Submission to Kaggle\\ndf_te...</td>\n",
              "      <td>No</td>\n",
              "      <td>5</td>\n",
              "      <td>45.0</td>\n",
              "      <td>train</td>\n",
              "      <td>37</td>\n",
              "      <td>0.999108</td>\n",
              "    </tr>\n",
              "    <tr>\n",
              "      <th>1699</th>\n",
              "      <td># Promo\\n\\n# Plot average sales &amp; customers wi...</td>\n",
              "      <td>No</td>\n",
              "      <td>5</td>\n",
              "      <td>33.0</td>\n",
              "      <td>train</td>\n",
              "      <td>28</td>\n",
              "      <td>0.996597</td>\n",
              "    </tr>\n",
              "    <tr>\n",
              "      <th>7494</th>\n",
              "      <td>df[\"radial60\"]=np.sqrt(np.power(df[\\'rot60_X\\'...</td>\n",
              "      <td>No</td>\n",
              "      <td>5</td>\n",
              "      <td>8.0</td>\n",
              "      <td>val</td>\n",
              "      <td>7</td>\n",
              "      <td>0.997014</td>\n",
              "    </tr>\n",
              "    <tr>\n",
              "      <th>...</th>\n",
              "      <td>...</td>\n",
              "      <td>...</td>\n",
              "      <td>...</td>\n",
              "      <td>...</td>\n",
              "      <td>...</td>\n",
              "      <td>...</td>\n",
              "      <td>...</td>\n",
              "    </tr>\n",
              "    <tr>\n",
              "      <th>7071</th>\n",
              "      <td>lr = LinearRegression()</td>\n",
              "      <td>No</td>\n",
              "      <td>5</td>\n",
              "      <td>4.0</td>\n",
              "      <td>test</td>\n",
              "      <td>3</td>\n",
              "      <td>0.996285</td>\n",
              "    </tr>\n",
              "    <tr>\n",
              "      <th>724</th>\n",
              "      <td>from sklearn.model_selection import GridSearch...</td>\n",
              "      <td>No</td>\n",
              "      <td>5</td>\n",
              "      <td>22.0</td>\n",
              "      <td>test</td>\n",
              "      <td>21</td>\n",
              "      <td>0.999025</td>\n",
              "    </tr>\n",
              "    <tr>\n",
              "      <th>4991</th>\n",
              "      <td>%%time\\nevent_type=pd.read_csv(\"../input/event...</td>\n",
              "      <td>No</td>\n",
              "      <td>5</td>\n",
              "      <td>45.0</td>\n",
              "      <td>test</td>\n",
              "      <td>37</td>\n",
              "      <td>0.999209</td>\n",
              "    </tr>\n",
              "    <tr>\n",
              "      <th>6073</th>\n",
              "      <td>y_dat.rename(columns = {'0':'medium', '1':'low...</td>\n",
              "      <td>No</td>\n",
              "      <td>5</td>\n",
              "      <td>61.0</td>\n",
              "      <td>train</td>\n",
              "      <td>49</td>\n",
              "      <td>0.992602</td>\n",
              "    </tr>\n",
              "    <tr>\n",
              "      <th>1377</th>\n",
              "      <td>len(train_merge.columns)</td>\n",
              "      <td>No</td>\n",
              "      <td>5</td>\n",
              "      <td>40.0</td>\n",
              "      <td>test</td>\n",
              "      <td>51</td>\n",
              "      <td>0.954394</td>\n",
              "    </tr>\n",
              "  </tbody>\n",
              "</table>\n",
              "<p>5152 rows × 7 columns</p>\n",
              "</div>\n",
              "      <button class=\"colab-df-convert\" onclick=\"convertToInteractive('df-936255d6-32fb-4096-ad94-36072847aa0d')\"\n",
              "              title=\"Convert this dataframe to an interactive table.\"\n",
              "              style=\"display:none;\">\n",
              "        \n",
              "  <svg xmlns=\"http://www.w3.org/2000/svg\" height=\"24px\"viewBox=\"0 0 24 24\"\n",
              "       width=\"24px\">\n",
              "    <path d=\"M0 0h24v24H0V0z\" fill=\"none\"/>\n",
              "    <path d=\"M18.56 5.44l.94 2.06.94-2.06 2.06-.94-2.06-.94-.94-2.06-.94 2.06-2.06.94zm-11 1L8.5 8.5l.94-2.06 2.06-.94-2.06-.94L8.5 2.5l-.94 2.06-2.06.94zm10 10l.94 2.06.94-2.06 2.06-.94-2.06-.94-.94-2.06-.94 2.06-2.06.94z\"/><path d=\"M17.41 7.96l-1.37-1.37c-.4-.4-.92-.59-1.43-.59-.52 0-1.04.2-1.43.59L10.3 9.45l-7.72 7.72c-.78.78-.78 2.05 0 2.83L4 21.41c.39.39.9.59 1.41.59.51 0 1.02-.2 1.41-.59l7.78-7.78 2.81-2.81c.8-.78.8-2.07 0-2.86zM5.41 20L4 18.59l7.72-7.72 1.47 1.35L5.41 20z\"/>\n",
              "  </svg>\n",
              "      </button>\n",
              "      \n",
              "  <style>\n",
              "    .colab-df-container {\n",
              "      display:flex;\n",
              "      flex-wrap:wrap;\n",
              "      gap: 12px;\n",
              "    }\n",
              "\n",
              "    .colab-df-convert {\n",
              "      background-color: #E8F0FE;\n",
              "      border: none;\n",
              "      border-radius: 50%;\n",
              "      cursor: pointer;\n",
              "      display: none;\n",
              "      fill: #1967D2;\n",
              "      height: 32px;\n",
              "      padding: 0 0 0 0;\n",
              "      width: 32px;\n",
              "    }\n",
              "\n",
              "    .colab-df-convert:hover {\n",
              "      background-color: #E2EBFA;\n",
              "      box-shadow: 0px 1px 2px rgba(60, 64, 67, 0.3), 0px 1px 3px 1px rgba(60, 64, 67, 0.15);\n",
              "      fill: #174EA6;\n",
              "    }\n",
              "\n",
              "    [theme=dark] .colab-df-convert {\n",
              "      background-color: #3B4455;\n",
              "      fill: #D2E3FC;\n",
              "    }\n",
              "\n",
              "    [theme=dark] .colab-df-convert:hover {\n",
              "      background-color: #434B5C;\n",
              "      box-shadow: 0px 1px 3px 1px rgba(0, 0, 0, 0.15);\n",
              "      filter: drop-shadow(0px 1px 2px rgba(0, 0, 0, 0.3));\n",
              "      fill: #FFFFFF;\n",
              "    }\n",
              "  </style>\n",
              "\n",
              "      <script>\n",
              "        const buttonEl =\n",
              "          document.querySelector('#df-936255d6-32fb-4096-ad94-36072847aa0d button.colab-df-convert');\n",
              "        buttonEl.style.display =\n",
              "          google.colab.kernel.accessAllowed ? 'block' : 'none';\n",
              "\n",
              "        async function convertToInteractive(key) {\n",
              "          const element = document.querySelector('#df-936255d6-32fb-4096-ad94-36072847aa0d');\n",
              "          const dataTable =\n",
              "            await google.colab.kernel.invokeFunction('convertToInteractive',\n",
              "                                                     [key], {});\n",
              "          if (!dataTable) return;\n",
              "\n",
              "          const docLinkHtml = 'Like what you see? Visit the ' +\n",
              "            '<a target=\"_blank\" href=https://colab.research.google.com/notebooks/data_table.ipynb>data table notebook</a>'\n",
              "            + ' to learn more about interactive tables.';\n",
              "          element.innerHTML = '';\n",
              "          dataTable['output_type'] = 'display_data';\n",
              "          await google.colab.output.renderOutput(dataTable, element);\n",
              "          const docLink = document.createElement('div');\n",
              "          docLink.innerHTML = docLinkHtml;\n",
              "          element.appendChild(docLink);\n",
              "        }\n",
              "      </script>\n",
              "    </div>\n",
              "  </div>\n",
              "  "
            ],
            "text/plain": [
              "                                             code_block too_long  marks  \\\n",
              "3149  #Sorting values\\ns_corr_list = sorted(corr_lis...      Yes      5   \n",
              "2308  fig, ax = plt.subplots(5, 1, figsize=(15,10))\\...       No      5   \n",
              "4791  # Prepare Data for Submission to Kaggle\\ndf_te...       No      5   \n",
              "1699  # Promo\\n\\n# Plot average sales & customers wi...       No      5   \n",
              "7494  df[\"radial60\"]=np.sqrt(np.power(df[\\'rot60_X\\'...       No      5   \n",
              "...                                                 ...      ...    ...   \n",
              "7071                            lr = LinearRegression()       No      5   \n",
              "724   from sklearn.model_selection import GridSearch...       No      5   \n",
              "4991  %%time\\nevent_type=pd.read_csv(\"../input/event...       No      5   \n",
              "6073  y_dat.rename(columns = {'0':'medium', '1':'low...       No      5   \n",
              "1377                           len(train_merge.columns)       No      5   \n",
              "\n",
              "      graph_vertex_id   type predicted_graph_vertex_id  \\\n",
              "3149              9.0  train                         8   \n",
              "2308             75.0  train                        54   \n",
              "4791             45.0  train                        37   \n",
              "1699             33.0  train                        28   \n",
              "7494              8.0    val                         7   \n",
              "...               ...    ...                       ...   \n",
              "7071              4.0   test                         3   \n",
              "724              22.0   test                        21   \n",
              "4991             45.0   test                        37   \n",
              "6073             61.0  train                        49   \n",
              "1377             40.0   test                        51   \n",
              "\n",
              "     predicted_graph_vertex_prob  \n",
              "3149                    0.983497  \n",
              "2308                    0.978435  \n",
              "4791                    0.999108  \n",
              "1699                    0.996597  \n",
              "7494                    0.997014  \n",
              "...                          ...  \n",
              "7071                    0.996285  \n",
              "724                     0.999025  \n",
              "4991                    0.999209  \n",
              "6073                    0.992602  \n",
              "1377                    0.954394  \n",
              "\n",
              "[5152 rows x 7 columns]"
            ]
          },
          "execution_count": 28,
          "metadata": {},
          "output_type": "execute_result"
        }
      ],
      "source": [
        "res"
      ]
    },
    {
      "cell_type": "code",
      "execution_count": null,
      "id": "XK9hsTMMTKXS",
      "metadata": {
        "id": "XK9hsTMMTKXS"
      },
      "outputs": [],
      "source": [
        "res['markup_index'] = res.index\n",
        "res.to_csv('clear_markup_data_with_predictions.csv', index=False)"
      ]
    },
    {
      "cell_type": "code",
      "execution_count": null,
      "id": "khNPv6azS2cU",
      "metadata": {
        "colab": {
          "base_uri": "https://localhost:8080/",
          "height": 206
        },
        "id": "khNPv6azS2cU",
        "outputId": "a3b239ec-bb80-414d-bcdc-daa84be437f0"
      },
      "outputs": [
        {
          "data": {
            "text/html": [
              "\n",
              "  <div id=\"df-78fc1400-8eda-4288-b69a-bab7ebff0499\">\n",
              "    <div class=\"colab-df-container\">\n",
              "      <div>\n",
              "<style scoped>\n",
              "    .dataframe tbody tr th:only-of-type {\n",
              "        vertical-align: middle;\n",
              "    }\n",
              "\n",
              "    .dataframe tbody tr th {\n",
              "        vertical-align: top;\n",
              "    }\n",
              "\n",
              "    .dataframe thead th {\n",
              "        text-align: right;\n",
              "    }\n",
              "</style>\n",
              "<table border=\"1\" class=\"dataframe\">\n",
              "  <thead>\n",
              "    <tr style=\"text-align: right;\">\n",
              "      <th></th>\n",
              "      <th>code_block</th>\n",
              "      <th>too_long</th>\n",
              "      <th>marks</th>\n",
              "      <th>graph_vertex_id</th>\n",
              "      <th>type</th>\n",
              "      <th>predicted_graph_vertex_id</th>\n",
              "      <th>predicted_graph_vertex_prob</th>\n",
              "      <th>markup_index</th>\n",
              "    </tr>\n",
              "  </thead>\n",
              "  <tbody>\n",
              "    <tr>\n",
              "      <th>0</th>\n",
              "      <td>#Sorting values\\ns_corr_list = sorted(corr_lis...</td>\n",
              "      <td>Yes</td>\n",
              "      <td>5</td>\n",
              "      <td>9.0</td>\n",
              "      <td>train</td>\n",
              "      <td>8</td>\n",
              "      <td>0.983497</td>\n",
              "      <td>3149</td>\n",
              "    </tr>\n",
              "    <tr>\n",
              "      <th>1</th>\n",
              "      <td>fig, ax = plt.subplots(5, 1, figsize=(15,10))\\...</td>\n",
              "      <td>No</td>\n",
              "      <td>5</td>\n",
              "      <td>75.0</td>\n",
              "      <td>train</td>\n",
              "      <td>54</td>\n",
              "      <td>0.978435</td>\n",
              "      <td>2308</td>\n",
              "    </tr>\n",
              "    <tr>\n",
              "      <th>2</th>\n",
              "      <td># Prepare Data for Submission to Kaggle\\ndf_te...</td>\n",
              "      <td>No</td>\n",
              "      <td>5</td>\n",
              "      <td>45.0</td>\n",
              "      <td>train</td>\n",
              "      <td>37</td>\n",
              "      <td>0.999108</td>\n",
              "      <td>4791</td>\n",
              "    </tr>\n",
              "    <tr>\n",
              "      <th>3</th>\n",
              "      <td># Promo\\n\\n# Plot average sales &amp; customers wi...</td>\n",
              "      <td>No</td>\n",
              "      <td>5</td>\n",
              "      <td>33.0</td>\n",
              "      <td>train</td>\n",
              "      <td>28</td>\n",
              "      <td>0.996597</td>\n",
              "      <td>1699</td>\n",
              "    </tr>\n",
              "    <tr>\n",
              "      <th>4</th>\n",
              "      <td>df[\"radial60\"]=np.sqrt(np.power(df[\\'rot60_X\\'...</td>\n",
              "      <td>No</td>\n",
              "      <td>5</td>\n",
              "      <td>8.0</td>\n",
              "      <td>val</td>\n",
              "      <td>7</td>\n",
              "      <td>0.997014</td>\n",
              "      <td>7494</td>\n",
              "    </tr>\n",
              "  </tbody>\n",
              "</table>\n",
              "</div>\n",
              "      <button class=\"colab-df-convert\" onclick=\"convertToInteractive('df-78fc1400-8eda-4288-b69a-bab7ebff0499')\"\n",
              "              title=\"Convert this dataframe to an interactive table.\"\n",
              "              style=\"display:none;\">\n",
              "        \n",
              "  <svg xmlns=\"http://www.w3.org/2000/svg\" height=\"24px\"viewBox=\"0 0 24 24\"\n",
              "       width=\"24px\">\n",
              "    <path d=\"M0 0h24v24H0V0z\" fill=\"none\"/>\n",
              "    <path d=\"M18.56 5.44l.94 2.06.94-2.06 2.06-.94-2.06-.94-.94-2.06-.94 2.06-2.06.94zm-11 1L8.5 8.5l.94-2.06 2.06-.94-2.06-.94L8.5 2.5l-.94 2.06-2.06.94zm10 10l.94 2.06.94-2.06 2.06-.94-2.06-.94-.94-2.06-.94 2.06-2.06.94z\"/><path d=\"M17.41 7.96l-1.37-1.37c-.4-.4-.92-.59-1.43-.59-.52 0-1.04.2-1.43.59L10.3 9.45l-7.72 7.72c-.78.78-.78 2.05 0 2.83L4 21.41c.39.39.9.59 1.41.59.51 0 1.02-.2 1.41-.59l7.78-7.78 2.81-2.81c.8-.78.8-2.07 0-2.86zM5.41 20L4 18.59l7.72-7.72 1.47 1.35L5.41 20z\"/>\n",
              "  </svg>\n",
              "      </button>\n",
              "      \n",
              "  <style>\n",
              "    .colab-df-container {\n",
              "      display:flex;\n",
              "      flex-wrap:wrap;\n",
              "      gap: 12px;\n",
              "    }\n",
              "\n",
              "    .colab-df-convert {\n",
              "      background-color: #E8F0FE;\n",
              "      border: none;\n",
              "      border-radius: 50%;\n",
              "      cursor: pointer;\n",
              "      display: none;\n",
              "      fill: #1967D2;\n",
              "      height: 32px;\n",
              "      padding: 0 0 0 0;\n",
              "      width: 32px;\n",
              "    }\n",
              "\n",
              "    .colab-df-convert:hover {\n",
              "      background-color: #E2EBFA;\n",
              "      box-shadow: 0px 1px 2px rgba(60, 64, 67, 0.3), 0px 1px 3px 1px rgba(60, 64, 67, 0.15);\n",
              "      fill: #174EA6;\n",
              "    }\n",
              "\n",
              "    [theme=dark] .colab-df-convert {\n",
              "      background-color: #3B4455;\n",
              "      fill: #D2E3FC;\n",
              "    }\n",
              "\n",
              "    [theme=dark] .colab-df-convert:hover {\n",
              "      background-color: #434B5C;\n",
              "      box-shadow: 0px 1px 3px 1px rgba(0, 0, 0, 0.15);\n",
              "      filter: drop-shadow(0px 1px 2px rgba(0, 0, 0, 0.3));\n",
              "      fill: #FFFFFF;\n",
              "    }\n",
              "  </style>\n",
              "\n",
              "      <script>\n",
              "        const buttonEl =\n",
              "          document.querySelector('#df-78fc1400-8eda-4288-b69a-bab7ebff0499 button.colab-df-convert');\n",
              "        buttonEl.style.display =\n",
              "          google.colab.kernel.accessAllowed ? 'block' : 'none';\n",
              "\n",
              "        async function convertToInteractive(key) {\n",
              "          const element = document.querySelector('#df-78fc1400-8eda-4288-b69a-bab7ebff0499');\n",
              "          const dataTable =\n",
              "            await google.colab.kernel.invokeFunction('convertToInteractive',\n",
              "                                                     [key], {});\n",
              "          if (!dataTable) return;\n",
              "\n",
              "          const docLinkHtml = 'Like what you see? Visit the ' +\n",
              "            '<a target=\"_blank\" href=https://colab.research.google.com/notebooks/data_table.ipynb>data table notebook</a>'\n",
              "            + ' to learn more about interactive tables.';\n",
              "          element.innerHTML = '';\n",
              "          dataTable['output_type'] = 'display_data';\n",
              "          await google.colab.output.renderOutput(dataTable, element);\n",
              "          const docLink = document.createElement('div');\n",
              "          docLink.innerHTML = docLinkHtml;\n",
              "          element.appendChild(docLink);\n",
              "        }\n",
              "      </script>\n",
              "    </div>\n",
              "  </div>\n",
              "  "
            ],
            "text/plain": [
              "                                          code_block too_long  marks  \\\n",
              "0  #Sorting values\\ns_corr_list = sorted(corr_lis...      Yes      5   \n",
              "1  fig, ax = plt.subplots(5, 1, figsize=(15,10))\\...       No      5   \n",
              "2  # Prepare Data for Submission to Kaggle\\ndf_te...       No      5   \n",
              "3  # Promo\\n\\n# Plot average sales & customers wi...       No      5   \n",
              "4  df[\"radial60\"]=np.sqrt(np.power(df[\\'rot60_X\\'...       No      5   \n",
              "\n",
              "   graph_vertex_id   type  predicted_graph_vertex_id  \\\n",
              "0              9.0  train                          8   \n",
              "1             75.0  train                         54   \n",
              "2             45.0  train                         37   \n",
              "3             33.0  train                         28   \n",
              "4              8.0    val                          7   \n",
              "\n",
              "   predicted_graph_vertex_prob  markup_index  \n",
              "0                     0.983497          3149  \n",
              "1                     0.978435          2308  \n",
              "2                     0.999108          4791  \n",
              "3                     0.996597          1699  \n",
              "4                     0.997014          7494  "
            ]
          },
          "execution_count": 30,
          "metadata": {},
          "output_type": "execute_result"
        }
      ],
      "source": [
        "res_c = pd.read_csv('clear_markup_data_with_predictions.csv')\n",
        "res_c.head()"
      ]
    },
    {
      "cell_type": "markdown",
      "id": "XUXO2VEXbv4h",
      "metadata": {
        "id": "XUXO2VEXbv4h"
      },
      "source": [
        "# Metrics analysis"
      ]
    },
    {
      "cell_type": "code",
      "execution_count": 32,
      "id": "0Wc4X3w_SNYl",
      "metadata": {
        "colab": {
          "base_uri": "https://localhost:8080/",
          "height": 393
        },
        "id": "0Wc4X3w_SNYl",
        "outputId": "1d0b0eb3-c07d-4d82-e741-271589955485"
      },
      "outputs": [
        {
          "data": {
            "image/png": "[encoded data removed]",
            "text/plain": [
              "<Figure size 1584x432 with 3 Axes>"
            ]
          },
          "metadata": {
            "image/png": {
              "height": 376,
              "width": 1285
            }
          },
          "output_type": "display_data"
        },
        {
          "data": {
            "application/javascript": "\n    async function download(id, filename, size) {\n      if (!google.colab.kernel.accessAllowed) {\n        return;\n      }\n      const div = document.createElement('div');\n      const label = document.createElement('label');\n      label.textContent = `Downloading \"${filename}\": `;\n      div.appendChild(label);\n      const progress = document.createElement('progress');\n      progress.max = size;\n      div.appendChild(progress);\n      document.body.appendChild(div);\n\n      const buffers = [];\n      let downloaded = 0;\n\n      const channel = await google.colab.kernel.comms.open(id);\n      // Send a message to notify the kernel that we're ready.\n      channel.send({})\n\n      for await (const message of channel.messages) {\n        // Send a message to notify the kernel that we're ready.\n        channel.send({})\n        if (message.buffers) {\n          for (const buffer of message.buffers) {\n            buffers.push(buffer);\n            downloaded += buffer.byteLength;\n            progress.value = downloaded;\n          }\n        }\n      }\n      const blob = new Blob(buffers, {type: 'application/binary'});\n      const a = document.createElement('a');\n      a.href = window.URL.createObjectURL(blob);\n      a.download = filename;\n      div.appendChild(a);\n      a.click();\n      div.remove();\n    }\n  ",
            "text/plain": [
              "<IPython.core.display.Javascript object>"
            ]
          },
          "metadata": {},
          "output_type": "display_data"
        },
        {
          "data": {
            "application/javascript": "download(\"download_3d3f8eba-ce4c-4129-bd4d-6b76ff0361b7\", \"metrics_codebert_train_on_aftersplit_only.pdf\", 15431)",
            "text/plain": [
              "<IPython.core.display.Javascript object>"
            ]
          },
          "metadata": {},
          "output_type": "display_data"
        }
      ],
      "source": [
        "fig, ax = plt.subplots(1, 3, figsize=(22,6))\n",
        "\n",
        "i = 20\n",
        "\n",
        "ax[0].plot(np.arange(1, i + 1), val_ac, color=\"#67E46F\", label='Val accuracy') \n",
        "ax[0].plot(np.arange(1, i + 1), train_ac, color=\"#CB60D3\", label='Train accuracy')\n",
        "ax[0].plot(np.arange(1, i + 1), test_ac, color=\"#E969A8\", label='Test accuracy')\n",
        "\n",
        "ax[1].plot(np.arange(1, i + 1), val_f1, color=\"#67E46F\", label='Val f1') \n",
        "ax[1].plot(np.arange(1, i + 1), train_f1, color=\"#CB60D3\", label='Train f1')\n",
        "ax[1].plot(np.arange(1, i + 1), test_f1, color=\"#E969A8\", label='Test f1')\n",
        "\n",
        "ax[2].plot(np.arange(1, i + 1), val_loss, color=\"#67E46F\", label='Val loss') \n",
        "ax[2].plot(np.arange(1, i + 1), train_loss,  color=\"#CB60D3\", label='Train loss')\n",
        "ax[2].plot(np.arange(1, i + 1), test_loss, color=\"#E969A8\", label='Test loss')\n",
        "\n",
        "\n",
        "ax[0].set_ylabel('Accuracy')\n",
        "ax[0].set_xlabel('Epoch')\n",
        "ax[0].legend()\n",
        "ax[1].set_ylabel('F1 score')\n",
        "ax[1].set_xlabel('Epoch')\n",
        "ax[1].legend()\n",
        "ax[2].legend()\n",
        "ax[2].set_ylabel('Loss')\n",
        "ax[2].set_xlabel('Epoch')\n",
        "\n",
        "plt.show()\n",
        "\n",
        "filename = 'metrics_codebert_train_on_aftersplit_only.pdf'\n",
        "fig.savefig(filename, bbox_inches='tight')\n",
        "files.download(filename)"
      ]
    },
    {
      "cell_type": "code",
      "execution_count": 33,
      "id": "sRkCfF7bSJ9g",
      "metadata": {
        "colab": {
          "base_uri": "https://localhost:8080/",
          "height": 17
        },
        "id": "sRkCfF7bSJ9g",
        "outputId": "44587f9c-3917-434e-a099-fae46ddeb4be"
      },
      "outputs": [
        {
          "data": {
            "application/javascript": "\n    async function download(id, filename, size) {\n      if (!google.colab.kernel.accessAllowed) {\n        return;\n      }\n      const div = document.createElement('div');\n      const label = document.createElement('label');\n      label.textContent = `Downloading \"${filename}\": `;\n      div.appendChild(label);\n      const progress = document.createElement('progress');\n      progress.max = size;\n      div.appendChild(progress);\n      document.body.appendChild(div);\n\n      const buffers = [];\n      let downloaded = 0;\n\n      const channel = await google.colab.kernel.comms.open(id);\n      // Send a message to notify the kernel that we're ready.\n      channel.send({})\n\n      for await (const message of channel.messages) {\n        // Send a message to notify the kernel that we're ready.\n        channel.send({})\n        if (message.buffers) {\n          for (const buffer of message.buffers) {\n            buffers.push(buffer);\n            downloaded += buffer.byteLength;\n            progress.value = downloaded;\n          }\n        }\n      }\n      const blob = new Blob(buffers, {type: 'application/binary'});\n      const a = document.createElement('a');\n      a.href = window.URL.createObjectURL(blob);\n      a.download = filename;\n      div.appendChild(a);\n      a.click();\n      div.remove();\n    }\n  ",
            "text/plain": [
              "<IPython.core.display.Javascript object>"
            ]
          },
          "metadata": {},
          "output_type": "display_data"
        },
        {
          "data": {
            "application/javascript": "download(\"download_45d33ea7-0fc3-42cd-b7a4-f2eaf4add1dd\", \"metrics_codebert_train_on_aftersplit_only.txt\", 3487)",
            "text/plain": [
              "<IPython.core.display.Javascript object>"
            ]
          },
          "metadata": {},
          "output_type": "display_data"
        }
      ],
      "source": [
        "filename = 'metrics_codebert_train_on_aftersplit_only.txt'\n",
        "f = open(filename, 'w')\n",
        "print('val_ac', file=f)\n",
        "print(*val_ac, file=f) \n",
        "print('train_ac', file=f)\n",
        "print(*train_ac, file=f) \n",
        "print('test_ac', file=f)\n",
        "print(*test_ac, file=f) \n",
        "\n",
        "print('val_f1', file=f)\n",
        "print(*val_f1, file=f) \n",
        "print('train_f1', file=f)\n",
        "print(*train_f1, file=f) \n",
        "print('test_f1', file=f)\n",
        "print(*test_f1, file=f) \n",
        "\n",
        "\n",
        "print('val_loss', file=f)\n",
        "print(*val_loss, file=f) \n",
        "print('train_loss', file=f)\n",
        "print(*train_loss, file=f) \n",
        "print('test_loss', file=f)\n",
        "print(*test_loss, file=f) \n",
        "\n",
        "\n",
        "\n",
        "f.close()\n",
        "from google.colab import files\n",
        "files.download(filename)"
      ]
    },
    {
      "cell_type": "markdown",
      "id": "BwWX4J3BbzQN",
      "metadata": {
        "id": "BwWX4J3BbzQN"
      },
      "source": [
        "# BERT\n"
      ]
    },
    {
      "cell_type": "code",
      "execution_count": null,
      "id": "KxB0IgtacbLj",
      "metadata": {
        "colab": {
          "base_uri": "https://localhost:8080/"
        },
        "id": "KxB0IgtacbLj",
        "outputId": "67c4a2ab-3e6e-45fc-eeb5-2b9fc2f4a679"
      },
      "outputs": [
        {
          "name": "stdout",
          "output_type": "stream",
          "text": [
            "Our main computing device is 'cuda:0'\n"
          ]
        }
      ],
      "source": [
        "def get_computing_device():\n",
        "    if torch.cuda.is_available():\n",
        "        device = torch.device('cuda:0')\n",
        "    else:\n",
        "        device = torch.device('cpu')\n",
        "    return device\n",
        "\n",
        "device = get_computing_device()\n",
        "print(f\"Our main computing device is '{device}'\")"
      ]
    },
    {
      "cell_type": "code",
      "execution_count": null,
      "id": "R2zcXkP_Mp6n",
      "metadata": {
        "colab": {
          "base_uri": "https://localhost:8080/"
        },
        "id": "R2zcXkP_Mp6n",
        "outputId": "b2f85444-b5f3-4f89-b7e7-a42f1478de23"
      },
      "outputs": [
        {
          "name": "stderr",
          "output_type": "stream",
          "text": [
            "Some weights of the model checkpoint at bert-base-uncased were not used when initializing BertForSequenceClassification: ['cls.seq_relationship.bias', 'cls.predictions.decoder.weight', 'cls.predictions.transform.LayerNorm.weight', 'cls.seq_relationship.weight', 'cls.predictions.bias', 'cls.predictions.transform.dense.weight', 'cls.predictions.transform.dense.bias', 'cls.predictions.transform.LayerNorm.bias']\n",
            "- This IS expected if you are initializing BertForSequenceClassification from the checkpoint of a model trained on another task or with another architecture (e.g. initializing a BertForSequenceClassification model from a BertForPreTraining model).\n",
            "- This IS NOT expected if you are initializing BertForSequenceClassification from the checkpoint of a model that you expect to be exactly identical (initializing a BertForSequenceClassification model from a BertForSequenceClassification model).\n",
            "Some weights of BertForSequenceClassification were not initialized from the model checkpoint at bert-base-uncased and are newly initialized: ['classifier.weight', 'classifier.bias']\n",
            "You should probably TRAIN this model on a down-stream task to be able to use it for predictions and inference.\n"
          ]
        }
      ],
      "source": [
        "tokenizer = BertTokenizer.from_pretrained(\"bert-base-uncased\")\n",
        "model = BertForSequenceClassification.from_pretrained(\"bert-base-uncased\", num_labels=65)"
      ]
    },
    {
      "cell_type": "code",
      "execution_count": null,
      "id": "fegb0eh0cIZ8",
      "metadata": {
        "id": "fegb0eh0cIZ8"
      },
      "outputs": [],
      "source": [
        "BATCH_SIZE = 16\n",
        "\n",
        "train_dataset = SnippetsDataset(X_train, y_train)\n",
        "test_dataset = SnippetsDataset(X_test, y_test)\n",
        "val_dataset = SnippetsDataset(X_val, y_val)\n",
        "\n",
        "train_loader = torch.utils.data.DataLoader(train_dataset, batch_size=BATCH_SIZE, shuffle=True)\n",
        "test_loader = torch.utils.data.DataLoader(test_dataset, batch_size=BATCH_SIZE)\n",
        "val_loader = torch.utils.data.DataLoader(val_dataset, batch_size=BATCH_SIZE)"
      ]
    },
    {
      "cell_type": "code",
      "execution_count": null,
      "id": "LvJV8FG8cR-d",
      "metadata": {
        "id": "LvJV8FG8cR-d"
      },
      "outputs": [],
      "source": [
        "model = model.to(device)\n",
        "criterion = nn.CrossEntropyLoss()\n",
        "optimizer = torch.optim.AdamW(model.parameters(), lr=0.00007)\n",
        "scheduler = torch.optim.lr_scheduler.StepLR(optimizer, step_size=10, gamma=0.1)"
      ]
    },
    {
      "cell_type": "code",
      "execution_count": null,
      "id": "Mf8XX2TNckRa",
      "metadata": {
        "colab": {
          "base_uri": "https://localhost:8080/",
          "height": 739
        },
        "id": "Mf8XX2TNckRa",
        "outputId": "4445fe78-e187-4fc3-d123-010f9115d97c"
      },
      "outputs": [],
      "source": [
        "val_ac, val_loss, train_ac, train_loss, test_ac, test_loss = classification(model, optimizer, criterion, train_loader, val_loader, test_loader, 20)"
      ]
    },
    {
      "cell_type": "code",
      "execution_count": null,
      "id": "P2r9W9XKckoq",
      "metadata": {
        "id": "P2r9W9XKckoq"
      },
      "outputs": [],
      "source": []
    }
  ],
  "metadata": {
    "accelerator": "GPU",
    "colab": {
      "provenance": []
    },
    "gpuClass": "standard",
    "kernelspec": {
      "display_name": "Python 3",
      "name": "python3"
    },
    "language_info": {
      "name": "python"
    },
    "widgets": {
      "application/vnd.jupyter.widget-state+json": {
        "0003428da9d74c97b34ad30849b8e343": {
          "model_module": "@jupyter-widgets/base",
          "model_module_version": "1.2.0",
          "model_name": "LayoutModel",
          "state": {
            "_model_module": "@jupyter-widgets/base",
            "_model_module_version": "1.2.0",
            "_model_name": "LayoutModel",
            "_view_count": null,
            "_view_module": "@jupyter-widgets/base",
            "_view_module_version": "1.2.0",
            "_view_name": "LayoutView",
            "align_content": null,
            "align_items": null,
            "align_self": null,
            "border": null,
            "bottom": null,
            "display": null,
            "flex": null,
            "flex_flow": null,
            "grid_area": null,
            "grid_auto_columns": null,
            "grid_auto_flow": null,
            "grid_auto_rows": null,
            "grid_column": null,
            "grid_gap": null,
            "grid_row": null,
            "grid_template_areas": null,
            "grid_template_columns": null,
            "grid_template_rows": null,
            "height": null,
            "justify_content": null,
            "justify_items": null,
            "left": null,
            "margin": null,
            "max_height": null,
            "max_width": null,
            "min_height": null,
            "min_width": null,
            "object_fit": null,
            "object_position": null,
            "order": null,
            "overflow": null,
            "overflow_x": null,
            "overflow_y": null,
            "padding": null,
            "right": null,
            "top": null,
            "visibility": null,
            "width": null
          }
        },
        "0d9fff7f618747d5b45f6f107305cdc4": {
          "model_module": "@jupyter-widgets/controls",
          "model_module_version": "1.5.0",
          "model_name": "HTMLModel",
          "state": {
            "_dom_classes": [],
            "_model_module": "@jupyter-widgets/controls",
            "_model_module_version": "1.5.0",
            "_model_name": "HTMLModel",
            "_view_count": null,
            "_view_module": "@jupyter-widgets/controls",
            "_view_module_version": "1.5.0",
            "_view_name": "HTMLView",
            "description": "",
            "description_tooltip": null,
            "layout": "IPY_MODEL_6287c0c6a38d42eca2301e9b59d349e1",
            "placeholder": "​",
            "style": "IPY_MODEL_49eacf45698c4b1c94c95f8f25f56fb0",
            "value": " 150/150 [00:00&lt;00:00, 1.42kB/s]"
          }
        },
        "0e00873ec29645e49529b50df49b7fa4": {
          "model_module": "@jupyter-widgets/controls",
          "model_module_version": "1.5.0",
          "model_name": "ProgressStyleModel",
          "state": {
            "_model_module": "@jupyter-widgets/controls",
            "_model_module_version": "1.5.0",
            "_model_name": "ProgressStyleModel",
            "_view_count": null,
            "_view_module": "@jupyter-widgets/base",
            "_view_module_version": "1.2.0",
            "_view_name": "StyleView",
            "bar_color": null,
            "description_width": ""
          }
        },
        "11ca8a0679db4732a662c6a7ffe85a75": {
          "model_module": "@jupyter-widgets/controls",
          "model_module_version": "1.5.0",
          "model_name": "HBoxModel",
          "state": {
            "_dom_classes": [],
            "_model_module": "@jupyter-widgets/controls",
            "_model_module_version": "1.5.0",
            "_model_name": "HBoxModel",
            "_view_count": null,
            "_view_module": "@jupyter-widgets/controls",
            "_view_module_version": "1.5.0",
            "_view_name": "HBoxView",
            "box_style": "",
            "children": [
              "IPY_MODEL_f2e638d7a5164ee8ac1ccb8ee173032e",
              "IPY_MODEL_b2a03f866c7c4b8ca03699171afebb8b",
              "IPY_MODEL_4b8940b4b6964c16b983f442b68f52ee"
            ],
            "layout": "IPY_MODEL_a500f288b61e4bd5a612940add6e32da"
          }
        },
        "13e21e4aa39147e48663269095813ec8": {
          "model_module": "@jupyter-widgets/controls",
          "model_module_version": "1.5.0",
          "model_name": "ProgressStyleModel",
          "state": {
            "_model_module": "@jupyter-widgets/controls",
            "_model_module_version": "1.5.0",
            "_model_name": "ProgressStyleModel",
            "_view_count": null,
            "_view_module": "@jupyter-widgets/base",
            "_view_module_version": "1.2.0",
            "_view_name": "StyleView",
            "bar_color": null,
            "description_width": ""
          }
        },
        "1c9fa1111e744812805237298a9d707b": {
          "model_module": "@jupyter-widgets/controls",
          "model_module_version": "1.5.0",
          "model_name": "DescriptionStyleModel",
          "state": {
            "_model_module": "@jupyter-widgets/controls",
            "_model_module_version": "1.5.0",
            "_model_name": "DescriptionStyleModel",
            "_view_count": null,
            "_view_module": "@jupyter-widgets/base",
            "_view_module_version": "1.2.0",
            "_view_name": "StyleView",
            "description_width": ""
          }
        },
        "206bafd08e34442abf5d37b88044e0f2": {
          "model_module": "@jupyter-widgets/base",
          "model_module_version": "1.2.0",
          "model_name": "LayoutModel",
          "state": {
            "_model_module": "@jupyter-widgets/base",
            "_model_module_version": "1.2.0",
            "_model_name": "LayoutModel",
            "_view_count": null,
            "_view_module": "@jupyter-widgets/base",
            "_view_module_version": "1.2.0",
            "_view_name": "LayoutView",
            "align_content": null,
            "align_items": null,
            "align_self": null,
            "border": null,
            "bottom": null,
            "display": null,
            "flex": null,
            "flex_flow": null,
            "grid_area": null,
            "grid_auto_columns": null,
            "grid_auto_flow": null,
            "grid_auto_rows": null,
            "grid_column": null,
            "grid_gap": null,
            "grid_row": null,
            "grid_template_areas": null,
            "grid_template_columns": null,
            "grid_template_rows": null,
            "height": null,
            "justify_content": null,
            "justify_items": null,
            "left": null,
            "margin": null,
            "max_height": null,
            "max_width": null,
            "min_height": null,
            "min_width": null,
            "object_fit": null,
            "object_position": null,
            "order": null,
            "overflow": null,
            "overflow_x": null,
            "overflow_y": null,
            "padding": null,
            "right": null,
            "top": null,
            "visibility": null,
            "width": null
          }
        },
        "274f9cb055e341109c73e1bc246eeee4": {
          "model_module": "@jupyter-widgets/controls",
          "model_module_version": "1.5.0",
          "model_name": "DescriptionStyleModel",
          "state": {
            "_model_module": "@jupyter-widgets/controls",
            "_model_module_version": "1.5.0",
            "_model_name": "DescriptionStyleModel",
            "_view_count": null,
            "_view_module": "@jupyter-widgets/base",
            "_view_module_version": "1.2.0",
            "_view_name": "StyleView",
            "description_width": ""
          }
        },
        "27cddf2523854807bfb7eed3f27d517b": {
          "model_module": "@jupyter-widgets/controls",
          "model_module_version": "1.5.0",
          "model_name": "HTMLModel",
          "state": {
            "_dom_classes": [],
            "_model_module": "@jupyter-widgets/controls",
            "_model_module_version": "1.5.0",
            "_model_name": "HTMLModel",
            "_view_count": null,
            "_view_module": "@jupyter-widgets/controls",
            "_view_module_version": "1.5.0",
            "_view_name": "HTMLView",
            "description": "",
            "description_tooltip": null,
            "layout": "IPY_MODEL_b5b5ce3e49024924842fa7247e1aec88",
            "placeholder": "​",
            "style": "IPY_MODEL_adf6fc7e6aca476e89bfbebf85125fca",
            "value": "Downloading: 100%"
          }
        },
        "2d39910ab59b491aa94812eb161cffe3": {
          "model_module": "@jupyter-widgets/base",
          "model_module_version": "1.2.0",
          "model_name": "LayoutModel",
          "state": {
            "_model_module": "@jupyter-widgets/base",
            "_model_module_version": "1.2.0",
            "_model_name": "LayoutModel",
            "_view_count": null,
            "_view_module": "@jupyter-widgets/base",
            "_view_module_version": "1.2.0",
            "_view_name": "LayoutView",
            "align_content": null,
            "align_items": null,
            "align_self": null,
            "border": null,
            "bottom": null,
            "display": null,
            "flex": null,
            "flex_flow": null,
            "grid_area": null,
            "grid_auto_columns": null,
            "grid_auto_flow": null,
            "grid_auto_rows": null,
            "grid_column": null,
            "grid_gap": null,
            "grid_row": null,
            "grid_template_areas": null,
            "grid_template_columns": null,
            "grid_template_rows": null,
            "height": null,
            "justify_content": null,
            "justify_items": null,
            "left": null,
            "margin": null,
            "max_height": null,
            "max_width": null,
            "min_height": null,
            "min_width": null,
            "object_fit": null,
            "object_position": null,
            "order": null,
            "overflow": null,
            "overflow_x": null,
            "overflow_y": null,
            "padding": null,
            "right": null,
            "top": null,
            "visibility": null,
            "width": null
          }
        },
        "3063d0e348064326bf9e6e5be076a1fa": {
          "model_module": "@jupyter-widgets/controls",
          "model_module_version": "1.5.0",
          "model_name": "HTMLModel",
          "state": {
            "_dom_classes": [],
            "_model_module": "@jupyter-widgets/controls",
            "_model_module_version": "1.5.0",
            "_model_name": "HTMLModel",
            "_view_count": null,
            "_view_module": "@jupyter-widgets/controls",
            "_view_module_version": "1.5.0",
            "_view_name": "HTMLView",
            "description": "",
            "description_tooltip": null,
            "layout": "IPY_MODEL_8393bf32228844d6962b39c596ee775c",
            "placeholder": "​",
            "style": "IPY_MODEL_1c9fa1111e744812805237298a9d707b",
            "value": " 25.0/25.0 [00:00&lt;00:00, 324B/s]"
          }
        },
        "3aa7d042817041eb834291ca753548fa": {
          "model_module": "@jupyter-widgets/controls",
          "model_module_version": "1.5.0",
          "model_name": "HBoxModel",
          "state": {
            "_dom_classes": [],
            "_model_module": "@jupyter-widgets/controls",
            "_model_module_version": "1.5.0",
            "_model_name": "HBoxModel",
            "_view_count": null,
            "_view_module": "@jupyter-widgets/controls",
            "_view_module_version": "1.5.0",
            "_view_name": "HBoxView",
            "box_style": "",
            "children": [
              "IPY_MODEL_722a04e735134debaad95309fdf85fde",
              "IPY_MODEL_86489a6e9edf4a75a3f5feb3c3aab8d7",
              "IPY_MODEL_5c5b64fd58224b6583fdab8071cfe613"
            ],
            "layout": "IPY_MODEL_71647c09afaa41be8c9a56ca28277d59"
          }
        },
        "3da9767c0f8a4c5096b4804cec015ed7": {
          "model_module": "@jupyter-widgets/controls",
          "model_module_version": "1.5.0",
          "model_name": "DescriptionStyleModel",
          "state": {
            "_model_module": "@jupyter-widgets/controls",
            "_model_module_version": "1.5.0",
            "_model_name": "DescriptionStyleModel",
            "_view_count": null,
            "_view_module": "@jupyter-widgets/base",
            "_view_module_version": "1.2.0",
            "_view_name": "StyleView",
            "description_width": ""
          }
        },
        "3dc5f4cea9d74273a246a7b9c259cd46": {
          "model_module": "@jupyter-widgets/base",
          "model_module_version": "1.2.0",
          "model_name": "LayoutModel",
          "state": {
            "_model_module": "@jupyter-widgets/base",
            "_model_module_version": "1.2.0",
            "_model_name": "LayoutModel",
            "_view_count": null,
            "_view_module": "@jupyter-widgets/base",
            "_view_module_version": "1.2.0",
            "_view_name": "LayoutView",
            "align_content": null,
            "align_items": null,
            "align_self": null,
            "border": null,
            "bottom": null,
            "display": null,
            "flex": null,
            "flex_flow": null,
            "grid_area": null,
            "grid_auto_columns": null,
            "grid_auto_flow": null,
            "grid_auto_rows": null,
            "grid_column": null,
            "grid_gap": null,
            "grid_row": null,
            "grid_template_areas": null,
            "grid_template_columns": null,
            "grid_template_rows": null,
            "height": null,
            "justify_content": null,
            "justify_items": null,
            "left": null,
            "margin": null,
            "max_height": null,
            "max_width": null,
            "min_height": null,
            "min_width": null,
            "object_fit": null,
            "object_position": null,
            "order": null,
            "overflow": null,
            "overflow_x": null,
            "overflow_y": null,
            "padding": null,
            "right": null,
            "top": null,
            "visibility": null,
            "width": null
          }
        },
        "3f9516f9384e4cc29d15c81b985aa68f": {
          "model_module": "@jupyter-widgets/controls",
          "model_module_version": "1.5.0",
          "model_name": "HTMLModel",
          "state": {
            "_dom_classes": [],
            "_model_module": "@jupyter-widgets/controls",
            "_model_module_version": "1.5.0",
            "_model_name": "HTMLModel",
            "_view_count": null,
            "_view_module": "@jupyter-widgets/controls",
            "_view_module_version": "1.5.0",
            "_view_name": "HTMLView",
            "description": "",
            "description_tooltip": null,
            "layout": "IPY_MODEL_3dc5f4cea9d74273a246a7b9c259cd46",
            "placeholder": "​",
            "style": "IPY_MODEL_b70861ac6e3544ef97f9fced3ed07104",
            "value": "Downloading: 100%"
          }
        },
        "46c16bc7ac9f4be8bcf49b7497f251d0": {
          "model_module": "@jupyter-widgets/controls",
          "model_module_version": "1.5.0",
          "model_name": "FloatProgressModel",
          "state": {
            "_dom_classes": [],
            "_model_module": "@jupyter-widgets/controls",
            "_model_module_version": "1.5.0",
            "_model_name": "FloatProgressModel",
            "_view_count": null,
            "_view_module": "@jupyter-widgets/controls",
            "_view_module_version": "1.5.0",
            "_view_name": "ProgressView",
            "bar_style": "success",
            "description": "",
            "description_tooltip": null,
            "layout": "IPY_MODEL_206bafd08e34442abf5d37b88044e0f2",
            "max": 25,
            "min": 0,
            "orientation": "horizontal",
            "style": "IPY_MODEL_aff238df6a6c426c8e81ac2da8b2ba23",
            "value": 25
          }
        },
        "49eacf45698c4b1c94c95f8f25f56fb0": {
          "model_module": "@jupyter-widgets/controls",
          "model_module_version": "1.5.0",
          "model_name": "DescriptionStyleModel",
          "state": {
            "_model_module": "@jupyter-widgets/controls",
            "_model_module_version": "1.5.0",
            "_model_name": "DescriptionStyleModel",
            "_view_count": null,
            "_view_module": "@jupyter-widgets/base",
            "_view_module_version": "1.2.0",
            "_view_name": "StyleView",
            "description_width": ""
          }
        },
        "4b8940b4b6964c16b983f442b68f52ee": {
          "model_module": "@jupyter-widgets/controls",
          "model_module_version": "1.5.0",
          "model_name": "HTMLModel",
          "state": {
            "_dom_classes": [],
            "_model_module": "@jupyter-widgets/controls",
            "_model_module_version": "1.5.0",
            "_model_name": "HTMLModel",
            "_view_count": null,
            "_view_module": "@jupyter-widgets/controls",
            "_view_module_version": "1.5.0",
            "_view_name": "HTMLView",
            "description": "",
            "description_tooltip": null,
            "layout": "IPY_MODEL_651d210b98b9414b98b78775cf5fab86",
            "placeholder": "​",
            "style": "IPY_MODEL_c1430867b7594ce2924e9c3d2872ec8a",
            "value": " 456k/456k [00:00&lt;00:00, 1.03MB/s]"
          }
        },
        "4ef2e69c5af24f44a8c46d751fd26e5e": {
          "model_module": "@jupyter-widgets/base",
          "model_module_version": "1.2.0",
          "model_name": "LayoutModel",
          "state": {
            "_model_module": "@jupyter-widgets/base",
            "_model_module_version": "1.2.0",
            "_model_name": "LayoutModel",
            "_view_count": null,
            "_view_module": "@jupyter-widgets/base",
            "_view_module_version": "1.2.0",
            "_view_name": "LayoutView",
            "align_content": null,
            "align_items": null,
            "align_self": null,
            "border": null,
            "bottom": null,
            "display": null,
            "flex": null,
            "flex_flow": null,
            "grid_area": null,
            "grid_auto_columns": null,
            "grid_auto_flow": null,
            "grid_auto_rows": null,
            "grid_column": null,
            "grid_gap": null,
            "grid_row": null,
            "grid_template_areas": null,
            "grid_template_columns": null,
            "grid_template_rows": null,
            "height": null,
            "justify_content": null,
            "justify_items": null,
            "left": null,
            "margin": null,
            "max_height": null,
            "max_width": null,
            "min_height": null,
            "min_width": null,
            "object_fit": null,
            "object_position": null,
            "order": null,
            "overflow": null,
            "overflow_x": null,
            "overflow_y": null,
            "padding": null,
            "right": null,
            "top": null,
            "visibility": null,
            "width": null
          }
        },
        "57acd66277b546a0ae19764b177962f8": {
          "model_module": "@jupyter-widgets/controls",
          "model_module_version": "1.5.0",
          "model_name": "DescriptionStyleModel",
          "state": {
            "_model_module": "@jupyter-widgets/controls",
            "_model_module_version": "1.5.0",
            "_model_name": "DescriptionStyleModel",
            "_view_count": null,
            "_view_module": "@jupyter-widgets/base",
            "_view_module_version": "1.2.0",
            "_view_name": "StyleView",
            "description_width": ""
          }
        },
        "5a5a389e9dc143e288561c1b99652467": {
          "model_module": "@jupyter-widgets/base",
          "model_module_version": "1.2.0",
          "model_name": "LayoutModel",
          "state": {
            "_model_module": "@jupyter-widgets/base",
            "_model_module_version": "1.2.0",
            "_model_name": "LayoutModel",
            "_view_count": null,
            "_view_module": "@jupyter-widgets/base",
            "_view_module_version": "1.2.0",
            "_view_name": "LayoutView",
            "align_content": null,
            "align_items": null,
            "align_self": null,
            "border": null,
            "bottom": null,
            "display": null,
            "flex": null,
            "flex_flow": null,
            "grid_area": null,
            "grid_auto_columns": null,
            "grid_auto_flow": null,
            "grid_auto_rows": null,
            "grid_column": null,
            "grid_gap": null,
            "grid_row": null,
            "grid_template_areas": null,
            "grid_template_columns": null,
            "grid_template_rows": null,
            "height": null,
            "justify_content": null,
            "justify_items": null,
            "left": null,
            "margin": null,
            "max_height": null,
            "max_width": null,
            "min_height": null,
            "min_width": null,
            "object_fit": null,
            "object_position": null,
            "order": null,
            "overflow": null,
            "overflow_x": null,
            "overflow_y": null,
            "padding": null,
            "right": null,
            "top": null,
            "visibility": null,
            "width": null
          }
        },
        "5c5b64fd58224b6583fdab8071cfe613": {
          "model_module": "@jupyter-widgets/controls",
          "model_module_version": "1.5.0",
          "model_name": "HTMLModel",
          "state": {
            "_dom_classes": [],
            "_model_module": "@jupyter-widgets/controls",
            "_model_module_version": "1.5.0",
            "_model_name": "HTMLModel",
            "_view_count": null,
            "_view_module": "@jupyter-widgets/controls",
            "_view_module_version": "1.5.0",
            "_view_name": "HTMLView",
            "description": "",
            "description_tooltip": null,
            "layout": "IPY_MODEL_613eab6abd954042bff7e251d382c8a4",
            "placeholder": "​",
            "style": "IPY_MODEL_274f9cb055e341109c73e1bc246eeee4",
            "value": " 498/498 [00:00&lt;00:00, 5.83kB/s]"
          }
        },
        "5cd3e4da046b493685a608bda1cadb12": {
          "model_module": "@jupyter-widgets/controls",
          "model_module_version": "1.5.0",
          "model_name": "ProgressStyleModel",
          "state": {
            "_model_module": "@jupyter-widgets/controls",
            "_model_module_version": "1.5.0",
            "_model_name": "ProgressStyleModel",
            "_view_count": null,
            "_view_module": "@jupyter-widgets/base",
            "_view_module_version": "1.2.0",
            "_view_name": "StyleView",
            "bar_color": null,
            "description_width": ""
          }
        },
        "613eab6abd954042bff7e251d382c8a4": {
          "model_module": "@jupyter-widgets/base",
          "model_module_version": "1.2.0",
          "model_name": "LayoutModel",
          "state": {
            "_model_module": "@jupyter-widgets/base",
            "_model_module_version": "1.2.0",
            "_model_name": "LayoutModel",
            "_view_count": null,
            "_view_module": "@jupyter-widgets/base",
            "_view_module_version": "1.2.0",
            "_view_name": "LayoutView",
            "align_content": null,
            "align_items": null,
            "align_self": null,
            "border": null,
            "bottom": null,
            "display": null,
            "flex": null,
            "flex_flow": null,
            "grid_area": null,
            "grid_auto_columns": null,
            "grid_auto_flow": null,
            "grid_auto_rows": null,
            "grid_column": null,
            "grid_gap": null,
            "grid_row": null,
            "grid_template_areas": null,
            "grid_template_columns": null,
            "grid_template_rows": null,
            "height": null,
            "justify_content": null,
            "justify_items": null,
            "left": null,
            "margin": null,
            "max_height": null,
            "max_width": null,
            "min_height": null,
            "min_width": null,
            "object_fit": null,
            "object_position": null,
            "order": null,
            "overflow": null,
            "overflow_x": null,
            "overflow_y": null,
            "padding": null,
            "right": null,
            "top": null,
            "visibility": null,
            "width": null
          }
        },
        "6287c0c6a38d42eca2301e9b59d349e1": {
          "model_module": "@jupyter-widgets/base",
          "model_module_version": "1.2.0",
          "model_name": "LayoutModel",
          "state": {
            "_model_module": "@jupyter-widgets/base",
            "_model_module_version": "1.2.0",
            "_model_name": "LayoutModel",
            "_view_count": null,
            "_view_module": "@jupyter-widgets/base",
            "_view_module_version": "1.2.0",
            "_view_name": "LayoutView",
            "align_content": null,
            "align_items": null,
            "align_self": null,
            "border": null,
            "bottom": null,
            "display": null,
            "flex": null,
            "flex_flow": null,
            "grid_area": null,
            "grid_auto_columns": null,
            "grid_auto_flow": null,
            "grid_auto_rows": null,
            "grid_column": null,
            "grid_gap": null,
            "grid_row": null,
            "grid_template_areas": null,
            "grid_template_columns": null,
            "grid_template_rows": null,
            "height": null,
            "justify_content": null,
            "justify_items": null,
            "left": null,
            "margin": null,
            "max_height": null,
            "max_width": null,
            "min_height": null,
            "min_width": null,
            "object_fit": null,
            "object_position": null,
            "order": null,
            "overflow": null,
            "overflow_x": null,
            "overflow_y": null,
            "padding": null,
            "right": null,
            "top": null,
            "visibility": null,
            "width": null
          }
        },
        "641afa8df1c14b79ab9564eef64a749e": {
          "model_module": "@jupyter-widgets/controls",
          "model_module_version": "1.5.0",
          "model_name": "ProgressStyleModel",
          "state": {
            "_model_module": "@jupyter-widgets/controls",
            "_model_module_version": "1.5.0",
            "_model_name": "ProgressStyleModel",
            "_view_count": null,
            "_view_module": "@jupyter-widgets/base",
            "_view_module_version": "1.2.0",
            "_view_name": "StyleView",
            "bar_color": null,
            "description_width": ""
          }
        },
        "651d210b98b9414b98b78775cf5fab86": {
          "model_module": "@jupyter-widgets/base",
          "model_module_version": "1.2.0",
          "model_name": "LayoutModel",
          "state": {
            "_model_module": "@jupyter-widgets/base",
            "_model_module_version": "1.2.0",
            "_model_name": "LayoutModel",
            "_view_count": null,
            "_view_module": "@jupyter-widgets/base",
            "_view_module_version": "1.2.0",
            "_view_name": "LayoutView",
            "align_content": null,
            "align_items": null,
            "align_self": null,
            "border": null,
            "bottom": null,
            "display": null,
            "flex": null,
            "flex_flow": null,
            "grid_area": null,
            "grid_auto_columns": null,
            "grid_auto_flow": null,
            "grid_auto_rows": null,
            "grid_column": null,
            "grid_gap": null,
            "grid_row": null,
            "grid_template_areas": null,
            "grid_template_columns": null,
            "grid_template_rows": null,
            "height": null,
            "justify_content": null,
            "justify_items": null,
            "left": null,
            "margin": null,
            "max_height": null,
            "max_width": null,
            "min_height": null,
            "min_width": null,
            "object_fit": null,
            "object_position": null,
            "order": null,
            "overflow": null,
            "overflow_x": null,
            "overflow_y": null,
            "padding": null,
            "right": null,
            "top": null,
            "visibility": null,
            "width": null
          }
        },
        "6b4b011d603f4e0989ea0de89590bb42": {
          "model_module": "@jupyter-widgets/base",
          "model_module_version": "1.2.0",
          "model_name": "LayoutModel",
          "state": {
            "_model_module": "@jupyter-widgets/base",
            "_model_module_version": "1.2.0",
            "_model_name": "LayoutModel",
            "_view_count": null,
            "_view_module": "@jupyter-widgets/base",
            "_view_module_version": "1.2.0",
            "_view_name": "LayoutView",
            "align_content": null,
            "align_items": null,
            "align_self": null,
            "border": null,
            "bottom": null,
            "display": null,
            "flex": null,
            "flex_flow": null,
            "grid_area": null,
            "grid_auto_columns": null,
            "grid_auto_flow": null,
            "grid_auto_rows": null,
            "grid_column": null,
            "grid_gap": null,
            "grid_row": null,
            "grid_template_areas": null,
            "grid_template_columns": null,
            "grid_template_rows": null,
            "height": null,
            "justify_content": null,
            "justify_items": null,
            "left": null,
            "margin": null,
            "max_height": null,
            "max_width": null,
            "min_height": null,
            "min_width": null,
            "object_fit": null,
            "object_position": null,
            "order": null,
            "overflow": null,
            "overflow_x": null,
            "overflow_y": null,
            "padding": null,
            "right": null,
            "top": null,
            "visibility": null,
            "width": null
          }
        },
        "6f7895d8c368421a8ac9beb36a549c67": {
          "model_module": "@jupyter-widgets/controls",
          "model_module_version": "1.5.0",
          "model_name": "DescriptionStyleModel",
          "state": {
            "_model_module": "@jupyter-widgets/controls",
            "_model_module_version": "1.5.0",
            "_model_name": "DescriptionStyleModel",
            "_view_count": null,
            "_view_module": "@jupyter-widgets/base",
            "_view_module_version": "1.2.0",
            "_view_name": "StyleView",
            "description_width": ""
          }
        },
        "70667002e54d4b86a87908363ecd1851": {
          "model_module": "@jupyter-widgets/base",
          "model_module_version": "1.2.0",
          "model_name": "LayoutModel",
          "state": {
            "_model_module": "@jupyter-widgets/base",
            "_model_module_version": "1.2.0",
            "_model_name": "LayoutModel",
            "_view_count": null,
            "_view_module": "@jupyter-widgets/base",
            "_view_module_version": "1.2.0",
            "_view_name": "LayoutView",
            "align_content": null,
            "align_items": null,
            "align_self": null,
            "border": null,
            "bottom": null,
            "display": null,
            "flex": null,
            "flex_flow": null,
            "grid_area": null,
            "grid_auto_columns": null,
            "grid_auto_flow": null,
            "grid_auto_rows": null,
            "grid_column": null,
            "grid_gap": null,
            "grid_row": null,
            "grid_template_areas": null,
            "grid_template_columns": null,
            "grid_template_rows": null,
            "height": null,
            "justify_content": null,
            "justify_items": null,
            "left": null,
            "margin": null,
            "max_height": null,
            "max_width": null,
            "min_height": null,
            "min_width": null,
            "object_fit": null,
            "object_position": null,
            "order": null,
            "overflow": null,
            "overflow_x": null,
            "overflow_y": null,
            "padding": null,
            "right": null,
            "top": null,
            "visibility": null,
            "width": null
          }
        },
        "71647c09afaa41be8c9a56ca28277d59": {
          "model_module": "@jupyter-widgets/base",
          "model_module_version": "1.2.0",
          "model_name": "LayoutModel",
          "state": {
            "_model_module": "@jupyter-widgets/base",
            "_model_module_version": "1.2.0",
            "_model_name": "LayoutModel",
            "_view_count": null,
            "_view_module": "@jupyter-widgets/base",
            "_view_module_version": "1.2.0",
            "_view_name": "LayoutView",
            "align_content": null,
            "align_items": null,
            "align_self": null,
            "border": null,
            "bottom": null,
            "display": null,
            "flex": null,
            "flex_flow": null,
            "grid_area": null,
            "grid_auto_columns": null,
            "grid_auto_flow": null,
            "grid_auto_rows": null,
            "grid_column": null,
            "grid_gap": null,
            "grid_row": null,
            "grid_template_areas": null,
            "grid_template_columns": null,
            "grid_template_rows": null,
            "height": null,
            "justify_content": null,
            "justify_items": null,
            "left": null,
            "margin": null,
            "max_height": null,
            "max_width": null,
            "min_height": null,
            "min_width": null,
            "object_fit": null,
            "object_position": null,
            "order": null,
            "overflow": null,
            "overflow_x": null,
            "overflow_y": null,
            "padding": null,
            "right": null,
            "top": null,
            "visibility": null,
            "width": null
          }
        },
        "71c69c2f422f48d9aba7b7d91c0e97a5": {
          "model_module": "@jupyter-widgets/controls",
          "model_module_version": "1.5.0",
          "model_name": "ProgressStyleModel",
          "state": {
            "_model_module": "@jupyter-widgets/controls",
            "_model_module_version": "1.5.0",
            "_model_name": "ProgressStyleModel",
            "_view_count": null,
            "_view_module": "@jupyter-widgets/base",
            "_view_module_version": "1.2.0",
            "_view_name": "StyleView",
            "bar_color": null,
            "description_width": ""
          }
        },
        "722a04e735134debaad95309fdf85fde": {
          "model_module": "@jupyter-widgets/controls",
          "model_module_version": "1.5.0",
          "model_name": "HTMLModel",
          "state": {
            "_dom_classes": [],
            "_model_module": "@jupyter-widgets/controls",
            "_model_module_version": "1.5.0",
            "_model_name": "HTMLModel",
            "_view_count": null,
            "_view_module": "@jupyter-widgets/controls",
            "_view_module_version": "1.5.0",
            "_view_name": "HTMLView",
            "description": "",
            "description_tooltip": null,
            "layout": "IPY_MODEL_5a5a389e9dc143e288561c1b99652467",
            "placeholder": "​",
            "style": "IPY_MODEL_6f7895d8c368421a8ac9beb36a549c67",
            "value": "Downloading: 100%"
          }
        },
        "72dab9c0f0894650bbf043e44950eab8": {
          "model_module": "@jupyter-widgets/controls",
          "model_module_version": "1.5.0",
          "model_name": "DescriptionStyleModel",
          "state": {
            "_model_module": "@jupyter-widgets/controls",
            "_model_module_version": "1.5.0",
            "_model_name": "DescriptionStyleModel",
            "_view_count": null,
            "_view_module": "@jupyter-widgets/base",
            "_view_module_version": "1.2.0",
            "_view_name": "StyleView",
            "description_width": ""
          }
        },
        "8393bf32228844d6962b39c596ee775c": {
          "model_module": "@jupyter-widgets/base",
          "model_module_version": "1.2.0",
          "model_name": "LayoutModel",
          "state": {
            "_model_module": "@jupyter-widgets/base",
            "_model_module_version": "1.2.0",
            "_model_name": "LayoutModel",
            "_view_count": null,
            "_view_module": "@jupyter-widgets/base",
            "_view_module_version": "1.2.0",
            "_view_name": "LayoutView",
            "align_content": null,
            "align_items": null,
            "align_self": null,
            "border": null,
            "bottom": null,
            "display": null,
            "flex": null,
            "flex_flow": null,
            "grid_area": null,
            "grid_auto_columns": null,
            "grid_auto_flow": null,
            "grid_auto_rows": null,
            "grid_column": null,
            "grid_gap": null,
            "grid_row": null,
            "grid_template_areas": null,
            "grid_template_columns": null,
            "grid_template_rows": null,
            "height": null,
            "justify_content": null,
            "justify_items": null,
            "left": null,
            "margin": null,
            "max_height": null,
            "max_width": null,
            "min_height": null,
            "min_width": null,
            "object_fit": null,
            "object_position": null,
            "order": null,
            "overflow": null,
            "overflow_x": null,
            "overflow_y": null,
            "padding": null,
            "right": null,
            "top": null,
            "visibility": null,
            "width": null
          }
        },
        "84750f36300042c69e921e17c96a0edf": {
          "model_module": "@jupyter-widgets/base",
          "model_module_version": "1.2.0",
          "model_name": "LayoutModel",
          "state": {
            "_model_module": "@jupyter-widgets/base",
            "_model_module_version": "1.2.0",
            "_model_name": "LayoutModel",
            "_view_count": null,
            "_view_module": "@jupyter-widgets/base",
            "_view_module_version": "1.2.0",
            "_view_name": "LayoutView",
            "align_content": null,
            "align_items": null,
            "align_self": null,
            "border": null,
            "bottom": null,
            "display": null,
            "flex": null,
            "flex_flow": null,
            "grid_area": null,
            "grid_auto_columns": null,
            "grid_auto_flow": null,
            "grid_auto_rows": null,
            "grid_column": null,
            "grid_gap": null,
            "grid_row": null,
            "grid_template_areas": null,
            "grid_template_columns": null,
            "grid_template_rows": null,
            "height": null,
            "justify_content": null,
            "justify_items": null,
            "left": null,
            "margin": null,
            "max_height": null,
            "max_width": null,
            "min_height": null,
            "min_width": null,
            "object_fit": null,
            "object_position": null,
            "order": null,
            "overflow": null,
            "overflow_x": null,
            "overflow_y": null,
            "padding": null,
            "right": null,
            "top": null,
            "visibility": null,
            "width": null
          }
        },
        "86489a6e9edf4a75a3f5feb3c3aab8d7": {
          "model_module": "@jupyter-widgets/controls",
          "model_module_version": "1.5.0",
          "model_name": "FloatProgressModel",
          "state": {
            "_dom_classes": [],
            "_model_module": "@jupyter-widgets/controls",
            "_model_module_version": "1.5.0",
            "_model_name": "FloatProgressModel",
            "_view_count": null,
            "_view_module": "@jupyter-widgets/controls",
            "_view_module_version": "1.5.0",
            "_view_name": "ProgressView",
            "bar_style": "success",
            "description": "",
            "description_tooltip": null,
            "layout": "IPY_MODEL_eaf2c0dccbd0486a80a726b52714a2b7",
            "max": 498,
            "min": 0,
            "orientation": "horizontal",
            "style": "IPY_MODEL_71c69c2f422f48d9aba7b7d91c0e97a5",
            "value": 498
          }
        },
        "8b0333bcaa534ab498f12b2868101fd4": {
          "model_module": "@jupyter-widgets/controls",
          "model_module_version": "1.5.0",
          "model_name": "HBoxModel",
          "state": {
            "_dom_classes": [],
            "_model_module": "@jupyter-widgets/controls",
            "_model_module_version": "1.5.0",
            "_model_name": "HBoxModel",
            "_view_count": null,
            "_view_module": "@jupyter-widgets/controls",
            "_view_module_version": "1.5.0",
            "_view_name": "HBoxView",
            "box_style": "",
            "children": [
              "IPY_MODEL_b178ddc9cae94fbba221a6615735db81",
              "IPY_MODEL_e65e6c462f8044e98a2f9109b342034b",
              "IPY_MODEL_e503f51a9fc642ba958b1f6941666b2d"
            ],
            "layout": "IPY_MODEL_dac4bfa4957348c4b9a7555b3819c9e6"
          }
        },
        "8bb05ca7640a4f65aeda79932eb391fe": {
          "model_module": "@jupyter-widgets/controls",
          "model_module_version": "1.5.0",
          "model_name": "HTMLModel",
          "state": {
            "_dom_classes": [],
            "_model_module": "@jupyter-widgets/controls",
            "_model_module_version": "1.5.0",
            "_model_name": "HTMLModel",
            "_view_count": null,
            "_view_module": "@jupyter-widgets/controls",
            "_view_module_version": "1.5.0",
            "_view_name": "HTMLView",
            "description": "",
            "description_tooltip": null,
            "layout": "IPY_MODEL_c131876657c349d68fcfc21d9e977eb6",
            "placeholder": "​",
            "style": "IPY_MODEL_72dab9c0f0894650bbf043e44950eab8",
            "value": " 899k/899k [00:00&lt;00:00, 1.25MB/s]"
          }
        },
        "8d00cc9c927b4f868f7b71a8f288e7c5": {
          "model_module": "@jupyter-widgets/base",
          "model_module_version": "1.2.0",
          "model_name": "LayoutModel",
          "state": {
            "_model_module": "@jupyter-widgets/base",
            "_model_module_version": "1.2.0",
            "_model_name": "LayoutModel",
            "_view_count": null,
            "_view_module": "@jupyter-widgets/base",
            "_view_module_version": "1.2.0",
            "_view_name": "LayoutView",
            "align_content": null,
            "align_items": null,
            "align_self": null,
            "border": null,
            "bottom": null,
            "display": null,
            "flex": null,
            "flex_flow": null,
            "grid_area": null,
            "grid_auto_columns": null,
            "grid_auto_flow": null,
            "grid_auto_rows": null,
            "grid_column": null,
            "grid_gap": null,
            "grid_row": null,
            "grid_template_areas": null,
            "grid_template_columns": null,
            "grid_template_rows": null,
            "height": null,
            "justify_content": null,
            "justify_items": null,
            "left": null,
            "margin": null,
            "max_height": null,
            "max_width": null,
            "min_height": null,
            "min_width": null,
            "object_fit": null,
            "object_position": null,
            "order": null,
            "overflow": null,
            "overflow_x": null,
            "overflow_y": null,
            "padding": null,
            "right": null,
            "top": null,
            "visibility": null,
            "width": null
          }
        },
        "a2734f475d3040a2a559b54b63424aa9": {
          "model_module": "@jupyter-widgets/controls",
          "model_module_version": "1.5.0",
          "model_name": "HBoxModel",
          "state": {
            "_dom_classes": [],
            "_model_module": "@jupyter-widgets/controls",
            "_model_module_version": "1.5.0",
            "_model_name": "HBoxModel",
            "_view_count": null,
            "_view_module": "@jupyter-widgets/controls",
            "_view_module_version": "1.5.0",
            "_view_name": "HBoxView",
            "box_style": "",
            "children": [
              "IPY_MODEL_b18431ce346f4c039d8fc0619e53a549",
              "IPY_MODEL_e5e75b933bb049d0a96d6df462b99fef",
              "IPY_MODEL_0d9fff7f618747d5b45f6f107305cdc4"
            ],
            "layout": "IPY_MODEL_0003428da9d74c97b34ad30849b8e343"
          }
        },
        "a500f288b61e4bd5a612940add6e32da": {
          "model_module": "@jupyter-widgets/base",
          "model_module_version": "1.2.0",
          "model_name": "LayoutModel",
          "state": {
            "_model_module": "@jupyter-widgets/base",
            "_model_module_version": "1.2.0",
            "_model_name": "LayoutModel",
            "_view_count": null,
            "_view_module": "@jupyter-widgets/base",
            "_view_module_version": "1.2.0",
            "_view_name": "LayoutView",
            "align_content": null,
            "align_items": null,
            "align_self": null,
            "border": null,
            "bottom": null,
            "display": null,
            "flex": null,
            "flex_flow": null,
            "grid_area": null,
            "grid_auto_columns": null,
            "grid_auto_flow": null,
            "grid_auto_rows": null,
            "grid_column": null,
            "grid_gap": null,
            "grid_row": null,
            "grid_template_areas": null,
            "grid_template_columns": null,
            "grid_template_rows": null,
            "height": null,
            "justify_content": null,
            "justify_items": null,
            "left": null,
            "margin": null,
            "max_height": null,
            "max_width": null,
            "min_height": null,
            "min_width": null,
            "object_fit": null,
            "object_position": null,
            "order": null,
            "overflow": null,
            "overflow_x": null,
            "overflow_y": null,
            "padding": null,
            "right": null,
            "top": null,
            "visibility": null,
            "width": null
          }
        },
        "adf6fc7e6aca476e89bfbebf85125fca": {
          "model_module": "@jupyter-widgets/controls",
          "model_module_version": "1.5.0",
          "model_name": "DescriptionStyleModel",
          "state": {
            "_model_module": "@jupyter-widgets/controls",
            "_model_module_version": "1.5.0",
            "_model_name": "DescriptionStyleModel",
            "_view_count": null,
            "_view_module": "@jupyter-widgets/base",
            "_view_module_version": "1.2.0",
            "_view_name": "StyleView",
            "description_width": ""
          }
        },
        "aff238df6a6c426c8e81ac2da8b2ba23": {
          "model_module": "@jupyter-widgets/controls",
          "model_module_version": "1.5.0",
          "model_name": "ProgressStyleModel",
          "state": {
            "_model_module": "@jupyter-widgets/controls",
            "_model_module_version": "1.5.0",
            "_model_name": "ProgressStyleModel",
            "_view_count": null,
            "_view_module": "@jupyter-widgets/base",
            "_view_module_version": "1.2.0",
            "_view_name": "StyleView",
            "bar_color": null,
            "description_width": ""
          }
        },
        "b178ddc9cae94fbba221a6615735db81": {
          "model_module": "@jupyter-widgets/controls",
          "model_module_version": "1.5.0",
          "model_name": "HTMLModel",
          "state": {
            "_dom_classes": [],
            "_model_module": "@jupyter-widgets/controls",
            "_model_module_version": "1.5.0",
            "_model_name": "HTMLModel",
            "_view_count": null,
            "_view_module": "@jupyter-widgets/controls",
            "_view_module_version": "1.5.0",
            "_view_name": "HTMLView",
            "description": "",
            "description_tooltip": null,
            "layout": "IPY_MODEL_8d00cc9c927b4f868f7b71a8f288e7c5",
            "placeholder": "​",
            "style": "IPY_MODEL_57acd66277b546a0ae19764b177962f8",
            "value": "Downloading: 100%"
          }
        },
        "b18431ce346f4c039d8fc0619e53a549": {
          "model_module": "@jupyter-widgets/controls",
          "model_module_version": "1.5.0",
          "model_name": "HTMLModel",
          "state": {
            "_dom_classes": [],
            "_model_module": "@jupyter-widgets/controls",
            "_model_module_version": "1.5.0",
            "_model_name": "HTMLModel",
            "_view_count": null,
            "_view_module": "@jupyter-widgets/controls",
            "_view_module_version": "1.5.0",
            "_view_name": "HTMLView",
            "description": "",
            "description_tooltip": null,
            "layout": "IPY_MODEL_e38fe95f418f47de9019c2e72edf8a40",
            "placeholder": "​",
            "style": "IPY_MODEL_e23ac05b212742db85b3cc896c8b5957",
            "value": "Downloading: 100%"
          }
        },
        "b2a03f866c7c4b8ca03699171afebb8b": {
          "model_module": "@jupyter-widgets/controls",
          "model_module_version": "1.5.0",
          "model_name": "FloatProgressModel",
          "state": {
            "_dom_classes": [],
            "_model_module": "@jupyter-widgets/controls",
            "_model_module_version": "1.5.0",
            "_model_name": "FloatProgressModel",
            "_view_count": null,
            "_view_module": "@jupyter-widgets/controls",
            "_view_module_version": "1.5.0",
            "_view_name": "ProgressView",
            "bar_style": "success",
            "description": "",
            "description_tooltip": null,
            "layout": "IPY_MODEL_f1aaf1054def4b0eb7e4282c1329675c",
            "max": 456318,
            "min": 0,
            "orientation": "horizontal",
            "style": "IPY_MODEL_0e00873ec29645e49529b50df49b7fa4",
            "value": 456318
          }
        },
        "b5b5ce3e49024924842fa7247e1aec88": {
          "model_module": "@jupyter-widgets/base",
          "model_module_version": "1.2.0",
          "model_name": "LayoutModel",
          "state": {
            "_model_module": "@jupyter-widgets/base",
            "_model_module_version": "1.2.0",
            "_model_name": "LayoutModel",
            "_view_count": null,
            "_view_module": "@jupyter-widgets/base",
            "_view_module_version": "1.2.0",
            "_view_name": "LayoutView",
            "align_content": null,
            "align_items": null,
            "align_self": null,
            "border": null,
            "bottom": null,
            "display": null,
            "flex": null,
            "flex_flow": null,
            "grid_area": null,
            "grid_auto_columns": null,
            "grid_auto_flow": null,
            "grid_auto_rows": null,
            "grid_column": null,
            "grid_gap": null,
            "grid_row": null,
            "grid_template_areas": null,
            "grid_template_columns": null,
            "grid_template_rows": null,
            "height": null,
            "justify_content": null,
            "justify_items": null,
            "left": null,
            "margin": null,
            "max_height": null,
            "max_width": null,
            "min_height": null,
            "min_width": null,
            "object_fit": null,
            "object_position": null,
            "order": null,
            "overflow": null,
            "overflow_x": null,
            "overflow_y": null,
            "padding": null,
            "right": null,
            "top": null,
            "visibility": null,
            "width": null
          }
        },
        "b65130449dbd46e691b01bc4a3506d31": {
          "model_module": "@jupyter-widgets/controls",
          "model_module_version": "1.5.0",
          "model_name": "DescriptionStyleModel",
          "state": {
            "_model_module": "@jupyter-widgets/controls",
            "_model_module_version": "1.5.0",
            "_model_name": "DescriptionStyleModel",
            "_view_count": null,
            "_view_module": "@jupyter-widgets/base",
            "_view_module_version": "1.2.0",
            "_view_name": "StyleView",
            "description_width": ""
          }
        },
        "b70861ac6e3544ef97f9fced3ed07104": {
          "model_module": "@jupyter-widgets/controls",
          "model_module_version": "1.5.0",
          "model_name": "DescriptionStyleModel",
          "state": {
            "_model_module": "@jupyter-widgets/controls",
            "_model_module_version": "1.5.0",
            "_model_name": "DescriptionStyleModel",
            "_view_count": null,
            "_view_module": "@jupyter-widgets/base",
            "_view_module_version": "1.2.0",
            "_view_name": "StyleView",
            "description_width": ""
          }
        },
        "c131876657c349d68fcfc21d9e977eb6": {
          "model_module": "@jupyter-widgets/base",
          "model_module_version": "1.2.0",
          "model_name": "LayoutModel",
          "state": {
            "_model_module": "@jupyter-widgets/base",
            "_model_module_version": "1.2.0",
            "_model_name": "LayoutModel",
            "_view_count": null,
            "_view_module": "@jupyter-widgets/base",
            "_view_module_version": "1.2.0",
            "_view_name": "LayoutView",
            "align_content": null,
            "align_items": null,
            "align_self": null,
            "border": null,
            "bottom": null,
            "display": null,
            "flex": null,
            "flex_flow": null,
            "grid_area": null,
            "grid_auto_columns": null,
            "grid_auto_flow": null,
            "grid_auto_rows": null,
            "grid_column": null,
            "grid_gap": null,
            "grid_row": null,
            "grid_template_areas": null,
            "grid_template_columns": null,
            "grid_template_rows": null,
            "height": null,
            "justify_content": null,
            "justify_items": null,
            "left": null,
            "margin": null,
            "max_height": null,
            "max_width": null,
            "min_height": null,
            "min_width": null,
            "object_fit": null,
            "object_position": null,
            "order": null,
            "overflow": null,
            "overflow_x": null,
            "overflow_y": null,
            "padding": null,
            "right": null,
            "top": null,
            "visibility": null,
            "width": null
          }
        },
        "c1430867b7594ce2924e9c3d2872ec8a": {
          "model_module": "@jupyter-widgets/controls",
          "model_module_version": "1.5.0",
          "model_name": "DescriptionStyleModel",
          "state": {
            "_model_module": "@jupyter-widgets/controls",
            "_model_module_version": "1.5.0",
            "_model_name": "DescriptionStyleModel",
            "_view_count": null,
            "_view_module": "@jupyter-widgets/base",
            "_view_module_version": "1.2.0",
            "_view_name": "StyleView",
            "description_width": ""
          }
        },
        "d920445d8f7c440cbbc4b23eb2fef2d1": {
          "model_module": "@jupyter-widgets/controls",
          "model_module_version": "1.5.0",
          "model_name": "FloatProgressModel",
          "state": {
            "_dom_classes": [],
            "_model_module": "@jupyter-widgets/controls",
            "_model_module_version": "1.5.0",
            "_model_name": "FloatProgressModel",
            "_view_count": null,
            "_view_module": "@jupyter-widgets/controls",
            "_view_module_version": "1.5.0",
            "_view_name": "ProgressView",
            "bar_style": "success",
            "description": "",
            "description_tooltip": null,
            "layout": "IPY_MODEL_4ef2e69c5af24f44a8c46d751fd26e5e",
            "max": 898822,
            "min": 0,
            "orientation": "horizontal",
            "style": "IPY_MODEL_13e21e4aa39147e48663269095813ec8",
            "value": 898822
          }
        },
        "dac4bfa4957348c4b9a7555b3819c9e6": {
          "model_module": "@jupyter-widgets/base",
          "model_module_version": "1.2.0",
          "model_name": "LayoutModel",
          "state": {
            "_model_module": "@jupyter-widgets/base",
            "_model_module_version": "1.2.0",
            "_model_name": "LayoutModel",
            "_view_count": null,
            "_view_module": "@jupyter-widgets/base",
            "_view_module_version": "1.2.0",
            "_view_name": "LayoutView",
            "align_content": null,
            "align_items": null,
            "align_self": null,
            "border": null,
            "bottom": null,
            "display": null,
            "flex": null,
            "flex_flow": null,
            "grid_area": null,
            "grid_auto_columns": null,
            "grid_auto_flow": null,
            "grid_auto_rows": null,
            "grid_column": null,
            "grid_gap": null,
            "grid_row": null,
            "grid_template_areas": null,
            "grid_template_columns": null,
            "grid_template_rows": null,
            "height": null,
            "justify_content": null,
            "justify_items": null,
            "left": null,
            "margin": null,
            "max_height": null,
            "max_width": null,
            "min_height": null,
            "min_width": null,
            "object_fit": null,
            "object_position": null,
            "order": null,
            "overflow": null,
            "overflow_x": null,
            "overflow_y": null,
            "padding": null,
            "right": null,
            "top": null,
            "visibility": null,
            "width": null
          }
        },
        "e23ac05b212742db85b3cc896c8b5957": {
          "model_module": "@jupyter-widgets/controls",
          "model_module_version": "1.5.0",
          "model_name": "DescriptionStyleModel",
          "state": {
            "_model_module": "@jupyter-widgets/controls",
            "_model_module_version": "1.5.0",
            "_model_name": "DescriptionStyleModel",
            "_view_count": null,
            "_view_module": "@jupyter-widgets/base",
            "_view_module_version": "1.2.0",
            "_view_name": "StyleView",
            "description_width": ""
          }
        },
        "e38fe95f418f47de9019c2e72edf8a40": {
          "model_module": "@jupyter-widgets/base",
          "model_module_version": "1.2.0",
          "model_name": "LayoutModel",
          "state": {
            "_model_module": "@jupyter-widgets/base",
            "_model_module_version": "1.2.0",
            "_model_name": "LayoutModel",
            "_view_count": null,
            "_view_module": "@jupyter-widgets/base",
            "_view_module_version": "1.2.0",
            "_view_name": "LayoutView",
            "align_content": null,
            "align_items": null,
            "align_self": null,
            "border": null,
            "bottom": null,
            "display": null,
            "flex": null,
            "flex_flow": null,
            "grid_area": null,
            "grid_auto_columns": null,
            "grid_auto_flow": null,
            "grid_auto_rows": null,
            "grid_column": null,
            "grid_gap": null,
            "grid_row": null,
            "grid_template_areas": null,
            "grid_template_columns": null,
            "grid_template_rows": null,
            "height": null,
            "justify_content": null,
            "justify_items": null,
            "left": null,
            "margin": null,
            "max_height": null,
            "max_width": null,
            "min_height": null,
            "min_width": null,
            "object_fit": null,
            "object_position": null,
            "order": null,
            "overflow": null,
            "overflow_x": null,
            "overflow_y": null,
            "padding": null,
            "right": null,
            "top": null,
            "visibility": null,
            "width": null
          }
        },
        "e503f51a9fc642ba958b1f6941666b2d": {
          "model_module": "@jupyter-widgets/controls",
          "model_module_version": "1.5.0",
          "model_name": "HTMLModel",
          "state": {
            "_dom_classes": [],
            "_model_module": "@jupyter-widgets/controls",
            "_model_module_version": "1.5.0",
            "_model_name": "HTMLModel",
            "_view_count": null,
            "_view_module": "@jupyter-widgets/controls",
            "_view_module_version": "1.5.0",
            "_view_name": "HTMLView",
            "description": "",
            "description_tooltip": null,
            "layout": "IPY_MODEL_84750f36300042c69e921e17c96a0edf",
            "placeholder": "​",
            "style": "IPY_MODEL_3da9767c0f8a4c5096b4804cec015ed7",
            "value": " 499M/499M [00:10&lt;00:00, 75.7MB/s]"
          }
        },
        "e5e75b933bb049d0a96d6df462b99fef": {
          "model_module": "@jupyter-widgets/controls",
          "model_module_version": "1.5.0",
          "model_name": "FloatProgressModel",
          "state": {
            "_dom_classes": [],
            "_model_module": "@jupyter-widgets/controls",
            "_model_module_version": "1.5.0",
            "_model_name": "FloatProgressModel",
            "_view_count": null,
            "_view_module": "@jupyter-widgets/controls",
            "_view_module_version": "1.5.0",
            "_view_name": "ProgressView",
            "bar_style": "success",
            "description": "",
            "description_tooltip": null,
            "layout": "IPY_MODEL_2d39910ab59b491aa94812eb161cffe3",
            "max": 150,
            "min": 0,
            "orientation": "horizontal",
            "style": "IPY_MODEL_5cd3e4da046b493685a608bda1cadb12",
            "value": 150
          }
        },
        "e65e6c462f8044e98a2f9109b342034b": {
          "model_module": "@jupyter-widgets/controls",
          "model_module_version": "1.5.0",
          "model_name": "FloatProgressModel",
          "state": {
            "_dom_classes": [],
            "_model_module": "@jupyter-widgets/controls",
            "_model_module_version": "1.5.0",
            "_model_name": "FloatProgressModel",
            "_view_count": null,
            "_view_module": "@jupyter-widgets/controls",
            "_view_module_version": "1.5.0",
            "_view_name": "ProgressView",
            "bar_style": "success",
            "description": "",
            "description_tooltip": null,
            "layout": "IPY_MODEL_ff998f6efe5646b7acef0891850c512a",
            "max": 498627950,
            "min": 0,
            "orientation": "horizontal",
            "style": "IPY_MODEL_641afa8df1c14b79ab9564eef64a749e",
            "value": 498627950
          }
        },
        "eaf2c0dccbd0486a80a726b52714a2b7": {
          "model_module": "@jupyter-widgets/base",
          "model_module_version": "1.2.0",
          "model_name": "LayoutModel",
          "state": {
            "_model_module": "@jupyter-widgets/base",
            "_model_module_version": "1.2.0",
            "_model_name": "LayoutModel",
            "_view_count": null,
            "_view_module": "@jupyter-widgets/base",
            "_view_module_version": "1.2.0",
            "_view_name": "LayoutView",
            "align_content": null,
            "align_items": null,
            "align_self": null,
            "border": null,
            "bottom": null,
            "display": null,
            "flex": null,
            "flex_flow": null,
            "grid_area": null,
            "grid_auto_columns": null,
            "grid_auto_flow": null,
            "grid_auto_rows": null,
            "grid_column": null,
            "grid_gap": null,
            "grid_row": null,
            "grid_template_areas": null,
            "grid_template_columns": null,
            "grid_template_rows": null,
            "height": null,
            "justify_content": null,
            "justify_items": null,
            "left": null,
            "margin": null,
            "max_height": null,
            "max_width": null,
            "min_height": null,
            "min_width": null,
            "object_fit": null,
            "object_position": null,
            "order": null,
            "overflow": null,
            "overflow_x": null,
            "overflow_y": null,
            "padding": null,
            "right": null,
            "top": null,
            "visibility": null,
            "width": null
          }
        },
        "f1aaf1054def4b0eb7e4282c1329675c": {
          "model_module": "@jupyter-widgets/base",
          "model_module_version": "1.2.0",
          "model_name": "LayoutModel",
          "state": {
            "_model_module": "@jupyter-widgets/base",
            "_model_module_version": "1.2.0",
            "_model_name": "LayoutModel",
            "_view_count": null,
            "_view_module": "@jupyter-widgets/base",
            "_view_module_version": "1.2.0",
            "_view_name": "LayoutView",
            "align_content": null,
            "align_items": null,
            "align_self": null,
            "border": null,
            "bottom": null,
            "display": null,
            "flex": null,
            "flex_flow": null,
            "grid_area": null,
            "grid_auto_columns": null,
            "grid_auto_flow": null,
            "grid_auto_rows": null,
            "grid_column": null,
            "grid_gap": null,
            "grid_row": null,
            "grid_template_areas": null,
            "grid_template_columns": null,
            "grid_template_rows": null,
            "height": null,
            "justify_content": null,
            "justify_items": null,
            "left": null,
            "margin": null,
            "max_height": null,
            "max_width": null,
            "min_height": null,
            "min_width": null,
            "object_fit": null,
            "object_position": null,
            "order": null,
            "overflow": null,
            "overflow_x": null,
            "overflow_y": null,
            "padding": null,
            "right": null,
            "top": null,
            "visibility": null,
            "width": null
          }
        },
        "f2e638d7a5164ee8ac1ccb8ee173032e": {
          "model_module": "@jupyter-widgets/controls",
          "model_module_version": "1.5.0",
          "model_name": "HTMLModel",
          "state": {
            "_dom_classes": [],
            "_model_module": "@jupyter-widgets/controls",
            "_model_module_version": "1.5.0",
            "_model_name": "HTMLModel",
            "_view_count": null,
            "_view_module": "@jupyter-widgets/controls",
            "_view_module_version": "1.5.0",
            "_view_name": "HTMLView",
            "description": "",
            "description_tooltip": null,
            "layout": "IPY_MODEL_f5f13d9a4ecb413db817e13eacb96368",
            "placeholder": "​",
            "style": "IPY_MODEL_b65130449dbd46e691b01bc4a3506d31",
            "value": "Downloading: 100%"
          }
        },
        "f5f13d9a4ecb413db817e13eacb96368": {
          "model_module": "@jupyter-widgets/base",
          "model_module_version": "1.2.0",
          "model_name": "LayoutModel",
          "state": {
            "_model_module": "@jupyter-widgets/base",
            "_model_module_version": "1.2.0",
            "_model_name": "LayoutModel",
            "_view_count": null,
            "_view_module": "@jupyter-widgets/base",
            "_view_module_version": "1.2.0",
            "_view_name": "LayoutView",
            "align_content": null,
            "align_items": null,
            "align_self": null,
            "border": null,
            "bottom": null,
            "display": null,
            "flex": null,
            "flex_flow": null,
            "grid_area": null,
            "grid_auto_columns": null,
            "grid_auto_flow": null,
            "grid_auto_rows": null,
            "grid_column": null,
            "grid_gap": null,
            "grid_row": null,
            "grid_template_areas": null,
            "grid_template_columns": null,
            "grid_template_rows": null,
            "height": null,
            "justify_content": null,
            "justify_items": null,
            "left": null,
            "margin": null,
            "max_height": null,
            "max_width": null,
            "min_height": null,
            "min_width": null,
            "object_fit": null,
            "object_position": null,
            "order": null,
            "overflow": null,
            "overflow_x": null,
            "overflow_y": null,
            "padding": null,
            "right": null,
            "top": null,
            "visibility": null,
            "width": null
          }
        },
        "f6df77d09c89461aa46a162c327caa14": {
          "model_module": "@jupyter-widgets/controls",
          "model_module_version": "1.5.0",
          "model_name": "HBoxModel",
          "state": {
            "_dom_classes": [],
            "_model_module": "@jupyter-widgets/controls",
            "_model_module_version": "1.5.0",
            "_model_name": "HBoxModel",
            "_view_count": null,
            "_view_module": "@jupyter-widgets/controls",
            "_view_module_version": "1.5.0",
            "_view_name": "HBoxView",
            "box_style": "",
            "children": [
              "IPY_MODEL_3f9516f9384e4cc29d15c81b985aa68f",
              "IPY_MODEL_46c16bc7ac9f4be8bcf49b7497f251d0",
              "IPY_MODEL_3063d0e348064326bf9e6e5be076a1fa"
            ],
            "layout": "IPY_MODEL_6b4b011d603f4e0989ea0de89590bb42"
          }
        },
        "f759f6dfd96444c1b448a303c6fca51c": {
          "model_module": "@jupyter-widgets/controls",
          "model_module_version": "1.5.0",
          "model_name": "HBoxModel",
          "state": {
            "_dom_classes": [],
            "_model_module": "@jupyter-widgets/controls",
            "_model_module_version": "1.5.0",
            "_model_name": "HBoxModel",
            "_view_count": null,
            "_view_module": "@jupyter-widgets/controls",
            "_view_module_version": "1.5.0",
            "_view_name": "HBoxView",
            "box_style": "",
            "children": [
              "IPY_MODEL_27cddf2523854807bfb7eed3f27d517b",
              "IPY_MODEL_d920445d8f7c440cbbc4b23eb2fef2d1",
              "IPY_MODEL_8bb05ca7640a4f65aeda79932eb391fe"
            ],
            "layout": "IPY_MODEL_70667002e54d4b86a87908363ecd1851"
          }
        },
        "ff998f6efe5646b7acef0891850c512a": {
          "model_module": "@jupyter-widgets/base",
          "model_module_version": "1.2.0",
          "model_name": "LayoutModel",
          "state": {
            "_model_module": "@jupyter-widgets/base",
            "_model_module_version": "1.2.0",
            "_model_name": "LayoutModel",
            "_view_count": null,
            "_view_module": "@jupyter-widgets/base",
            "_view_module_version": "1.2.0",
            "_view_name": "LayoutView",
            "align_content": null,
            "align_items": null,
            "align_self": null,
            "border": null,
            "bottom": null,
            "display": null,
            "flex": null,
            "flex_flow": null,
            "grid_area": null,
            "grid_auto_columns": null,
            "grid_auto_flow": null,
            "grid_auto_rows": null,
            "grid_column": null,
            "grid_gap": null,
            "grid_row": null,
            "grid_template_areas": null,
            "grid_template_columns": null,
            "grid_template_rows": null,
            "height": null,
            "justify_content": null,
            "justify_items": null,
            "left": null,
            "margin": null,
            "max_height": null,
            "max_width": null,
            "min_height": null,
            "min_width": null,
            "object_fit": null,
            "object_position": null,
            "order": null,
            "overflow": null,
            "overflow_x": null,
            "overflow_y": null,
            "padding": null,
            "right": null,
            "top": null,
            "visibility": null,
            "width": null
          }
        }
      }
    }
  },
  "nbformat": 4,
  "nbformat_minor": 5
}
