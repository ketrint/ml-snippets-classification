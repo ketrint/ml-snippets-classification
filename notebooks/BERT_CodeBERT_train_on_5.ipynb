{
  "cells": [
    {
      "cell_type": "markdown",
      "id": "il6tHyjz75P2",
      "metadata": {
        "id": "il6tHyjz75P2"
      },
      "source": [
        "## Import & install libs"
      ]
    },
    {
      "cell_type": "code",
      "execution_count": null,
      "id": "j9uxEpOyY1To",
      "metadata": {
        "colab": {
          "base_uri": "https://localhost:8080/"
        },
        "id": "j9uxEpOyY1To",
        "outputId": "5b9cf6a2-a5ef-45d3-e87b-0143d367c3dd"
      },
      "outputs": [
        {
          "name": "stdout",
          "output_type": "stream",
          "text": [
            "Looking in indexes: https://pypi.org/simple, https://us-python.pkg.dev/colab-wheels/public/simple/\n",
            "Collecting transformers\n",
            "  Downloading transformers-4.25.1-py3-none-any.whl (5.8 MB)\n",
            "\u001b[K     |████████████████████████████████| 5.8 MB 7.7 MB/s \n",
            "\u001b[?25hCollecting huggingface-hub<1.0,>=0.10.0\n",
            "  Downloading huggingface_hub-0.11.1-py3-none-any.whl (182 kB)\n",
            "\u001b[K     |████████████████████████████████| 182 kB 66.1 MB/s \n",
            "\u001b[?25hRequirement already satisfied: regex!=2019.12.17 in /usr/local/lib/python3.8/dist-packages (from transformers) (2022.6.2)\n",
            "Requirement already satisfied: filelock in /usr/local/lib/python3.8/dist-packages (from transformers) (3.8.0)\n",
            "Requirement already satisfied: packaging>=20.0 in /usr/local/lib/python3.8/dist-packages (from transformers) (21.3)\n",
            "Requirement already satisfied: tqdm>=4.27 in /usr/local/lib/python3.8/dist-packages (from transformers) (4.64.1)\n",
            "Requirement already satisfied: pyyaml>=5.1 in /usr/local/lib/python3.8/dist-packages (from transformers) (6.0)\n",
            "Requirement already satisfied: numpy>=1.17 in /usr/local/lib/python3.8/dist-packages (from transformers) (1.21.6)\n",
            "Requirement already satisfied: requests in /usr/local/lib/python3.8/dist-packages (from transformers) (2.23.0)\n",
            "Collecting tokenizers!=0.11.3,<0.14,>=0.11.1\n",
            "  Downloading tokenizers-0.13.2-cp38-cp38-manylinux_2_17_x86_64.manylinux2014_x86_64.whl (7.6 MB)\n",
            "\u001b[K     |████████████████████████████████| 7.6 MB 69.9 MB/s \n",
            "\u001b[?25hRequirement already satisfied: typing-extensions>=3.7.4.3 in /usr/local/lib/python3.8/dist-packages (from huggingface-hub<1.0,>=0.10.0->transformers) (4.1.1)\n",
            "Requirement already satisfied: pyparsing!=3.0.5,>=2.0.2 in /usr/local/lib/python3.8/dist-packages (from packaging>=20.0->transformers) (3.0.9)\n",
            "Requirement already satisfied: certifi>=2017.4.17 in /usr/local/lib/python3.8/dist-packages (from requests->transformers) (2022.9.24)\n",
            "Requirement already satisfied: idna<3,>=2.5 in /usr/local/lib/python3.8/dist-packages (from requests->transformers) (2.10)\n",
            "Requirement already satisfied: chardet<4,>=3.0.2 in /usr/local/lib/python3.8/dist-packages (from requests->transformers) (3.0.4)\n",
            "Requirement already satisfied: urllib3!=1.25.0,!=1.25.1,<1.26,>=1.21.1 in /usr/local/lib/python3.8/dist-packages (from requests->transformers) (1.24.3)\n",
            "Installing collected packages: tokenizers, huggingface-hub, transformers\n",
            "Successfully installed huggingface-hub-0.11.1 tokenizers-0.13.2 transformers-4.25.1\n"
          ]
        }
      ],
      "source": [
        "pip install transformers"
      ]
    },
    {
      "cell_type": "code",
      "execution_count": 24,
      "id": "low8kMbm-H-z",
      "metadata": {
        "id": "low8kMbm-H-z"
      },
      "outputs": [],
      "source": [
        "import pandas as pd\n",
        "import torch\n",
        "import torch.nn as nn\n",
        "import torch.nn.functional as F\n",
        "import numpy as np\n",
        "from transformers import RobertaForSequenceClassification, RobertaTokenizer\n",
        "from transformers import BertForSequenceClassification, BertTokenizer\n",
        "\n",
        "import re\n",
        "import random\n",
        "import os\n",
        "\n",
        "from tqdm import tqdm\n",
        "from IPython.display import clear_output\n",
        "\n",
        "from sklearn.metrics import accuracy_score\n",
        "from sklearn.model_selection import train_test_split\n",
        "from sklearn.utils import shuffle\n",
        "from sklearn.metrics import f1_score\n",
        "\n",
        "\n",
        "from google.colab import files\n",
        "\n",
        "\n",
        "# graphics settings:\n",
        "import matplotlib.pyplot as plt\n",
        "import seaborn as sns\n",
        "sns.set(style='whitegrid')\n",
        "%config InlineBackend.figure_format = 'retina'\n",
        "plt.rcParams['figure.figsize'] = 10, 8\n",
        "plt.rcParams['font.size'] = 12\n",
        "sns.set_style('darkgrid')"
      ]
    },
    {
      "cell_type": "code",
      "execution_count": null,
      "id": "KKELsE3ZbmyD",
      "metadata": {
        "id": "KKELsE3ZbmyD"
      },
      "outputs": [],
      "source": [
        "def seed_everything(seed=42):\n",
        "    random.seed(seed)\n",
        "    os.environ['PYTHONHASHSEED'] = str(seed)\n",
        "    np.random.seed(seed)\n",
        "    torch.manual_seed(seed)\n",
        "    torch.backends.cudnn.deterministic = True\n",
        "    torch.backends.cudnn.benchmark = False\n",
        "seed_everything()"
      ]
    },
    {
      "cell_type": "markdown",
      "id": "UuZmtWYH0o53",
      "metadata": {
        "id": "UuZmtWYH0o53"
      },
      "source": [
        "## Load & preprocess data"
      ]
    },
    {
      "cell_type": "code",
      "execution_count": null,
      "id": "FTzsvr7o-K3e",
      "metadata": {
        "id": "FTzsvr7o-K3e"
      },
      "outputs": [],
      "source": [
        "def read_data(path):\n",
        "    dml = pd.read_csv(path, index_col=None).drop('Unnamed: 0', axis=1)\n",
        "    print('ALL SNIPPETS: ', dml.shape[0], 'UNIQUE: ', len(dml['code_block'].unique()))\n",
        "    dml = dml.dropna()\n",
        "    print('WITHOUT NANS: ', dml.shape[0])\n",
        "    other_dml = dml[dml['marks'] == 4]\n",
        "    dml = dml[dml['marks'] == 5]\n",
        "    print('CLEAR DATA MARKS', dml.shape[0])\n",
        "    dml = dml[(dml['graph_vertex_id'] != 53) & (dml['graph_vertex_id'] != 84)]\n",
        "    print('CLEAR DATA CLASSES', dml.shape[0])\n",
        "    return dml, other_dml"
      ]
    },
    {
      "cell_type": "code",
      "execution_count": null,
      "id": "T2DfgjBsP61M",
      "metadata": {
        "colab": {
          "base_uri": "https://localhost:8080/"
        },
        "id": "T2DfgjBsP61M",
        "outputId": "18aeada2-dcdd-47b9-bd87-ce97987c162f"
      },
      "outputs": [
        {
          "name": "stdout",
          "output_type": "stream",
          "text": [
            "ALL SNIPPETS:  7947 UNIQUE:  7839\n",
            "WITHOUT NANS:  7947\n",
            "CLEAR DATA MARKS 5371\n",
            "CLEAR DATA CLASSES 5152\n"
          ]
        }
      ],
      "source": [
        "path = 'snippets.csv'\n",
        "dml, other_dml = read_data(path)"
      ]
    },
    {
      "cell_type": "code",
      "execution_count": null,
      "id": "xo_FXemVY7XJ",
      "metadata": {
        "id": "xo_FXemVY7XJ"
      },
      "outputs": [],
      "source": [
        "#add_data = pd.read_csv('snippets_after_split_no_duplicates.csv')\n",
        "#print(add_data.shape)\n",
        "#add_data = add_data.dropna()\n",
        "#print(add_data.shape)\n",
        "#X_add = add_data.drop(columns=['graph_vertex_id'], axis=1)\n",
        "#y_add = add_data['graph_vertex_id'] - 1"
      ]
    },
    {
      "cell_type": "code",
      "execution_count": null,
      "id": "niF3UbV-cXwb",
      "metadata": {
        "colab": {
          "base_uri": "https://localhost:8080/"
        },
        "id": "niF3UbV-cXwb",
        "outputId": "c9092f6a-4920-4c26-df81-94501bcd4ee7"
      },
      "outputs": [
        {
          "name": "stdout",
          "output_type": "stream",
          "text": [
            "65\n"
          ]
        }
      ],
      "source": [
        "all_classes = np.unique(sorted(dml['graph_vertex_id'].unique()))\n",
        "print(len(all_classes))\n",
        "n_classes = len(all_classes)"
      ]
    },
    {
      "cell_type": "code",
      "execution_count": null,
      "id": "OryraYgGcZRp",
      "metadata": {
        "id": "OryraYgGcZRp"
      },
      "outputs": [],
      "source": [
        "import re\n",
        "from typing import List, Union\n",
        "\n",
        "def preprocess_snippet(snippet: str, format='str') -> Union[str, List[str]]:\n",
        "    \"\"\"Performs string preprocessing.\"\"\"\n",
        "    return snippet"
      ]
    },
    {
      "cell_type": "code",
      "execution_count": null,
      "id": "YE3Y1Xd4cbt4",
      "metadata": {
        "id": "YE3Y1Xd4cbt4"
      },
      "outputs": [],
      "source": [
        "def ind(el):\n",
        "  return list(all_classes).index(el)\n",
        "\n",
        "dml['code_block'] = dml['code_block'].apply(preprocess_snippet)\n",
        "dml = shuffle(dml, random_state=42)\n",
        "X = dml[['code_block']]\n",
        "y = dml['graph_vertex_id'].apply(ind)"
      ]
    },
    {
      "cell_type": "code",
      "execution_count": null,
      "id": "W0c31IBZ-OsH",
      "metadata": {
        "colab": {
          "base_uri": "https://localhost:8080/"
        },
        "id": "W0c31IBZ-OsH",
        "outputId": "1837e7a2-a675-455c-fa48-fc1017b5d7bf"
      },
      "outputs": [
        {
          "name": "stdout",
          "output_type": "stream",
          "text": [
            "(2070, 1)\n"
          ]
        }
      ],
      "source": [
        "X_train, X_test, y_train, y_test = train_test_split(X, y, test_size=0.4, random_state=42)\n",
        "X_train, X_val, y_train, y_val = train_test_split(X_train, y_train, test_size=0.33, random_state=42)\n",
        "# add marks 4 data\n",
        "#X_train = pd.concat((X_train, other_dml[['code_block']]))\n",
        "#y_train = pd.concat((y_train, other_dml['graph_vertex_id'].apply(ind)))\n",
        "print(X_train.shape)"
      ]
    },
    {
      "cell_type": "code",
      "execution_count": null,
      "id": "43lq6EUx3B7F",
      "metadata": {
        "colab": {
          "base_uri": "https://localhost:8080/"
        },
        "id": "43lq6EUx3B7F",
        "outputId": "ef73bf16-0fd5-4fb2-faf9-155c4f345bb8"
      },
      "outputs": [
        {
          "data": {
            "text/plain": [
              "code_block    df = pd.read_csv('../input/train.csv', parse_d...\n",
              "Name: 3854, dtype: object"
            ]
          },
          "execution_count": 11,
          "metadata": {},
          "output_type": "execute_result"
        }
      ],
      "source": [
        "X_train.iloc[228]"
      ]
    },
    {
      "cell_type": "markdown",
      "id": "kSJ2Sa8ZMRwi",
      "metadata": {
        "id": "kSJ2Sa8ZMRwi"
      },
      "source": [
        "# CodeBERT"
      ]
    },
    {
      "cell_type": "code",
      "execution_count": null,
      "id": "XMp-r-XbMV2w",
      "metadata": {
        "colab": {
          "base_uri": "https://localhost:8080/"
        },
        "id": "XMp-r-XbMV2w",
        "outputId": "8c8bd8bd-c3f1-4261-d9ef-3ccca3ae254f"
      },
      "outputs": [
        {
          "name": "stdout",
          "output_type": "stream",
          "text": [
            "Our main computing device is 'cuda:0'\n"
          ]
        }
      ],
      "source": [
        "def get_computing_device():\n",
        "    if torch.cuda.is_available():\n",
        "        device = torch.device('cuda:0')\n",
        "    else:\n",
        "        device = torch.device('cpu')\n",
        "    return device\n",
        "\n",
        "device = get_computing_device()\n",
        "print(f\"Our main computing device is '{device}'\")"
      ]
    },
    {
      "cell_type": "code",
      "execution_count": null,
      "id": "wv-WCovI7KGc",
      "metadata": {
        "colab": {
          "base_uri": "https://localhost:8080/",
          "height": 320,
          "referenced_widgets": [
            "b19dff017a64440a8889b3cd8d6f639d",
            "9e61e30d2cb148b79860c2ab181f2f20",
            "ac71197cd32e4565b7e45557f1a4f107",
            "50a049c1f3c841708c90b282c1f1393a",
            "490755ba47ea4b0c9fb7a6b78c29e10e",
            "2d220b9ba47a45d88434d4461d6dffc1",
            "e1e9698760c64f578f5b0b68911593e3",
            "4d27b7c2424a437cbff8d9f4f567317c",
            "0736253b34714681b9e40223d37462a6",
            "b3cd526503e4472c841a65814171b405",
            "9c54cd191c1e4dde89a51a8c838c622f",
            "77a071275d6d4eb186073e2de0bde607",
            "d47526b963514a75986e863b2e5cdad5",
            "eb0ad507902c425b99426bec1e5338c7",
            "996404827a1e4fcf8b9efef0c24abf36",
            "6e352643a6db4254876b7ee65e643e3b",
            "b5ba107ebdec4f80b00f642e0ff79dfa",
            "e6c5f1b8f4324dc1ba5d92016a88bb75",
            "90dc1ea2d41e4e05bff9bbabb5bf1b9a",
            "74334871ef264ee2b51b8fdc3e9f23c9",
            "64c81656ed43459399a6b357567dc0b4",
            "3bd2d5bdf66b45feb3285cf3a380b7f2",
            "a2cf9d260e504c3caff0168d28c88fa5",
            "6f45ea9112b348a482cc1972099ef268",
            "4e009c91ffcf43fbbb4ef8c2b6f3a3b1",
            "ed98b54cb6954dfab89fe457880a9c00",
            "f1a4b01d1ea141a682adf002e4210d1e",
            "d6546629ead94ac0b9758bf7d9eb328e",
            "4954d70bd07f411680285f427945bde6",
            "ef14172e7c9541b28a9811977b065308",
            "5240b58370f744f5a56da0cd4c5cf9f5",
            "d7d64f87eb744c29b140901078a6269f",
            "17ff645de9dc4ca4a6477cfd5ee8d93d",
            "f1b331f853644e9c83b339a021252823",
            "c004e94afa184f3180b3a16195d59840",
            "ae6f1d99e2c84785ae63ca4c35705209",
            "b78dd588fe1d499aab7249011efeb55b",
            "fa0cb635ba544553963823b23652f9e0",
            "cba77fc7f46a4d2eb78349657373736d",
            "5354bab8e20c43d691638f9df65f4992",
            "6300253adce546bebf3b1f5c349c2d60",
            "34ed9d19456b40f58bd9b4efa75a588d",
            "f5d1e15fc511455fb272081bad52cc6d",
            "a807eaf49f3e4c66bf7a0728e34b7e37",
            "65fb4d2c7428467982d294556df308f8",
            "605e3dcae5c64323b2d49273c3e4a651",
            "e77dff416fb14c43a2f75348c72b2676",
            "83d0976469234d5db8aaaf9f6588ed40",
            "01a6fdea92a549308488f7ac8f108729",
            "b2089d555e724df39286da0ab9789c3b",
            "53ecfd14d2be426fb498c1d5ca43e14e",
            "bdfba5c1a50c42dd9e19a7d0634f14c2",
            "715f2b3e980d49448b635a4f329e41df",
            "85b5ac2552e84b11b88d8c1210ca66c6",
            "771304c10cbe4bc2a9342e3f09008299",
            "83f570fac099488492a0b3768a5529ad",
            "06adbe7bf556486096523aa591f50f09",
            "0595d453719840a489b8b61c8f3f7c65",
            "0056cf849f814cce8cec4cf1f2b46ecc",
            "75f28aa1b6b64e07b2c8fdf60d1aae92",
            "93c8b3315cbe488fb83acd0538452c56",
            "190073e86d5c41e4bb9d00a5ceec800a",
            "3ae16ce363644194aeae8445f1ef9954",
            "ba8d20fed9934b04a55f16c5a92f3340",
            "46e052ec6c0f47fe8d8be072ca49baa9",
            "55a8fe90093f4bb88548ec504c045d07"
          ]
        },
        "id": "wv-WCovI7KGc",
        "outputId": "a1680e1e-5f75-433f-f205-4188b5792872"
      },
      "outputs": [
        {
          "data": {
            "application/vnd.jupyter.widget-view+json": {
              "model_id": "b19dff017a64440a8889b3cd8d6f639d",
              "version_major": 2,
              "version_minor": 0
            },
            "text/plain": [
              "Downloading:   0%|          | 0.00/899k [00:00<?, ?B/s]"
            ]
          },
          "metadata": {},
          "output_type": "display_data"
        },
        {
          "data": {
            "application/vnd.jupyter.widget-view+json": {
              "model_id": "77a071275d6d4eb186073e2de0bde607",
              "version_major": 2,
              "version_minor": 0
            },
            "text/plain": [
              "Downloading:   0%|          | 0.00/456k [00:00<?, ?B/s]"
            ]
          },
          "metadata": {},
          "output_type": "display_data"
        },
        {
          "data": {
            "application/vnd.jupyter.widget-view+json": {
              "model_id": "a2cf9d260e504c3caff0168d28c88fa5",
              "version_major": 2,
              "version_minor": 0
            },
            "text/plain": [
              "Downloading:   0%|          | 0.00/150 [00:00<?, ?B/s]"
            ]
          },
          "metadata": {},
          "output_type": "display_data"
        },
        {
          "data": {
            "application/vnd.jupyter.widget-view+json": {
              "model_id": "f1b331f853644e9c83b339a021252823",
              "version_major": 2,
              "version_minor": 0
            },
            "text/plain": [
              "Downloading:   0%|          | 0.00/25.0 [00:00<?, ?B/s]"
            ]
          },
          "metadata": {},
          "output_type": "display_data"
        },
        {
          "data": {
            "application/vnd.jupyter.widget-view+json": {
              "model_id": "65fb4d2c7428467982d294556df308f8",
              "version_major": 2,
              "version_minor": 0
            },
            "text/plain": [
              "Downloading:   0%|          | 0.00/498 [00:00<?, ?B/s]"
            ]
          },
          "metadata": {},
          "output_type": "display_data"
        },
        {
          "data": {
            "application/vnd.jupyter.widget-view+json": {
              "model_id": "83f570fac099488492a0b3768a5529ad",
              "version_major": 2,
              "version_minor": 0
            },
            "text/plain": [
              "Downloading:   0%|          | 0.00/499M [00:00<?, ?B/s]"
            ]
          },
          "metadata": {},
          "output_type": "display_data"
        },
        {
          "name": "stderr",
          "output_type": "stream",
          "text": [
            "Some weights of the model checkpoint at microsoft/codebert-base were not used when initializing RobertaForSequenceClassification: ['pooler.dense.weight', 'pooler.dense.bias']\n",
            "- This IS expected if you are initializing RobertaForSequenceClassification from the checkpoint of a model trained on another task or with another architecture (e.g. initializing a BertForSequenceClassification model from a BertForPreTraining model).\n",
            "- This IS NOT expected if you are initializing RobertaForSequenceClassification from the checkpoint of a model that you expect to be exactly identical (initializing a BertForSequenceClassification model from a BertForSequenceClassification model).\n",
            "Some weights of RobertaForSequenceClassification were not initialized from the model checkpoint at microsoft/codebert-base and are newly initialized: ['classifier.dense.weight', 'classifier.out_proj.weight', 'classifier.out_proj.bias', 'classifier.dense.bias']\n",
            "You should probably TRAIN this model on a down-stream task to be able to use it for predictions and inference.\n"
          ]
        }
      ],
      "source": [
        "tokenizer = RobertaTokenizer.from_pretrained(\"microsoft/codebert-base\")\n",
        "model = RobertaForSequenceClassification.from_pretrained(\"microsoft/codebert-base\", num_labels=n_classes)"
      ]
    },
    {
      "cell_type": "code",
      "execution_count": null,
      "id": "G2rZ2Xru7bL0",
      "metadata": {
        "id": "G2rZ2Xru7bL0"
      },
      "outputs": [],
      "source": [
        "class SnippetsDataset(torch.utils.data.Dataset):\n",
        "    def __init__(self, X, y):\n",
        "        self.data = X['code_block'].apply(preprocess_snippet).values\n",
        "        self.labels = torch.tensor(y.values).view((-1, 1))\n",
        "        return\n",
        "    \n",
        "    def __len__(self):\n",
        "        return len(self.labels)\n",
        "\n",
        "    def __getitem__(self, ind):\n",
        "        snippets = tokenizer.batch_encode_plus([self.data[ind]], add_special_tokens=True, padding='max_length', truncation=True, return_tensors='pt', max_length=512)\n",
        "        input_ids, attention_mask = snippets['input_ids'].squeeze(0), snippets['attention_mask'].squeeze(0)\n",
        "        labels = self.labels[ind]\n",
        "        return input_ids, attention_mask, labels"
      ]
    },
    {
      "cell_type": "code",
      "execution_count": null,
      "id": "cbtTcX1r8A-W",
      "metadata": {
        "id": "cbtTcX1r8A-W"
      },
      "outputs": [],
      "source": [
        "BATCH_SIZE = 16\n",
        "\n",
        "train_dataset = SnippetsDataset(X_train, y_train)\n",
        "test_dataset = SnippetsDataset(X_test, y_test)\n",
        "val_dataset = SnippetsDataset(X_val, y_val)\n",
        "\n",
        "train_loader = torch.utils.data.DataLoader(train_dataset, batch_size=BATCH_SIZE, shuffle=True)\n",
        "test_loader = torch.utils.data.DataLoader(test_dataset, batch_size=BATCH_SIZE)\n",
        "val_loader = torch.utils.data.DataLoader(val_dataset, batch_size=BATCH_SIZE)"
      ]
    },
    {
      "cell_type": "code",
      "execution_count": 17,
      "id": "9_t0_4fL8FJ_",
      "metadata": {
        "id": "9_t0_4fL8FJ_"
      },
      "outputs": [],
      "source": [
        "def train(model, optimizer, data_loader, loss_function):\n",
        "    model.train()\n",
        "    loss_sum = 0\n",
        "    pbar = tqdm(data_loader)\n",
        "    true_labels = np.array([])\n",
        "    pred_labels = np.array([])\n",
        "    for input_ids, attention_mask, labels in pbar:\n",
        "        input_ids, attention_mask, labels = input_ids.to(device), attention_mask.to(device), labels.to(device).squeeze(-1)\n",
        "        logits = model(input_ids, attention_mask)['logits']\n",
        "        \n",
        "        loss = loss_function(logits, labels)\n",
        "        optimizer.zero_grad()\n",
        "        loss.backward()\n",
        "        loss_sum += loss.item() * labels.shape[0]\n",
        "        optimizer.step()\n",
        "\n",
        "        ids = F.softmax(logits, dim=-1).argmax(dim=-1).cpu().numpy()\n",
        "        labels = labels.cpu().numpy()\n",
        "        true_labels = np.hstack((true_labels, labels)) if true_labels.size else labels \n",
        "        pred_labels = np.hstack((pred_labels, ids)) if pred_labels.size else ids \n",
        "        \n",
        "        accuracy = accuracy_score(true_labels, pred_labels)\n",
        "        f1 = f1_score(true_labels, pred_labels, average='weighted')\n",
        "        pbar.set_description(\"accuracy on batch %f f1 on batch %f loss on batch %f\" % (accuracy, f1, loss.item()))\n",
        "    return accuracy, f1, loss_sum / len(data_loader.dataset)\n",
        "\n",
        "def test(model, data_loader, loss_function):\n",
        "    model.eval()\n",
        "    true_labels = np.array([])\n",
        "    pred_labels = np.array([]) \n",
        "    loss_sum = 0\n",
        "    pbar = tqdm(data_loader)\n",
        "    for input_ids, attention_mask, labels in pbar:\n",
        "        input_ids, attention_mask, labels = input_ids.to(device), attention_mask.to(device), labels.to(device).squeeze(-1)\n",
        "        with torch.inference_mode():\n",
        "            logits = model(input_ids, attention_mask)['logits']\n",
        "        loss = loss_function(logits, labels)\n",
        "        loss_sum += loss.item() * labels.shape[0]\n",
        "        ids = F.softmax(logits, dim=-1).argmax(dim=-1).cpu().numpy()\n",
        "        labels = labels.cpu().numpy()\n",
        "        true_labels = np.hstack((true_labels, labels)) if true_labels.size else labels \n",
        "        pred_labels = np.hstack((pred_labels, ids)) if pred_labels.size else ids \n",
        "        accuracy = accuracy_score(true_labels, pred_labels)\n",
        "        f1 = f1_score(true_labels, pred_labels, average='weighted')\n",
        "        \n",
        "        pbar.set_description(\"accuracy on batch %f f1 on batch %f loss on batch %f\" % (accuracy, f1, loss.item()))\n",
        "    return accuracy, f1, loss_sum / len(data_loader.dataset)\n",
        "\n",
        "def classification(model, optimizer, loss_function, train_loader, val_loader, test_loader, num_epochs, scheduler=None):\n",
        "    val_ac, val_f1, val_loss, train_ac, train_f1, train_loss, test_ac, test_f1, test_loss = [], [], [], [], [] ,[], [], [], []\n",
        "\n",
        "    for i in range(1, num_epochs + 1):\n",
        "\n",
        "        tr_ac, tr_f1, tr_l = train(model, optimizer, train_loader, loss_function) \n",
        "        train_ac.append(tr_ac)\n",
        "        train_f1.append(tr_f1)\n",
        "        train_loss.append(tr_l) \n",
        "        v_ac, v_f1, v_l = test(model, val_loader, loss_function)\n",
        "        val_ac.append(v_ac) \n",
        "        val_f1.append(v_f1)\n",
        "        val_loss.append(v_l)\n",
        "        t_ac, t_f1, t_l = test(model, test_loader, loss_function)\n",
        "        test_ac.append(t_ac) \n",
        "        test_f1.append(t_f1)\n",
        "        test_loss.append(t_l)\n",
        "        \n",
        "        fig, ax = plt.subplots(1, 3, figsize=(22,6))\n",
        "        \n",
        "        ax[0].plot(np.arange(1, i + 1), val_ac, color=\"#67E46F\", label='Val accuracy') \n",
        "        ax[0].plot(np.arange(1, i + 1), train_ac, color=\"#CB60D3\", label='Train accuracy')\n",
        "        ax[0].plot(np.arange(1, i + 1), test_ac, color=\"#E969A8\", label='Test accuracy')\n",
        "\n",
        "        ax[1].plot(np.arange(1, i + 1), val_f1, color=\"#67E46F\", label='Val f1') \n",
        "        ax[1].plot(np.arange(1, i + 1), train_f1, color=\"#CB60D3\", label='Train f1')\n",
        "        ax[1].plot(np.arange(1, i + 1), test_f1, color=\"#E969A8\", label='Test f1')\n",
        "        \n",
        "        ax[2].plot(np.arange(1, i + 1), val_loss, color=\"#67E46F\", label='Val loss') \n",
        "        ax[2].plot(np.arange(1, i + 1), train_loss,  color=\"#CB60D3\", label='Train loss')\n",
        "        ax[2].plot(np.arange(1, i + 1), test_loss, color=\"#E969A8\", label='Test loss')\n",
        "        \n",
        "        \n",
        "        ax[0].set_ylabel('Accuracy')\n",
        "        ax[0].set_xlabel('Epoch')\n",
        "        ax[0].legend()\n",
        "        ax[1].set_ylabel('F1 score')\n",
        "        ax[1].set_xlabel('Epoch')\n",
        "        ax[1].legend()\n",
        "        ax[2].legend()\n",
        "        ax[2].set_ylabel('Loss')\n",
        "        ax[2].set_xlabel('Epoch')\n",
        "        clear_output(True)\n",
        "        plt.show()\n",
        "        print('MAX TEST ACCURACY: ', max(test_ac))\n",
        "        print('MAX VAL ACCURACY: ', max(val_ac))\n",
        "        print('MAX TEST F1: ', max(test_f1))\n",
        "        print('MAX VAL F1: ', max(val_f1))\n",
        "        print(tr_f1, v_f1, t_f1)\n",
        "        if scheduler is not None:\n",
        "            scheduler.step()\n",
        "    return val_ac, val_f1, val_loss, train_ac, train_f1, train_loss, test_ac, test_f1, test_loss    "
      ]
    },
    {
      "cell_type": "code",
      "execution_count": 18,
      "id": "Vvy6WPUoLVQD",
      "metadata": {
        "id": "Vvy6WPUoLVQD"
      },
      "outputs": [],
      "source": [
        "model = model.to(device)\n",
        "criterion = nn.CrossEntropyLoss()\n",
        "optimizer = torch.optim.AdamW(model.parameters(), lr=0.00007)\n",
        "scheduler = torch.optim.lr_scheduler.StepLR(optimizer, step_size=10, gamma=0.1)"
      ]
    },
    {
      "cell_type": "code",
      "execution_count": 19,
      "id": "_NuPVqEBLmsa",
      "metadata": {
        "colab": {
          "base_uri": "https://localhost:8080/",
          "height": 484
        },
        "id": "_NuPVqEBLmsa",
        "outputId": "25ad42d6-0827-4315-cfe9-30f2bad29c52"
      },
      "outputs": [
        {
          "data": {
            "image/png": "[encoded data removed]",
            "text/plain": [
              "<Figure size 1584x432 with 3 Axes>"
            ]
          },
          "metadata": {
            "image/png": {
              "height": 376,
              "width": 1285
            }
          },
          "output_type": "display_data"
        },
        {
          "name": "stdout",
          "output_type": "stream",
          "text": [
            "MAX TEST ACCURACY:  0.8777292576419214\n",
            "MAX VAL ACCURACY:  0.8765915768854065\n",
            "MAX TEST F1:  0.8727486499724002\n",
            "MAX VAL F1:  0.8735341973368421\n",
            "0.9810330014739359 0.8520386847558999 0.8546133041386884\n"
          ]
        }
      ],
      "source": [
        "val_ac, val_f1, val_loss, train_ac, train_f1, train_loss, test_ac, test_f1, test_loss = classification(model, optimizer, criterion, train_loader, val_loader, test_loader, 20)"
      ]
    },
    {
      "cell_type": "markdown",
      "id": "79MgDbRPbjNN",
      "metadata": {
        "id": "79MgDbRPbjNN"
      },
      "source": [
        "# Save model"
      ]
    },
    {
      "cell_type": "code",
      "execution_count": 20,
      "id": "_6NwAnpdgQY6",
      "metadata": {
        "colab": {
          "base_uri": "https://localhost:8080/"
        },
        "id": "_6NwAnpdgQY6",
        "outputId": "2606da7e-02bc-4800-de8f-2aa24242f7ff"
      },
      "outputs": [
        {
          "name": "stdout",
          "output_type": "stream",
          "text": [
            "Mounted at /content/drive\n"
          ]
        }
      ],
      "source": [
        "from google.colab import drive\n",
        "drive.mount('/content/drive')"
      ]
    },
    {
      "cell_type": "code",
      "execution_count": 21,
      "id": "yyDBWt8XHY9b",
      "metadata": {
        "id": "yyDBWt8XHY9b"
      },
      "outputs": [],
      "source": [
        "model.save_pretrained(\"/content/drive/MyDrive/model\")"
      ]
    },
    {
      "cell_type": "markdown",
      "id": "OlUB5S_Ebl6E",
      "metadata": {
        "id": "OlUB5S_Ebl6E"
      },
      "source": [
        "# Predictions on all data"
      ]
    },
    {
      "cell_type": "code",
      "execution_count": null,
      "id": "bbFd8QKJMY3H",
      "metadata": {
        "colab": {
          "base_uri": "https://localhost:8080/"
        },
        "id": "bbFd8QKJMY3H",
        "outputId": "809a164e-83d2-430e-ca85-ed2b308fa3f8"
      },
      "outputs": [
        {
          "name": "stderr",
          "output_type": "stream",
          "text": [
            "5152it [03:03, 28.00it/s]\n"
          ]
        }
      ],
      "source": [
        "model.eval()\n",
        "res = dml.copy()\n",
        "res['type'] = '*'\n",
        "res['predicted_graph_vertex_id'] = '*'\n",
        "res['predicted_graph_vertex_prob'] = '*'\n",
        "for ind, row in tqdm(dml.iterrows()):\n",
        "    if ind in X_train.index:\n",
        "        res.loc[ind, 'type'] = 'train'\n",
        "    elif ind in X_test.index:\n",
        "        res.loc[ind, 'type'] = 'test'\n",
        "    else:\n",
        "        res.loc[ind, 'type'] = 'val'\n",
        "    \n",
        "    snippet = preprocess_snippet(row['code_block'])\n",
        "    snippet = tokenizer.batch_encode_plus([snippet], add_special_tokens=True, padding='max_length', truncation=True, return_tensors='pt', max_length=512)\n",
        "    input_ids, attention_mask = snippet['input_ids'], snippet['attention_mask']\n",
        "    input_ids, attention_mask = input_ids.to(device), attention_mask.to(device)\n",
        "    with torch.inference_mode():\n",
        "        logits = model(input_ids, attention_mask)['logits']\n",
        "    vertex = F.softmax(logits, dim=-1).argmax(dim=-1).item()\n",
        "    prob = F.softmax(logits, dim=-1).max(dim=-1)[0].item()\n",
        "    res.loc[ind, 'predicted_graph_vertex_id'] = vertex\n",
        "    res.loc[ind, 'predicted_graph_vertex_prob'] = prob"
      ]
    },
    {
      "cell_type": "code",
      "execution_count": null,
      "id": "-VmxFPlxQfXd",
      "metadata": {
        "colab": {
          "base_uri": "https://localhost:8080/",
          "height": 424
        },
        "id": "-VmxFPlxQfXd",
        "outputId": "c3be19c0-92c2-463f-d1c2-b934d0fff0cc"
      },
      "outputs": [
        {
          "data": {
            "text/html": [
              "\n",
              "  <div id=\"df-910c73a5-cb24-49f5-bdb2-c2a7075dcc40\">\n",
              "    <div class=\"colab-df-container\">\n",
              "      <div>\n",
              "<style scoped>\n",
              "    .dataframe tbody tr th:only-of-type {\n",
              "        vertical-align: middle;\n",
              "    }\n",
              "\n",
              "    .dataframe tbody tr th {\n",
              "        vertical-align: top;\n",
              "    }\n",
              "\n",
              "    .dataframe thead th {\n",
              "        text-align: right;\n",
              "    }\n",
              "</style>\n",
              "<table border=\"1\" class=\"dataframe\">\n",
              "  <thead>\n",
              "    <tr style=\"text-align: right;\">\n",
              "      <th></th>\n",
              "      <th>code_block</th>\n",
              "      <th>too_long</th>\n",
              "      <th>marks</th>\n",
              "      <th>graph_vertex_id</th>\n",
              "      <th>type</th>\n",
              "      <th>predicted_graph_vertex_id</th>\n",
              "      <th>predicted_graph_vertex_prob</th>\n",
              "    </tr>\n",
              "  </thead>\n",
              "  <tbody>\n",
              "    <tr>\n",
              "      <th>3149</th>\n",
              "      <td>#Sorting values\\ns_corr_list = sorted(corr_lis...</td>\n",
              "      <td>Yes</td>\n",
              "      <td>5</td>\n",
              "      <td>9.0</td>\n",
              "      <td>train</td>\n",
              "      <td>8</td>\n",
              "      <td>0.994229</td>\n",
              "    </tr>\n",
              "    <tr>\n",
              "      <th>2308</th>\n",
              "      <td>fig, ax = plt.subplots(5, 1, figsize=(15,10))\\...</td>\n",
              "      <td>No</td>\n",
              "      <td>5</td>\n",
              "      <td>75.0</td>\n",
              "      <td>train</td>\n",
              "      <td>54</td>\n",
              "      <td>0.99681</td>\n",
              "    </tr>\n",
              "    <tr>\n",
              "      <th>4791</th>\n",
              "      <td># Prepare Data for Submission to Kaggle\\ndf_te...</td>\n",
              "      <td>No</td>\n",
              "      <td>5</td>\n",
              "      <td>45.0</td>\n",
              "      <td>train</td>\n",
              "      <td>37</td>\n",
              "      <td>0.999348</td>\n",
              "    </tr>\n",
              "    <tr>\n",
              "      <th>1699</th>\n",
              "      <td># Promo\\n\\n# Plot average sales &amp; customers wi...</td>\n",
              "      <td>No</td>\n",
              "      <td>5</td>\n",
              "      <td>33.0</td>\n",
              "      <td>train</td>\n",
              "      <td>28</td>\n",
              "      <td>0.976355</td>\n",
              "    </tr>\n",
              "    <tr>\n",
              "      <th>7494</th>\n",
              "      <td>df[\"radial60\"]=np.sqrt(np.power(df[\\'rot60_X\\'...</td>\n",
              "      <td>No</td>\n",
              "      <td>5</td>\n",
              "      <td>8.0</td>\n",
              "      <td>val</td>\n",
              "      <td>7</td>\n",
              "      <td>0.996547</td>\n",
              "    </tr>\n",
              "    <tr>\n",
              "      <th>...</th>\n",
              "      <td>...</td>\n",
              "      <td>...</td>\n",
              "      <td>...</td>\n",
              "      <td>...</td>\n",
              "      <td>...</td>\n",
              "      <td>...</td>\n",
              "      <td>...</td>\n",
              "    </tr>\n",
              "    <tr>\n",
              "      <th>7071</th>\n",
              "      <td>lr = LinearRegression()</td>\n",
              "      <td>No</td>\n",
              "      <td>5</td>\n",
              "      <td>4.0</td>\n",
              "      <td>test</td>\n",
              "      <td>3</td>\n",
              "      <td>0.996176</td>\n",
              "    </tr>\n",
              "    <tr>\n",
              "      <th>724</th>\n",
              "      <td>from sklearn.model_selection import GridSearch...</td>\n",
              "      <td>No</td>\n",
              "      <td>5</td>\n",
              "      <td>22.0</td>\n",
              "      <td>test</td>\n",
              "      <td>21</td>\n",
              "      <td>0.998867</td>\n",
              "    </tr>\n",
              "    <tr>\n",
              "      <th>4991</th>\n",
              "      <td>%%time\\nevent_type=pd.read_csv(\"../input/event...</td>\n",
              "      <td>No</td>\n",
              "      <td>5</td>\n",
              "      <td>45.0</td>\n",
              "      <td>test</td>\n",
              "      <td>37</td>\n",
              "      <td>0.999619</td>\n",
              "    </tr>\n",
              "    <tr>\n",
              "      <th>6073</th>\n",
              "      <td>y_dat.rename(columns = {'0':'medium', '1':'low...</td>\n",
              "      <td>No</td>\n",
              "      <td>5</td>\n",
              "      <td>61.0</td>\n",
              "      <td>train</td>\n",
              "      <td>49</td>\n",
              "      <td>0.99627</td>\n",
              "    </tr>\n",
              "    <tr>\n",
              "      <th>1377</th>\n",
              "      <td>len(train_merge.columns)</td>\n",
              "      <td>No</td>\n",
              "      <td>5</td>\n",
              "      <td>40.0</td>\n",
              "      <td>test</td>\n",
              "      <td>51</td>\n",
              "      <td>0.998158</td>\n",
              "    </tr>\n",
              "  </tbody>\n",
              "</table>\n",
              "<p>5152 rows × 7 columns</p>\n",
              "</div>\n",
              "      <button class=\"colab-df-convert\" onclick=\"convertToInteractive('df-910c73a5-cb24-49f5-bdb2-c2a7075dcc40')\"\n",
              "              title=\"Convert this dataframe to an interactive table.\"\n",
              "              style=\"display:none;\">\n",
              "        \n",
              "  <svg xmlns=\"http://www.w3.org/2000/svg\" height=\"24px\"viewBox=\"0 0 24 24\"\n",
              "       width=\"24px\">\n",
              "    <path d=\"M0 0h24v24H0V0z\" fill=\"none\"/>\n",
              "    <path d=\"M18.56 5.44l.94 2.06.94-2.06 2.06-.94-2.06-.94-.94-2.06-.94 2.06-2.06.94zm-11 1L8.5 8.5l.94-2.06 2.06-.94-2.06-.94L8.5 2.5l-.94 2.06-2.06.94zm10 10l.94 2.06.94-2.06 2.06-.94-2.06-.94-.94-2.06-.94 2.06-2.06.94z\"/><path d=\"M17.41 7.96l-1.37-1.37c-.4-.4-.92-.59-1.43-.59-.52 0-1.04.2-1.43.59L10.3 9.45l-7.72 7.72c-.78.78-.78 2.05 0 2.83L4 21.41c.39.39.9.59 1.41.59.51 0 1.02-.2 1.41-.59l7.78-7.78 2.81-2.81c.8-.78.8-2.07 0-2.86zM5.41 20L4 18.59l7.72-7.72 1.47 1.35L5.41 20z\"/>\n",
              "  </svg>\n",
              "      </button>\n",
              "      \n",
              "  <style>\n",
              "    .colab-df-container {\n",
              "      display:flex;\n",
              "      flex-wrap:wrap;\n",
              "      gap: 12px;\n",
              "    }\n",
              "\n",
              "    .colab-df-convert {\n",
              "      background-color: #E8F0FE;\n",
              "      border: none;\n",
              "      border-radius: 50%;\n",
              "      cursor: pointer;\n",
              "      display: none;\n",
              "      fill: #1967D2;\n",
              "      height: 32px;\n",
              "      padding: 0 0 0 0;\n",
              "      width: 32px;\n",
              "    }\n",
              "\n",
              "    .colab-df-convert:hover {\n",
              "      background-color: #E2EBFA;\n",
              "      box-shadow: 0px 1px 2px rgba(60, 64, 67, 0.3), 0px 1px 3px 1px rgba(60, 64, 67, 0.15);\n",
              "      fill: #174EA6;\n",
              "    }\n",
              "\n",
              "    [theme=dark] .colab-df-convert {\n",
              "      background-color: #3B4455;\n",
              "      fill: #D2E3FC;\n",
              "    }\n",
              "\n",
              "    [theme=dark] .colab-df-convert:hover {\n",
              "      background-color: #434B5C;\n",
              "      box-shadow: 0px 1px 3px 1px rgba(0, 0, 0, 0.15);\n",
              "      filter: drop-shadow(0px 1px 2px rgba(0, 0, 0, 0.3));\n",
              "      fill: #FFFFFF;\n",
              "    }\n",
              "  </style>\n",
              "\n",
              "      <script>\n",
              "        const buttonEl =\n",
              "          document.querySelector('#df-910c73a5-cb24-49f5-bdb2-c2a7075dcc40 button.colab-df-convert');\n",
              "        buttonEl.style.display =\n",
              "          google.colab.kernel.accessAllowed ? 'block' : 'none';\n",
              "\n",
              "        async function convertToInteractive(key) {\n",
              "          const element = document.querySelector('#df-910c73a5-cb24-49f5-bdb2-c2a7075dcc40');\n",
              "          const dataTable =\n",
              "            await google.colab.kernel.invokeFunction('convertToInteractive',\n",
              "                                                     [key], {});\n",
              "          if (!dataTable) return;\n",
              "\n",
              "          const docLinkHtml = 'Like what you see? Visit the ' +\n",
              "            '<a target=\"_blank\" href=https://colab.research.google.com/notebooks/data_table.ipynb>data table notebook</a>'\n",
              "            + ' to learn more about interactive tables.';\n",
              "          element.innerHTML = '';\n",
              "          dataTable['output_type'] = 'display_data';\n",
              "          await google.colab.output.renderOutput(dataTable, element);\n",
              "          const docLink = document.createElement('div');\n",
              "          docLink.innerHTML = docLinkHtml;\n",
              "          element.appendChild(docLink);\n",
              "        }\n",
              "      </script>\n",
              "    </div>\n",
              "  </div>\n",
              "  "
            ],
            "text/plain": [
              "                                             code_block too_long  marks  \\\n",
              "3149  #Sorting values\\ns_corr_list = sorted(corr_lis...      Yes      5   \n",
              "2308  fig, ax = plt.subplots(5, 1, figsize=(15,10))\\...       No      5   \n",
              "4791  # Prepare Data for Submission to Kaggle\\ndf_te...       No      5   \n",
              "1699  # Promo\\n\\n# Plot average sales & customers wi...       No      5   \n",
              "7494  df[\"radial60\"]=np.sqrt(np.power(df[\\'rot60_X\\'...       No      5   \n",
              "...                                                 ...      ...    ...   \n",
              "7071                            lr = LinearRegression()       No      5   \n",
              "724   from sklearn.model_selection import GridSearch...       No      5   \n",
              "4991  %%time\\nevent_type=pd.read_csv(\"../input/event...       No      5   \n",
              "6073  y_dat.rename(columns = {'0':'medium', '1':'low...       No      5   \n",
              "1377                           len(train_merge.columns)       No      5   \n",
              "\n",
              "      graph_vertex_id   type predicted_graph_vertex_id  \\\n",
              "3149              9.0  train                         8   \n",
              "2308             75.0  train                        54   \n",
              "4791             45.0  train                        37   \n",
              "1699             33.0  train                        28   \n",
              "7494              8.0    val                         7   \n",
              "...               ...    ...                       ...   \n",
              "7071              4.0   test                         3   \n",
              "724              22.0   test                        21   \n",
              "4991             45.0   test                        37   \n",
              "6073             61.0  train                        49   \n",
              "1377             40.0   test                        51   \n",
              "\n",
              "     predicted_graph_vertex_prob  \n",
              "3149                    0.994229  \n",
              "2308                     0.99681  \n",
              "4791                    0.999348  \n",
              "1699                    0.976355  \n",
              "7494                    0.996547  \n",
              "...                          ...  \n",
              "7071                    0.996176  \n",
              "724                     0.998867  \n",
              "4991                    0.999619  \n",
              "6073                     0.99627  \n",
              "1377                    0.998158  \n",
              "\n",
              "[5152 rows x 7 columns]"
            ]
          },
          "execution_count": 41,
          "metadata": {},
          "output_type": "execute_result"
        }
      ],
      "source": [
        "res"
      ]
    },
    {
      "cell_type": "code",
      "execution_count": null,
      "id": "XK9hsTMMTKXS",
      "metadata": {
        "id": "XK9hsTMMTKXS"
      },
      "outputs": [],
      "source": [
        "res['markup_index'] = res.index\n",
        "res.to_csv('clear_markup_data_with_predictions.csv', index=False)"
      ]
    },
    {
      "cell_type": "code",
      "execution_count": null,
      "id": "khNPv6azS2cU",
      "metadata": {
        "colab": {
          "base_uri": "https://localhost:8080/",
          "height": 206
        },
        "id": "khNPv6azS2cU",
        "outputId": "c954e3d3-12da-4f7f-8c56-ae7dca7516bd"
      },
      "outputs": [
        {
          "data": {
            "text/html": [
              "\n",
              "  <div id=\"df-e84ccb02-40e9-40bb-98ca-339bd3d3f6fd\">\n",
              "    <div class=\"colab-df-container\">\n",
              "      <div>\n",
              "<style scoped>\n",
              "    .dataframe tbody tr th:only-of-type {\n",
              "        vertical-align: middle;\n",
              "    }\n",
              "\n",
              "    .dataframe tbody tr th {\n",
              "        vertical-align: top;\n",
              "    }\n",
              "\n",
              "    .dataframe thead th {\n",
              "        text-align: right;\n",
              "    }\n",
              "</style>\n",
              "<table border=\"1\" class=\"dataframe\">\n",
              "  <thead>\n",
              "    <tr style=\"text-align: right;\">\n",
              "      <th></th>\n",
              "      <th>code_block</th>\n",
              "      <th>too_long</th>\n",
              "      <th>marks</th>\n",
              "      <th>graph_vertex_id</th>\n",
              "      <th>type</th>\n",
              "      <th>predicted_graph_vertex_id</th>\n",
              "      <th>predicted_graph_vertex_prob</th>\n",
              "      <th>markup_index</th>\n",
              "    </tr>\n",
              "  </thead>\n",
              "  <tbody>\n",
              "    <tr>\n",
              "      <th>0</th>\n",
              "      <td>#Sorting values\\ns_corr_list = sorted(corr_lis...</td>\n",
              "      <td>Yes</td>\n",
              "      <td>5</td>\n",
              "      <td>9.0</td>\n",
              "      <td>train</td>\n",
              "      <td>8</td>\n",
              "      <td>0.994229</td>\n",
              "      <td>3149</td>\n",
              "    </tr>\n",
              "    <tr>\n",
              "      <th>1</th>\n",
              "      <td>fig, ax = plt.subplots(5, 1, figsize=(15,10))\\...</td>\n",
              "      <td>No</td>\n",
              "      <td>5</td>\n",
              "      <td>75.0</td>\n",
              "      <td>train</td>\n",
              "      <td>54</td>\n",
              "      <td>0.996810</td>\n",
              "      <td>2308</td>\n",
              "    </tr>\n",
              "    <tr>\n",
              "      <th>2</th>\n",
              "      <td># Prepare Data for Submission to Kaggle\\ndf_te...</td>\n",
              "      <td>No</td>\n",
              "      <td>5</td>\n",
              "      <td>45.0</td>\n",
              "      <td>train</td>\n",
              "      <td>37</td>\n",
              "      <td>0.999348</td>\n",
              "      <td>4791</td>\n",
              "    </tr>\n",
              "    <tr>\n",
              "      <th>3</th>\n",
              "      <td># Promo\\n\\n# Plot average sales &amp; customers wi...</td>\n",
              "      <td>No</td>\n",
              "      <td>5</td>\n",
              "      <td>33.0</td>\n",
              "      <td>train</td>\n",
              "      <td>28</td>\n",
              "      <td>0.976355</td>\n",
              "      <td>1699</td>\n",
              "    </tr>\n",
              "    <tr>\n",
              "      <th>4</th>\n",
              "      <td>df[\"radial60\"]=np.sqrt(np.power(df[\\'rot60_X\\'...</td>\n",
              "      <td>No</td>\n",
              "      <td>5</td>\n",
              "      <td>8.0</td>\n",
              "      <td>val</td>\n",
              "      <td>7</td>\n",
              "      <td>0.996547</td>\n",
              "      <td>7494</td>\n",
              "    </tr>\n",
              "  </tbody>\n",
              "</table>\n",
              "</div>\n",
              "      <button class=\"colab-df-convert\" onclick=\"convertToInteractive('df-e84ccb02-40e9-40bb-98ca-339bd3d3f6fd')\"\n",
              "              title=\"Convert this dataframe to an interactive table.\"\n",
              "              style=\"display:none;\">\n",
              "        \n",
              "  <svg xmlns=\"http://www.w3.org/2000/svg\" height=\"24px\"viewBox=\"0 0 24 24\"\n",
              "       width=\"24px\">\n",
              "    <path d=\"M0 0h24v24H0V0z\" fill=\"none\"/>\n",
              "    <path d=\"M18.56 5.44l.94 2.06.94-2.06 2.06-.94-2.06-.94-.94-2.06-.94 2.06-2.06.94zm-11 1L8.5 8.5l.94-2.06 2.06-.94-2.06-.94L8.5 2.5l-.94 2.06-2.06.94zm10 10l.94 2.06.94-2.06 2.06-.94-2.06-.94-.94-2.06-.94 2.06-2.06.94z\"/><path d=\"M17.41 7.96l-1.37-1.37c-.4-.4-.92-.59-1.43-.59-.52 0-1.04.2-1.43.59L10.3 9.45l-7.72 7.72c-.78.78-.78 2.05 0 2.83L4 21.41c.39.39.9.59 1.41.59.51 0 1.02-.2 1.41-.59l7.78-7.78 2.81-2.81c.8-.78.8-2.07 0-2.86zM5.41 20L4 18.59l7.72-7.72 1.47 1.35L5.41 20z\"/>\n",
              "  </svg>\n",
              "      </button>\n",
              "      \n",
              "  <style>\n",
              "    .colab-df-container {\n",
              "      display:flex;\n",
              "      flex-wrap:wrap;\n",
              "      gap: 12px;\n",
              "    }\n",
              "\n",
              "    .colab-df-convert {\n",
              "      background-color: #E8F0FE;\n",
              "      border: none;\n",
              "      border-radius: 50%;\n",
              "      cursor: pointer;\n",
              "      display: none;\n",
              "      fill: #1967D2;\n",
              "      height: 32px;\n",
              "      padding: 0 0 0 0;\n",
              "      width: 32px;\n",
              "    }\n",
              "\n",
              "    .colab-df-convert:hover {\n",
              "      background-color: #E2EBFA;\n",
              "      box-shadow: 0px 1px 2px rgba(60, 64, 67, 0.3), 0px 1px 3px 1px rgba(60, 64, 67, 0.15);\n",
              "      fill: #174EA6;\n",
              "    }\n",
              "\n",
              "    [theme=dark] .colab-df-convert {\n",
              "      background-color: #3B4455;\n",
              "      fill: #D2E3FC;\n",
              "    }\n",
              "\n",
              "    [theme=dark] .colab-df-convert:hover {\n",
              "      background-color: #434B5C;\n",
              "      box-shadow: 0px 1px 3px 1px rgba(0, 0, 0, 0.15);\n",
              "      filter: drop-shadow(0px 1px 2px rgba(0, 0, 0, 0.3));\n",
              "      fill: #FFFFFF;\n",
              "    }\n",
              "  </style>\n",
              "\n",
              "      <script>\n",
              "        const buttonEl =\n",
              "          document.querySelector('#df-e84ccb02-40e9-40bb-98ca-339bd3d3f6fd button.colab-df-convert');\n",
              "        buttonEl.style.display =\n",
              "          google.colab.kernel.accessAllowed ? 'block' : 'none';\n",
              "\n",
              "        async function convertToInteractive(key) {\n",
              "          const element = document.querySelector('#df-e84ccb02-40e9-40bb-98ca-339bd3d3f6fd');\n",
              "          const dataTable =\n",
              "            await google.colab.kernel.invokeFunction('convertToInteractive',\n",
              "                                                     [key], {});\n",
              "          if (!dataTable) return;\n",
              "\n",
              "          const docLinkHtml = 'Like what you see? Visit the ' +\n",
              "            '<a target=\"_blank\" href=https://colab.research.google.com/notebooks/data_table.ipynb>data table notebook</a>'\n",
              "            + ' to learn more about interactive tables.';\n",
              "          element.innerHTML = '';\n",
              "          dataTable['output_type'] = 'display_data';\n",
              "          await google.colab.output.renderOutput(dataTable, element);\n",
              "          const docLink = document.createElement('div');\n",
              "          docLink.innerHTML = docLinkHtml;\n",
              "          element.appendChild(docLink);\n",
              "        }\n",
              "      </script>\n",
              "    </div>\n",
              "  </div>\n",
              "  "
            ],
            "text/plain": [
              "                                          code_block too_long  marks  \\\n",
              "0  #Sorting values\\ns_corr_list = sorted(corr_lis...      Yes      5   \n",
              "1  fig, ax = plt.subplots(5, 1, figsize=(15,10))\\...       No      5   \n",
              "2  # Prepare Data for Submission to Kaggle\\ndf_te...       No      5   \n",
              "3  # Promo\\n\\n# Plot average sales & customers wi...       No      5   \n",
              "4  df[\"radial60\"]=np.sqrt(np.power(df[\\'rot60_X\\'...       No      5   \n",
              "\n",
              "   graph_vertex_id   type  predicted_graph_vertex_id  \\\n",
              "0              9.0  train                          8   \n",
              "1             75.0  train                         54   \n",
              "2             45.0  train                         37   \n",
              "3             33.0  train                         28   \n",
              "4              8.0    val                          7   \n",
              "\n",
              "   predicted_graph_vertex_prob  markup_index  \n",
              "0                     0.994229          3149  \n",
              "1                     0.996810          2308  \n",
              "2                     0.999348          4791  \n",
              "3                     0.976355          1699  \n",
              "4                     0.996547          7494  "
            ]
          },
          "execution_count": 70,
          "metadata": {},
          "output_type": "execute_result"
        }
      ],
      "source": [
        "res_c = pd.read_csv('clear_markup_data_with_predictions.csv')\n",
        "res_c.head()"
      ]
    },
    {
      "cell_type": "markdown",
      "id": "XUXO2VEXbv4h",
      "metadata": {
        "id": "XUXO2VEXbv4h"
      },
      "source": [
        "# Metrics analysis"
      ]
    },
    {
      "cell_type": "code",
      "execution_count": 25,
      "id": "0Wc4X3w_SNYl",
      "metadata": {
        "colab": {
          "base_uri": "https://localhost:8080/",
          "height": 393
        },
        "id": "0Wc4X3w_SNYl",
        "outputId": "5ede51d1-5cf6-4fa1-fe33-70dc346793ce"
      },
      "outputs": [
        {
          "data": {
            "image/png": "[encoded data removed]",
            "text/plain": [
              "<Figure size 1584x432 with 3 Axes>"
            ]
          },
          "metadata": {
            "image/png": {
              "height": 376,
              "width": 1285
            }
          },
          "output_type": "display_data"
        },
        {
          "data": {
            "application/javascript": "\n    async function download(id, filename, size) {\n      if (!google.colab.kernel.accessAllowed) {\n        return;\n      }\n      const div = document.createElement('div');\n      const label = document.createElement('label');\n      label.textContent = `Downloading \"${filename}\": `;\n      div.appendChild(label);\n      const progress = document.createElement('progress');\n      progress.max = size;\n      div.appendChild(progress);\n      document.body.appendChild(div);\n\n      const buffers = [];\n      let downloaded = 0;\n\n      const channel = await google.colab.kernel.comms.open(id);\n      // Send a message to notify the kernel that we're ready.\n      channel.send({})\n\n      for await (const message of channel.messages) {\n        // Send a message to notify the kernel that we're ready.\n        channel.send({})\n        if (message.buffers) {\n          for (const buffer of message.buffers) {\n            buffers.push(buffer);\n            downloaded += buffer.byteLength;\n            progress.value = downloaded;\n          }\n        }\n      }\n      const blob = new Blob(buffers, {type: 'application/binary'});\n      const a = document.createElement('a');\n      a.href = window.URL.createObjectURL(blob);\n      a.download = filename;\n      div.appendChild(a);\n      a.click();\n      div.remove();\n    }\n  ",
            "text/plain": [
              "<IPython.core.display.Javascript object>"
            ]
          },
          "metadata": {},
          "output_type": "display_data"
        },
        {
          "data": {
            "application/javascript": "download(\"download_6d3d583b-3f54-450c-ac55-aea0508760a0\", \"metrics_codebert.pdf\", 15715)",
            "text/plain": [
              "<IPython.core.display.Javascript object>"
            ]
          },
          "metadata": {},
          "output_type": "display_data"
        }
      ],
      "source": [
        "fig, ax = plt.subplots(1, 3, figsize=(22,6))\n",
        "\n",
        "i = 20\n",
        "\n",
        "ax[0].plot(np.arange(1, i + 1), val_ac, color=\"#67E46F\", label='Val accuracy') \n",
        "ax[0].plot(np.arange(1, i + 1), train_ac, color=\"#CB60D3\", label='Train accuracy')\n",
        "ax[0].plot(np.arange(1, i + 1), test_ac, color=\"#E969A8\", label='Test accuracy')\n",
        "\n",
        "ax[1].plot(np.arange(1, i + 1), val_f1, color=\"#67E46F\", label='Val f1') \n",
        "ax[1].plot(np.arange(1, i + 1), train_f1, color=\"#CB60D3\", label='Train f1')\n",
        "ax[1].plot(np.arange(1, i + 1), test_f1, color=\"#E969A8\", label='Test f1')\n",
        "\n",
        "ax[2].plot(np.arange(1, i + 1), val_loss, color=\"#67E46F\", label='Val loss') \n",
        "ax[2].plot(np.arange(1, i + 1), train_loss,  color=\"#CB60D3\", label='Train loss')\n",
        "ax[2].plot(np.arange(1, i + 1), test_loss, color=\"#E969A8\", label='Test loss')\n",
        "\n",
        "\n",
        "ax[0].set_ylabel('Accuracy')\n",
        "ax[0].set_xlabel('Epoch')\n",
        "ax[0].legend()\n",
        "ax[1].set_ylabel('F1 score')\n",
        "ax[1].set_xlabel('Epoch')\n",
        "ax[1].legend()\n",
        "ax[2].legend()\n",
        "ax[2].set_ylabel('Loss')\n",
        "ax[2].set_xlabel('Epoch')\n",
        "\n",
        "plt.show()\n",
        "\n",
        "filename = 'metrics_codebert.pdf'\n",
        "fig.savefig(filename, bbox_inches='tight')\n",
        "files.download(filename)"
      ]
    },
    {
      "cell_type": "code",
      "execution_count": 26,
      "id": "sRkCfF7bSJ9g",
      "metadata": {
        "colab": {
          "base_uri": "https://localhost:8080/",
          "height": 17
        },
        "id": "sRkCfF7bSJ9g",
        "outputId": "477c4eb4-7d5f-4fa6-fa00-8ff0ad9649e3"
      },
      "outputs": [
        {
          "data": {
            "application/javascript": "\n    async function download(id, filename, size) {\n      if (!google.colab.kernel.accessAllowed) {\n        return;\n      }\n      const div = document.createElement('div');\n      const label = document.createElement('label');\n      label.textContent = `Downloading \"${filename}\": `;\n      div.appendChild(label);\n      const progress = document.createElement('progress');\n      progress.max = size;\n      div.appendChild(progress);\n      document.body.appendChild(div);\n\n      const buffers = [];\n      let downloaded = 0;\n\n      const channel = await google.colab.kernel.comms.open(id);\n      // Send a message to notify the kernel that we're ready.\n      channel.send({})\n\n      for await (const message of channel.messages) {\n        // Send a message to notify the kernel that we're ready.\n        channel.send({})\n        if (message.buffers) {\n          for (const buffer of message.buffers) {\n            buffers.push(buffer);\n            downloaded += buffer.byteLength;\n            progress.value = downloaded;\n          }\n        }\n      }\n      const blob = new Blob(buffers, {type: 'application/binary'});\n      const a = document.createElement('a');\n      a.href = window.URL.createObjectURL(blob);\n      a.download = filename;\n      div.appendChild(a);\n      a.click();\n      div.remove();\n    }\n  ",
            "text/plain": [
              "<IPython.core.display.Javascript object>"
            ]
          },
          "metadata": {},
          "output_type": "display_data"
        },
        {
          "data": {
            "application/javascript": "download(\"download_36e62eb1-d195-4245-b9ef-d09a94ebee93\", \"metrics_codebert.txt\", 3493)",
            "text/plain": [
              "<IPython.core.display.Javascript object>"
            ]
          },
          "metadata": {},
          "output_type": "display_data"
        }
      ],
      "source": [
        "filename = 'metrics_codebert.txt'\n",
        "f = open(filename, 'w')\n",
        "print('val_ac', file=f)\n",
        "print(*val_ac, file=f) \n",
        "print('train_ac', file=f)\n",
        "print(*train_ac, file=f) \n",
        "print('test_ac', file=f)\n",
        "print(*test_ac, file=f) \n",
        "\n",
        "print('val_f1', file=f)\n",
        "print(*val_f1, file=f) \n",
        "print('train_f1', file=f)\n",
        "print(*train_f1, file=f) \n",
        "print('test_f1', file=f)\n",
        "print(*test_f1, file=f) \n",
        "\n",
        "\n",
        "print('val_loss', file=f)\n",
        "print(*val_loss, file=f) \n",
        "print('train_loss', file=f)\n",
        "print(*train_loss, file=f) \n",
        "print('test_loss', file=f)\n",
        "print(*test_loss, file=f) \n",
        "\n",
        "\n",
        "\n",
        "f.close()\n",
        "from google.colab import files\n",
        "files.download(filename)"
      ]
    },
    {
      "cell_type": "markdown",
      "id": "BwWX4J3BbzQN",
      "metadata": {
        "id": "BwWX4J3BbzQN"
      },
      "source": [
        "# BERT\n"
      ]
    },
    {
      "cell_type": "code",
      "execution_count": null,
      "id": "KxB0IgtacbLj",
      "metadata": {
        "colab": {
          "base_uri": "https://localhost:8080/"
        },
        "id": "KxB0IgtacbLj",
        "outputId": "67c4a2ab-3e6e-45fc-eeb5-2b9fc2f4a679"
      },
      "outputs": [
        {
          "name": "stdout",
          "output_type": "stream",
          "text": [
            "Our main computing device is 'cuda:0'\n"
          ]
        }
      ],
      "source": [
        "def get_computing_device():\n",
        "    if torch.cuda.is_available():\n",
        "        device = torch.device('cuda:0')\n",
        "    else:\n",
        "        device = torch.device('cpu')\n",
        "    return device\n",
        "\n",
        "device = get_computing_device()\n",
        "print(f\"Our main computing device is '{device}'\")"
      ]
    },
    {
      "cell_type": "code",
      "execution_count": null,
      "id": "R2zcXkP_Mp6n",
      "metadata": {
        "colab": {
          "base_uri": "https://localhost:8080/"
        },
        "id": "R2zcXkP_Mp6n",
        "outputId": "b2f85444-b5f3-4f89-b7e7-a42f1478de23"
      },
      "outputs": [
        {
          "name": "stderr",
          "output_type": "stream",
          "text": [
            "Some weights of the model checkpoint at bert-base-uncased were not used when initializing BertForSequenceClassification: ['cls.seq_relationship.bias', 'cls.predictions.decoder.weight', 'cls.predictions.transform.LayerNorm.weight', 'cls.seq_relationship.weight', 'cls.predictions.bias', 'cls.predictions.transform.dense.weight', 'cls.predictions.transform.dense.bias', 'cls.predictions.transform.LayerNorm.bias']\n",
            "- This IS expected if you are initializing BertForSequenceClassification from the checkpoint of a model trained on another task or with another architecture (e.g. initializing a BertForSequenceClassification model from a BertForPreTraining model).\n",
            "- This IS NOT expected if you are initializing BertForSequenceClassification from the checkpoint of a model that you expect to be exactly identical (initializing a BertForSequenceClassification model from a BertForSequenceClassification model).\n",
            "Some weights of BertForSequenceClassification were not initialized from the model checkpoint at bert-base-uncased and are newly initialized: ['classifier.weight', 'classifier.bias']\n",
            "You should probably TRAIN this model on a down-stream task to be able to use it for predictions and inference.\n"
          ]
        }
      ],
      "source": [
        "tokenizer = BertTokenizer.from_pretrained(\"bert-base-uncased\")\n",
        "model = BertForSequenceClassification.from_pretrained(\"bert-base-uncased\", num_labels=65)"
      ]
    },
    {
      "cell_type": "code",
      "execution_count": null,
      "id": "fegb0eh0cIZ8",
      "metadata": {
        "id": "fegb0eh0cIZ8"
      },
      "outputs": [],
      "source": [
        "BATCH_SIZE = 16\n",
        "\n",
        "train_dataset = SnippetsDataset(X_train, y_train)\n",
        "test_dataset = SnippetsDataset(X_test, y_test)\n",
        "val_dataset = SnippetsDataset(X_val, y_val)\n",
        "\n",
        "train_loader = torch.utils.data.DataLoader(train_dataset, batch_size=BATCH_SIZE, shuffle=True)\n",
        "test_loader = torch.utils.data.DataLoader(test_dataset, batch_size=BATCH_SIZE)\n",
        "val_loader = torch.utils.data.DataLoader(val_dataset, batch_size=BATCH_SIZE)"
      ]
    },
    {
      "cell_type": "code",
      "execution_count": null,
      "id": "LvJV8FG8cR-d",
      "metadata": {
        "id": "LvJV8FG8cR-d"
      },
      "outputs": [],
      "source": [
        "model = model.to(device)\n",
        "criterion = nn.CrossEntropyLoss()\n",
        "optimizer = torch.optim.AdamW(model.parameters(), lr=0.00007)\n",
        "scheduler = torch.optim.lr_scheduler.StepLR(optimizer, step_size=10, gamma=0.1)"
      ]
    },
    {
      "cell_type": "code",
      "execution_count": null,
      "id": "Mf8XX2TNckRa",
      "metadata": {
        "colab": {
          "base_uri": "https://localhost:8080/",
          "height": 739
        },
        "id": "Mf8XX2TNckRa",
        "outputId": "4445fe78-e187-4fc3-d123-010f9115d97c"
      },
      "outputs": [],
      "source": [
        "val_ac, val_loss, train_ac, train_loss, test_ac, test_loss = classification(model, optimizer, criterion, train_loader, val_loader, test_loader, 20)"
      ]
    },
    {
      "cell_type": "code",
      "execution_count": null,
      "id": "P2r9W9XKckoq",
      "metadata": {
        "id": "P2r9W9XKckoq"
      },
      "outputs": [],
      "source": []
    }
  ],
  "metadata": {
    "accelerator": "GPU",
    "colab": {
      "collapsed_sections": [
        "OlUB5S_Ebl6E"
      ],
      "provenance": []
    },
    "gpuClass": "standard",
    "kernelspec": {
      "display_name": "Python 3",
      "language": "python",
      "name": "python3"
    },
    "language_info": {
      "name": "python",
      "version": "3.9.4 (tags/v3.9.4:1f2e308, Apr  6 2021, 13:40:21) [MSC v.1928 64 bit (AMD64)]"
    },
    "vscode": {
      "interpreter": {
        "hash": "0655ca0cdf0edd5665324ceee7bac734f892ff284c1c5e441477bf1e5a19cc4d"
      }
    },
    "widgets": {
      "application/vnd.jupyter.widget-state+json": {
        "0056cf849f814cce8cec4cf1f2b46ecc": {
          "model_module": "@jupyter-widgets/controls",
          "model_module_version": "1.5.0",
          "model_name": "HTMLModel",
          "state": {
            "_dom_classes": [],
            "_model_module": "@jupyter-widgets/controls",
            "_model_module_version": "1.5.0",
            "_model_name": "HTMLModel",
            "_view_count": null,
            "_view_module": "@jupyter-widgets/controls",
            "_view_module_version": "1.5.0",
            "_view_name": "HTMLView",
            "description": "",
            "description_tooltip": null,
            "layout": "IPY_MODEL_46e052ec6c0f47fe8d8be072ca49baa9",
            "placeholder": "​",
            "style": "IPY_MODEL_55a8fe90093f4bb88548ec504c045d07",
            "value": " 499M/499M [00:06&lt;00:00, 77.8MB/s]"
          }
        },
        "01a6fdea92a549308488f7ac8f108729": {
          "model_module": "@jupyter-widgets/base",
          "model_module_version": "1.2.0",
          "model_name": "LayoutModel",
          "state": {
            "_model_module": "@jupyter-widgets/base",
            "_model_module_version": "1.2.0",
            "_model_name": "LayoutModel",
            "_view_count": null,
            "_view_module": "@jupyter-widgets/base",
            "_view_module_version": "1.2.0",
            "_view_name": "LayoutView",
            "align_content": null,
            "align_items": null,
            "align_self": null,
            "border": null,
            "bottom": null,
            "display": null,
            "flex": null,
            "flex_flow": null,
            "grid_area": null,
            "grid_auto_columns": null,
            "grid_auto_flow": null,
            "grid_auto_rows": null,
            "grid_column": null,
            "grid_gap": null,
            "grid_row": null,
            "grid_template_areas": null,
            "grid_template_columns": null,
            "grid_template_rows": null,
            "height": null,
            "justify_content": null,
            "justify_items": null,
            "left": null,
            "margin": null,
            "max_height": null,
            "max_width": null,
            "min_height": null,
            "min_width": null,
            "object_fit": null,
            "object_position": null,
            "order": null,
            "overflow": null,
            "overflow_x": null,
            "overflow_y": null,
            "padding": null,
            "right": null,
            "top": null,
            "visibility": null,
            "width": null
          }
        },
        "0595d453719840a489b8b61c8f3f7c65": {
          "model_module": "@jupyter-widgets/controls",
          "model_module_version": "1.5.0",
          "model_name": "FloatProgressModel",
          "state": {
            "_dom_classes": [],
            "_model_module": "@jupyter-widgets/controls",
            "_model_module_version": "1.5.0",
            "_model_name": "FloatProgressModel",
            "_view_count": null,
            "_view_module": "@jupyter-widgets/controls",
            "_view_module_version": "1.5.0",
            "_view_name": "ProgressView",
            "bar_style": "success",
            "description": "",
            "description_tooltip": null,
            "layout": "IPY_MODEL_3ae16ce363644194aeae8445f1ef9954",
            "max": 498627950,
            "min": 0,
            "orientation": "horizontal",
            "style": "IPY_MODEL_ba8d20fed9934b04a55f16c5a92f3340",
            "value": 498627950
          }
        },
        "06adbe7bf556486096523aa591f50f09": {
          "model_module": "@jupyter-widgets/controls",
          "model_module_version": "1.5.0",
          "model_name": "HTMLModel",
          "state": {
            "_dom_classes": [],
            "_model_module": "@jupyter-widgets/controls",
            "_model_module_version": "1.5.0",
            "_model_name": "HTMLModel",
            "_view_count": null,
            "_view_module": "@jupyter-widgets/controls",
            "_view_module_version": "1.5.0",
            "_view_name": "HTMLView",
            "description": "",
            "description_tooltip": null,
            "layout": "IPY_MODEL_93c8b3315cbe488fb83acd0538452c56",
            "placeholder": "​",
            "style": "IPY_MODEL_190073e86d5c41e4bb9d00a5ceec800a",
            "value": "Downloading: 100%"
          }
        },
        "0736253b34714681b9e40223d37462a6": {
          "model_module": "@jupyter-widgets/controls",
          "model_module_version": "1.5.0",
          "model_name": "ProgressStyleModel",
          "state": {
            "_model_module": "@jupyter-widgets/controls",
            "_model_module_version": "1.5.0",
            "_model_name": "ProgressStyleModel",
            "_view_count": null,
            "_view_module": "@jupyter-widgets/base",
            "_view_module_version": "1.2.0",
            "_view_name": "StyleView",
            "bar_color": null,
            "description_width": ""
          }
        },
        "17ff645de9dc4ca4a6477cfd5ee8d93d": {
          "model_module": "@jupyter-widgets/controls",
          "model_module_version": "1.5.0",
          "model_name": "DescriptionStyleModel",
          "state": {
            "_model_module": "@jupyter-widgets/controls",
            "_model_module_version": "1.5.0",
            "_model_name": "DescriptionStyleModel",
            "_view_count": null,
            "_view_module": "@jupyter-widgets/base",
            "_view_module_version": "1.2.0",
            "_view_name": "StyleView",
            "description_width": ""
          }
        },
        "190073e86d5c41e4bb9d00a5ceec800a": {
          "model_module": "@jupyter-widgets/controls",
          "model_module_version": "1.5.0",
          "model_name": "DescriptionStyleModel",
          "state": {
            "_model_module": "@jupyter-widgets/controls",
            "_model_module_version": "1.5.0",
            "_model_name": "DescriptionStyleModel",
            "_view_count": null,
            "_view_module": "@jupyter-widgets/base",
            "_view_module_version": "1.2.0",
            "_view_name": "StyleView",
            "description_width": ""
          }
        },
        "2d220b9ba47a45d88434d4461d6dffc1": {
          "model_module": "@jupyter-widgets/base",
          "model_module_version": "1.2.0",
          "model_name": "LayoutModel",
          "state": {
            "_model_module": "@jupyter-widgets/base",
            "_model_module_version": "1.2.0",
            "_model_name": "LayoutModel",
            "_view_count": null,
            "_view_module": "@jupyter-widgets/base",
            "_view_module_version": "1.2.0",
            "_view_name": "LayoutView",
            "align_content": null,
            "align_items": null,
            "align_self": null,
            "border": null,
            "bottom": null,
            "display": null,
            "flex": null,
            "flex_flow": null,
            "grid_area": null,
            "grid_auto_columns": null,
            "grid_auto_flow": null,
            "grid_auto_rows": null,
            "grid_column": null,
            "grid_gap": null,
            "grid_row": null,
            "grid_template_areas": null,
            "grid_template_columns": null,
            "grid_template_rows": null,
            "height": null,
            "justify_content": null,
            "justify_items": null,
            "left": null,
            "margin": null,
            "max_height": null,
            "max_width": null,
            "min_height": null,
            "min_width": null,
            "object_fit": null,
            "object_position": null,
            "order": null,
            "overflow": null,
            "overflow_x": null,
            "overflow_y": null,
            "padding": null,
            "right": null,
            "top": null,
            "visibility": null,
            "width": null
          }
        },
        "34ed9d19456b40f58bd9b4efa75a588d": {
          "model_module": "@jupyter-widgets/controls",
          "model_module_version": "1.5.0",
          "model_name": "ProgressStyleModel",
          "state": {
            "_model_module": "@jupyter-widgets/controls",
            "_model_module_version": "1.5.0",
            "_model_name": "ProgressStyleModel",
            "_view_count": null,
            "_view_module": "@jupyter-widgets/base",
            "_view_module_version": "1.2.0",
            "_view_name": "StyleView",
            "bar_color": null,
            "description_width": ""
          }
        },
        "3ae16ce363644194aeae8445f1ef9954": {
          "model_module": "@jupyter-widgets/base",
          "model_module_version": "1.2.0",
          "model_name": "LayoutModel",
          "state": {
            "_model_module": "@jupyter-widgets/base",
            "_model_module_version": "1.2.0",
            "_model_name": "LayoutModel",
            "_view_count": null,
            "_view_module": "@jupyter-widgets/base",
            "_view_module_version": "1.2.0",
            "_view_name": "LayoutView",
            "align_content": null,
            "align_items": null,
            "align_self": null,
            "border": null,
            "bottom": null,
            "display": null,
            "flex": null,
            "flex_flow": null,
            "grid_area": null,
            "grid_auto_columns": null,
            "grid_auto_flow": null,
            "grid_auto_rows": null,
            "grid_column": null,
            "grid_gap": null,
            "grid_row": null,
            "grid_template_areas": null,
            "grid_template_columns": null,
            "grid_template_rows": null,
            "height": null,
            "justify_content": null,
            "justify_items": null,
            "left": null,
            "margin": null,
            "max_height": null,
            "max_width": null,
            "min_height": null,
            "min_width": null,
            "object_fit": null,
            "object_position": null,
            "order": null,
            "overflow": null,
            "overflow_x": null,
            "overflow_y": null,
            "padding": null,
            "right": null,
            "top": null,
            "visibility": null,
            "width": null
          }
        },
        "3bd2d5bdf66b45feb3285cf3a380b7f2": {
          "model_module": "@jupyter-widgets/controls",
          "model_module_version": "1.5.0",
          "model_name": "DescriptionStyleModel",
          "state": {
            "_model_module": "@jupyter-widgets/controls",
            "_model_module_version": "1.5.0",
            "_model_name": "DescriptionStyleModel",
            "_view_count": null,
            "_view_module": "@jupyter-widgets/base",
            "_view_module_version": "1.2.0",
            "_view_name": "StyleView",
            "description_width": ""
          }
        },
        "46e052ec6c0f47fe8d8be072ca49baa9": {
          "model_module": "@jupyter-widgets/base",
          "model_module_version": "1.2.0",
          "model_name": "LayoutModel",
          "state": {
            "_model_module": "@jupyter-widgets/base",
            "_model_module_version": "1.2.0",
            "_model_name": "LayoutModel",
            "_view_count": null,
            "_view_module": "@jupyter-widgets/base",
            "_view_module_version": "1.2.0",
            "_view_name": "LayoutView",
            "align_content": null,
            "align_items": null,
            "align_self": null,
            "border": null,
            "bottom": null,
            "display": null,
            "flex": null,
            "flex_flow": null,
            "grid_area": null,
            "grid_auto_columns": null,
            "grid_auto_flow": null,
            "grid_auto_rows": null,
            "grid_column": null,
            "grid_gap": null,
            "grid_row": null,
            "grid_template_areas": null,
            "grid_template_columns": null,
            "grid_template_rows": null,
            "height": null,
            "justify_content": null,
            "justify_items": null,
            "left": null,
            "margin": null,
            "max_height": null,
            "max_width": null,
            "min_height": null,
            "min_width": null,
            "object_fit": null,
            "object_position": null,
            "order": null,
            "overflow": null,
            "overflow_x": null,
            "overflow_y": null,
            "padding": null,
            "right": null,
            "top": null,
            "visibility": null,
            "width": null
          }
        },
        "490755ba47ea4b0c9fb7a6b78c29e10e": {
          "model_module": "@jupyter-widgets/base",
          "model_module_version": "1.2.0",
          "model_name": "LayoutModel",
          "state": {
            "_model_module": "@jupyter-widgets/base",
            "_model_module_version": "1.2.0",
            "_model_name": "LayoutModel",
            "_view_count": null,
            "_view_module": "@jupyter-widgets/base",
            "_view_module_version": "1.2.0",
            "_view_name": "LayoutView",
            "align_content": null,
            "align_items": null,
            "align_self": null,
            "border": null,
            "bottom": null,
            "display": null,
            "flex": null,
            "flex_flow": null,
            "grid_area": null,
            "grid_auto_columns": null,
            "grid_auto_flow": null,
            "grid_auto_rows": null,
            "grid_column": null,
            "grid_gap": null,
            "grid_row": null,
            "grid_template_areas": null,
            "grid_template_columns": null,
            "grid_template_rows": null,
            "height": null,
            "justify_content": null,
            "justify_items": null,
            "left": null,
            "margin": null,
            "max_height": null,
            "max_width": null,
            "min_height": null,
            "min_width": null,
            "object_fit": null,
            "object_position": null,
            "order": null,
            "overflow": null,
            "overflow_x": null,
            "overflow_y": null,
            "padding": null,
            "right": null,
            "top": null,
            "visibility": null,
            "width": null
          }
        },
        "4954d70bd07f411680285f427945bde6": {
          "model_module": "@jupyter-widgets/controls",
          "model_module_version": "1.5.0",
          "model_name": "DescriptionStyleModel",
          "state": {
            "_model_module": "@jupyter-widgets/controls",
            "_model_module_version": "1.5.0",
            "_model_name": "DescriptionStyleModel",
            "_view_count": null,
            "_view_module": "@jupyter-widgets/base",
            "_view_module_version": "1.2.0",
            "_view_name": "StyleView",
            "description_width": ""
          }
        },
        "4d27b7c2424a437cbff8d9f4f567317c": {
          "model_module": "@jupyter-widgets/base",
          "model_module_version": "1.2.0",
          "model_name": "LayoutModel",
          "state": {
            "_model_module": "@jupyter-widgets/base",
            "_model_module_version": "1.2.0",
            "_model_name": "LayoutModel",
            "_view_count": null,
            "_view_module": "@jupyter-widgets/base",
            "_view_module_version": "1.2.0",
            "_view_name": "LayoutView",
            "align_content": null,
            "align_items": null,
            "align_self": null,
            "border": null,
            "bottom": null,
            "display": null,
            "flex": null,
            "flex_flow": null,
            "grid_area": null,
            "grid_auto_columns": null,
            "grid_auto_flow": null,
            "grid_auto_rows": null,
            "grid_column": null,
            "grid_gap": null,
            "grid_row": null,
            "grid_template_areas": null,
            "grid_template_columns": null,
            "grid_template_rows": null,
            "height": null,
            "justify_content": null,
            "justify_items": null,
            "left": null,
            "margin": null,
            "max_height": null,
            "max_width": null,
            "min_height": null,
            "min_width": null,
            "object_fit": null,
            "object_position": null,
            "order": null,
            "overflow": null,
            "overflow_x": null,
            "overflow_y": null,
            "padding": null,
            "right": null,
            "top": null,
            "visibility": null,
            "width": null
          }
        },
        "4e009c91ffcf43fbbb4ef8c2b6f3a3b1": {
          "model_module": "@jupyter-widgets/controls",
          "model_module_version": "1.5.0",
          "model_name": "FloatProgressModel",
          "state": {
            "_dom_classes": [],
            "_model_module": "@jupyter-widgets/controls",
            "_model_module_version": "1.5.0",
            "_model_name": "FloatProgressModel",
            "_view_count": null,
            "_view_module": "@jupyter-widgets/controls",
            "_view_module_version": "1.5.0",
            "_view_name": "ProgressView",
            "bar_style": "success",
            "description": "",
            "description_tooltip": null,
            "layout": "IPY_MODEL_ef14172e7c9541b28a9811977b065308",
            "max": 150,
            "min": 0,
            "orientation": "horizontal",
            "style": "IPY_MODEL_5240b58370f744f5a56da0cd4c5cf9f5",
            "value": 150
          }
        },
        "50a049c1f3c841708c90b282c1f1393a": {
          "model_module": "@jupyter-widgets/controls",
          "model_module_version": "1.5.0",
          "model_name": "HTMLModel",
          "state": {
            "_dom_classes": [],
            "_model_module": "@jupyter-widgets/controls",
            "_model_module_version": "1.5.0",
            "_model_name": "HTMLModel",
            "_view_count": null,
            "_view_module": "@jupyter-widgets/controls",
            "_view_module_version": "1.5.0",
            "_view_name": "HTMLView",
            "description": "",
            "description_tooltip": null,
            "layout": "IPY_MODEL_b3cd526503e4472c841a65814171b405",
            "placeholder": "​",
            "style": "IPY_MODEL_9c54cd191c1e4dde89a51a8c838c622f",
            "value": " 899k/899k [00:00&lt;00:00, 2.62MB/s]"
          }
        },
        "5240b58370f744f5a56da0cd4c5cf9f5": {
          "model_module": "@jupyter-widgets/controls",
          "model_module_version": "1.5.0",
          "model_name": "ProgressStyleModel",
          "state": {
            "_model_module": "@jupyter-widgets/controls",
            "_model_module_version": "1.5.0",
            "_model_name": "ProgressStyleModel",
            "_view_count": null,
            "_view_module": "@jupyter-widgets/base",
            "_view_module_version": "1.2.0",
            "_view_name": "StyleView",
            "bar_color": null,
            "description_width": ""
          }
        },
        "5354bab8e20c43d691638f9df65f4992": {
          "model_module": "@jupyter-widgets/controls",
          "model_module_version": "1.5.0",
          "model_name": "DescriptionStyleModel",
          "state": {
            "_model_module": "@jupyter-widgets/controls",
            "_model_module_version": "1.5.0",
            "_model_name": "DescriptionStyleModel",
            "_view_count": null,
            "_view_module": "@jupyter-widgets/base",
            "_view_module_version": "1.2.0",
            "_view_name": "StyleView",
            "description_width": ""
          }
        },
        "53ecfd14d2be426fb498c1d5ca43e14e": {
          "model_module": "@jupyter-widgets/controls",
          "model_module_version": "1.5.0",
          "model_name": "DescriptionStyleModel",
          "state": {
            "_model_module": "@jupyter-widgets/controls",
            "_model_module_version": "1.5.0",
            "_model_name": "DescriptionStyleModel",
            "_view_count": null,
            "_view_module": "@jupyter-widgets/base",
            "_view_module_version": "1.2.0",
            "_view_name": "StyleView",
            "description_width": ""
          }
        },
        "55a8fe90093f4bb88548ec504c045d07": {
          "model_module": "@jupyter-widgets/controls",
          "model_module_version": "1.5.0",
          "model_name": "DescriptionStyleModel",
          "state": {
            "_model_module": "@jupyter-widgets/controls",
            "_model_module_version": "1.5.0",
            "_model_name": "DescriptionStyleModel",
            "_view_count": null,
            "_view_module": "@jupyter-widgets/base",
            "_view_module_version": "1.2.0",
            "_view_name": "StyleView",
            "description_width": ""
          }
        },
        "605e3dcae5c64323b2d49273c3e4a651": {
          "model_module": "@jupyter-widgets/controls",
          "model_module_version": "1.5.0",
          "model_name": "HTMLModel",
          "state": {
            "_dom_classes": [],
            "_model_module": "@jupyter-widgets/controls",
            "_model_module_version": "1.5.0",
            "_model_name": "HTMLModel",
            "_view_count": null,
            "_view_module": "@jupyter-widgets/controls",
            "_view_module_version": "1.5.0",
            "_view_name": "HTMLView",
            "description": "",
            "description_tooltip": null,
            "layout": "IPY_MODEL_b2089d555e724df39286da0ab9789c3b",
            "placeholder": "​",
            "style": "IPY_MODEL_53ecfd14d2be426fb498c1d5ca43e14e",
            "value": "Downloading: 100%"
          }
        },
        "6300253adce546bebf3b1f5c349c2d60": {
          "model_module": "@jupyter-widgets/base",
          "model_module_version": "1.2.0",
          "model_name": "LayoutModel",
          "state": {
            "_model_module": "@jupyter-widgets/base",
            "_model_module_version": "1.2.0",
            "_model_name": "LayoutModel",
            "_view_count": null,
            "_view_module": "@jupyter-widgets/base",
            "_view_module_version": "1.2.0",
            "_view_name": "LayoutView",
            "align_content": null,
            "align_items": null,
            "align_self": null,
            "border": null,
            "bottom": null,
            "display": null,
            "flex": null,
            "flex_flow": null,
            "grid_area": null,
            "grid_auto_columns": null,
            "grid_auto_flow": null,
            "grid_auto_rows": null,
            "grid_column": null,
            "grid_gap": null,
            "grid_row": null,
            "grid_template_areas": null,
            "grid_template_columns": null,
            "grid_template_rows": null,
            "height": null,
            "justify_content": null,
            "justify_items": null,
            "left": null,
            "margin": null,
            "max_height": null,
            "max_width": null,
            "min_height": null,
            "min_width": null,
            "object_fit": null,
            "object_position": null,
            "order": null,
            "overflow": null,
            "overflow_x": null,
            "overflow_y": null,
            "padding": null,
            "right": null,
            "top": null,
            "visibility": null,
            "width": null
          }
        },
        "64c81656ed43459399a6b357567dc0b4": {
          "model_module": "@jupyter-widgets/base",
          "model_module_version": "1.2.0",
          "model_name": "LayoutModel",
          "state": {
            "_model_module": "@jupyter-widgets/base",
            "_model_module_version": "1.2.0",
            "_model_name": "LayoutModel",
            "_view_count": null,
            "_view_module": "@jupyter-widgets/base",
            "_view_module_version": "1.2.0",
            "_view_name": "LayoutView",
            "align_content": null,
            "align_items": null,
            "align_self": null,
            "border": null,
            "bottom": null,
            "display": null,
            "flex": null,
            "flex_flow": null,
            "grid_area": null,
            "grid_auto_columns": null,
            "grid_auto_flow": null,
            "grid_auto_rows": null,
            "grid_column": null,
            "grid_gap": null,
            "grid_row": null,
            "grid_template_areas": null,
            "grid_template_columns": null,
            "grid_template_rows": null,
            "height": null,
            "justify_content": null,
            "justify_items": null,
            "left": null,
            "margin": null,
            "max_height": null,
            "max_width": null,
            "min_height": null,
            "min_width": null,
            "object_fit": null,
            "object_position": null,
            "order": null,
            "overflow": null,
            "overflow_x": null,
            "overflow_y": null,
            "padding": null,
            "right": null,
            "top": null,
            "visibility": null,
            "width": null
          }
        },
        "65fb4d2c7428467982d294556df308f8": {
          "model_module": "@jupyter-widgets/controls",
          "model_module_version": "1.5.0",
          "model_name": "HBoxModel",
          "state": {
            "_dom_classes": [],
            "_model_module": "@jupyter-widgets/controls",
            "_model_module_version": "1.5.0",
            "_model_name": "HBoxModel",
            "_view_count": null,
            "_view_module": "@jupyter-widgets/controls",
            "_view_module_version": "1.5.0",
            "_view_name": "HBoxView",
            "box_style": "",
            "children": [
              "IPY_MODEL_605e3dcae5c64323b2d49273c3e4a651",
              "IPY_MODEL_e77dff416fb14c43a2f75348c72b2676",
              "IPY_MODEL_83d0976469234d5db8aaaf9f6588ed40"
            ],
            "layout": "IPY_MODEL_01a6fdea92a549308488f7ac8f108729"
          }
        },
        "6e352643a6db4254876b7ee65e643e3b": {
          "model_module": "@jupyter-widgets/base",
          "model_module_version": "1.2.0",
          "model_name": "LayoutModel",
          "state": {
            "_model_module": "@jupyter-widgets/base",
            "_model_module_version": "1.2.0",
            "_model_name": "LayoutModel",
            "_view_count": null,
            "_view_module": "@jupyter-widgets/base",
            "_view_module_version": "1.2.0",
            "_view_name": "LayoutView",
            "align_content": null,
            "align_items": null,
            "align_self": null,
            "border": null,
            "bottom": null,
            "display": null,
            "flex": null,
            "flex_flow": null,
            "grid_area": null,
            "grid_auto_columns": null,
            "grid_auto_flow": null,
            "grid_auto_rows": null,
            "grid_column": null,
            "grid_gap": null,
            "grid_row": null,
            "grid_template_areas": null,
            "grid_template_columns": null,
            "grid_template_rows": null,
            "height": null,
            "justify_content": null,
            "justify_items": null,
            "left": null,
            "margin": null,
            "max_height": null,
            "max_width": null,
            "min_height": null,
            "min_width": null,
            "object_fit": null,
            "object_position": null,
            "order": null,
            "overflow": null,
            "overflow_x": null,
            "overflow_y": null,
            "padding": null,
            "right": null,
            "top": null,
            "visibility": null,
            "width": null
          }
        },
        "6f45ea9112b348a482cc1972099ef268": {
          "model_module": "@jupyter-widgets/controls",
          "model_module_version": "1.5.0",
          "model_name": "HTMLModel",
          "state": {
            "_dom_classes": [],
            "_model_module": "@jupyter-widgets/controls",
            "_model_module_version": "1.5.0",
            "_model_name": "HTMLModel",
            "_view_count": null,
            "_view_module": "@jupyter-widgets/controls",
            "_view_module_version": "1.5.0",
            "_view_name": "HTMLView",
            "description": "",
            "description_tooltip": null,
            "layout": "IPY_MODEL_d6546629ead94ac0b9758bf7d9eb328e",
            "placeholder": "​",
            "style": "IPY_MODEL_4954d70bd07f411680285f427945bde6",
            "value": "Downloading: 100%"
          }
        },
        "715f2b3e980d49448b635a4f329e41df": {
          "model_module": "@jupyter-widgets/controls",
          "model_module_version": "1.5.0",
          "model_name": "ProgressStyleModel",
          "state": {
            "_model_module": "@jupyter-widgets/controls",
            "_model_module_version": "1.5.0",
            "_model_name": "ProgressStyleModel",
            "_view_count": null,
            "_view_module": "@jupyter-widgets/base",
            "_view_module_version": "1.2.0",
            "_view_name": "StyleView",
            "bar_color": null,
            "description_width": ""
          }
        },
        "74334871ef264ee2b51b8fdc3e9f23c9": {
          "model_module": "@jupyter-widgets/controls",
          "model_module_version": "1.5.0",
          "model_name": "ProgressStyleModel",
          "state": {
            "_model_module": "@jupyter-widgets/controls",
            "_model_module_version": "1.5.0",
            "_model_name": "ProgressStyleModel",
            "_view_count": null,
            "_view_module": "@jupyter-widgets/base",
            "_view_module_version": "1.2.0",
            "_view_name": "StyleView",
            "bar_color": null,
            "description_width": ""
          }
        },
        "75f28aa1b6b64e07b2c8fdf60d1aae92": {
          "model_module": "@jupyter-widgets/base",
          "model_module_version": "1.2.0",
          "model_name": "LayoutModel",
          "state": {
            "_model_module": "@jupyter-widgets/base",
            "_model_module_version": "1.2.0",
            "_model_name": "LayoutModel",
            "_view_count": null,
            "_view_module": "@jupyter-widgets/base",
            "_view_module_version": "1.2.0",
            "_view_name": "LayoutView",
            "align_content": null,
            "align_items": null,
            "align_self": null,
            "border": null,
            "bottom": null,
            "display": null,
            "flex": null,
            "flex_flow": null,
            "grid_area": null,
            "grid_auto_columns": null,
            "grid_auto_flow": null,
            "grid_auto_rows": null,
            "grid_column": null,
            "grid_gap": null,
            "grid_row": null,
            "grid_template_areas": null,
            "grid_template_columns": null,
            "grid_template_rows": null,
            "height": null,
            "justify_content": null,
            "justify_items": null,
            "left": null,
            "margin": null,
            "max_height": null,
            "max_width": null,
            "min_height": null,
            "min_width": null,
            "object_fit": null,
            "object_position": null,
            "order": null,
            "overflow": null,
            "overflow_x": null,
            "overflow_y": null,
            "padding": null,
            "right": null,
            "top": null,
            "visibility": null,
            "width": null
          }
        },
        "771304c10cbe4bc2a9342e3f09008299": {
          "model_module": "@jupyter-widgets/controls",
          "model_module_version": "1.5.0",
          "model_name": "DescriptionStyleModel",
          "state": {
            "_model_module": "@jupyter-widgets/controls",
            "_model_module_version": "1.5.0",
            "_model_name": "DescriptionStyleModel",
            "_view_count": null,
            "_view_module": "@jupyter-widgets/base",
            "_view_module_version": "1.2.0",
            "_view_name": "StyleView",
            "description_width": ""
          }
        },
        "77a071275d6d4eb186073e2de0bde607": {
          "model_module": "@jupyter-widgets/controls",
          "model_module_version": "1.5.0",
          "model_name": "HBoxModel",
          "state": {
            "_dom_classes": [],
            "_model_module": "@jupyter-widgets/controls",
            "_model_module_version": "1.5.0",
            "_model_name": "HBoxModel",
            "_view_count": null,
            "_view_module": "@jupyter-widgets/controls",
            "_view_module_version": "1.5.0",
            "_view_name": "HBoxView",
            "box_style": "",
            "children": [
              "IPY_MODEL_d47526b963514a75986e863b2e5cdad5",
              "IPY_MODEL_eb0ad507902c425b99426bec1e5338c7",
              "IPY_MODEL_996404827a1e4fcf8b9efef0c24abf36"
            ],
            "layout": "IPY_MODEL_6e352643a6db4254876b7ee65e643e3b"
          }
        },
        "83d0976469234d5db8aaaf9f6588ed40": {
          "model_module": "@jupyter-widgets/controls",
          "model_module_version": "1.5.0",
          "model_name": "HTMLModel",
          "state": {
            "_dom_classes": [],
            "_model_module": "@jupyter-widgets/controls",
            "_model_module_version": "1.5.0",
            "_model_name": "HTMLModel",
            "_view_count": null,
            "_view_module": "@jupyter-widgets/controls",
            "_view_module_version": "1.5.0",
            "_view_name": "HTMLView",
            "description": "",
            "description_tooltip": null,
            "layout": "IPY_MODEL_85b5ac2552e84b11b88d8c1210ca66c6",
            "placeholder": "​",
            "style": "IPY_MODEL_771304c10cbe4bc2a9342e3f09008299",
            "value": " 498/498 [00:00&lt;00:00, 17.9kB/s]"
          }
        },
        "83f570fac099488492a0b3768a5529ad": {
          "model_module": "@jupyter-widgets/controls",
          "model_module_version": "1.5.0",
          "model_name": "HBoxModel",
          "state": {
            "_dom_classes": [],
            "_model_module": "@jupyter-widgets/controls",
            "_model_module_version": "1.5.0",
            "_model_name": "HBoxModel",
            "_view_count": null,
            "_view_module": "@jupyter-widgets/controls",
            "_view_module_version": "1.5.0",
            "_view_name": "HBoxView",
            "box_style": "",
            "children": [
              "IPY_MODEL_06adbe7bf556486096523aa591f50f09",
              "IPY_MODEL_0595d453719840a489b8b61c8f3f7c65",
              "IPY_MODEL_0056cf849f814cce8cec4cf1f2b46ecc"
            ],
            "layout": "IPY_MODEL_75f28aa1b6b64e07b2c8fdf60d1aae92"
          }
        },
        "85b5ac2552e84b11b88d8c1210ca66c6": {
          "model_module": "@jupyter-widgets/base",
          "model_module_version": "1.2.0",
          "model_name": "LayoutModel",
          "state": {
            "_model_module": "@jupyter-widgets/base",
            "_model_module_version": "1.2.0",
            "_model_name": "LayoutModel",
            "_view_count": null,
            "_view_module": "@jupyter-widgets/base",
            "_view_module_version": "1.2.0",
            "_view_name": "LayoutView",
            "align_content": null,
            "align_items": null,
            "align_self": null,
            "border": null,
            "bottom": null,
            "display": null,
            "flex": null,
            "flex_flow": null,
            "grid_area": null,
            "grid_auto_columns": null,
            "grid_auto_flow": null,
            "grid_auto_rows": null,
            "grid_column": null,
            "grid_gap": null,
            "grid_row": null,
            "grid_template_areas": null,
            "grid_template_columns": null,
            "grid_template_rows": null,
            "height": null,
            "justify_content": null,
            "justify_items": null,
            "left": null,
            "margin": null,
            "max_height": null,
            "max_width": null,
            "min_height": null,
            "min_width": null,
            "object_fit": null,
            "object_position": null,
            "order": null,
            "overflow": null,
            "overflow_x": null,
            "overflow_y": null,
            "padding": null,
            "right": null,
            "top": null,
            "visibility": null,
            "width": null
          }
        },
        "90dc1ea2d41e4e05bff9bbabb5bf1b9a": {
          "model_module": "@jupyter-widgets/base",
          "model_module_version": "1.2.0",
          "model_name": "LayoutModel",
          "state": {
            "_model_module": "@jupyter-widgets/base",
            "_model_module_version": "1.2.0",
            "_model_name": "LayoutModel",
            "_view_count": null,
            "_view_module": "@jupyter-widgets/base",
            "_view_module_version": "1.2.0",
            "_view_name": "LayoutView",
            "align_content": null,
            "align_items": null,
            "align_self": null,
            "border": null,
            "bottom": null,
            "display": null,
            "flex": null,
            "flex_flow": null,
            "grid_area": null,
            "grid_auto_columns": null,
            "grid_auto_flow": null,
            "grid_auto_rows": null,
            "grid_column": null,
            "grid_gap": null,
            "grid_row": null,
            "grid_template_areas": null,
            "grid_template_columns": null,
            "grid_template_rows": null,
            "height": null,
            "justify_content": null,
            "justify_items": null,
            "left": null,
            "margin": null,
            "max_height": null,
            "max_width": null,
            "min_height": null,
            "min_width": null,
            "object_fit": null,
            "object_position": null,
            "order": null,
            "overflow": null,
            "overflow_x": null,
            "overflow_y": null,
            "padding": null,
            "right": null,
            "top": null,
            "visibility": null,
            "width": null
          }
        },
        "93c8b3315cbe488fb83acd0538452c56": {
          "model_module": "@jupyter-widgets/base",
          "model_module_version": "1.2.0",
          "model_name": "LayoutModel",
          "state": {
            "_model_module": "@jupyter-widgets/base",
            "_model_module_version": "1.2.0",
            "_model_name": "LayoutModel",
            "_view_count": null,
            "_view_module": "@jupyter-widgets/base",
            "_view_module_version": "1.2.0",
            "_view_name": "LayoutView",
            "align_content": null,
            "align_items": null,
            "align_self": null,
            "border": null,
            "bottom": null,
            "display": null,
            "flex": null,
            "flex_flow": null,
            "grid_area": null,
            "grid_auto_columns": null,
            "grid_auto_flow": null,
            "grid_auto_rows": null,
            "grid_column": null,
            "grid_gap": null,
            "grid_row": null,
            "grid_template_areas": null,
            "grid_template_columns": null,
            "grid_template_rows": null,
            "height": null,
            "justify_content": null,
            "justify_items": null,
            "left": null,
            "margin": null,
            "max_height": null,
            "max_width": null,
            "min_height": null,
            "min_width": null,
            "object_fit": null,
            "object_position": null,
            "order": null,
            "overflow": null,
            "overflow_x": null,
            "overflow_y": null,
            "padding": null,
            "right": null,
            "top": null,
            "visibility": null,
            "width": null
          }
        },
        "996404827a1e4fcf8b9efef0c24abf36": {
          "model_module": "@jupyter-widgets/controls",
          "model_module_version": "1.5.0",
          "model_name": "HTMLModel",
          "state": {
            "_dom_classes": [],
            "_model_module": "@jupyter-widgets/controls",
            "_model_module_version": "1.5.0",
            "_model_name": "HTMLModel",
            "_view_count": null,
            "_view_module": "@jupyter-widgets/controls",
            "_view_module_version": "1.5.0",
            "_view_name": "HTMLView",
            "description": "",
            "description_tooltip": null,
            "layout": "IPY_MODEL_64c81656ed43459399a6b357567dc0b4",
            "placeholder": "​",
            "style": "IPY_MODEL_3bd2d5bdf66b45feb3285cf3a380b7f2",
            "value": " 456k/456k [00:00&lt;00:00, 960kB/s]"
          }
        },
        "9c54cd191c1e4dde89a51a8c838c622f": {
          "model_module": "@jupyter-widgets/controls",
          "model_module_version": "1.5.0",
          "model_name": "DescriptionStyleModel",
          "state": {
            "_model_module": "@jupyter-widgets/controls",
            "_model_module_version": "1.5.0",
            "_model_name": "DescriptionStyleModel",
            "_view_count": null,
            "_view_module": "@jupyter-widgets/base",
            "_view_module_version": "1.2.0",
            "_view_name": "StyleView",
            "description_width": ""
          }
        },
        "9e61e30d2cb148b79860c2ab181f2f20": {
          "model_module": "@jupyter-widgets/controls",
          "model_module_version": "1.5.0",
          "model_name": "HTMLModel",
          "state": {
            "_dom_classes": [],
            "_model_module": "@jupyter-widgets/controls",
            "_model_module_version": "1.5.0",
            "_model_name": "HTMLModel",
            "_view_count": null,
            "_view_module": "@jupyter-widgets/controls",
            "_view_module_version": "1.5.0",
            "_view_name": "HTMLView",
            "description": "",
            "description_tooltip": null,
            "layout": "IPY_MODEL_2d220b9ba47a45d88434d4461d6dffc1",
            "placeholder": "​",
            "style": "IPY_MODEL_e1e9698760c64f578f5b0b68911593e3",
            "value": "Downloading: 100%"
          }
        },
        "a2cf9d260e504c3caff0168d28c88fa5": {
          "model_module": "@jupyter-widgets/controls",
          "model_module_version": "1.5.0",
          "model_name": "HBoxModel",
          "state": {
            "_dom_classes": [],
            "_model_module": "@jupyter-widgets/controls",
            "_model_module_version": "1.5.0",
            "_model_name": "HBoxModel",
            "_view_count": null,
            "_view_module": "@jupyter-widgets/controls",
            "_view_module_version": "1.5.0",
            "_view_name": "HBoxView",
            "box_style": "",
            "children": [
              "IPY_MODEL_6f45ea9112b348a482cc1972099ef268",
              "IPY_MODEL_4e009c91ffcf43fbbb4ef8c2b6f3a3b1",
              "IPY_MODEL_ed98b54cb6954dfab89fe457880a9c00"
            ],
            "layout": "IPY_MODEL_f1a4b01d1ea141a682adf002e4210d1e"
          }
        },
        "a807eaf49f3e4c66bf7a0728e34b7e37": {
          "model_module": "@jupyter-widgets/controls",
          "model_module_version": "1.5.0",
          "model_name": "DescriptionStyleModel",
          "state": {
            "_model_module": "@jupyter-widgets/controls",
            "_model_module_version": "1.5.0",
            "_model_name": "DescriptionStyleModel",
            "_view_count": null,
            "_view_module": "@jupyter-widgets/base",
            "_view_module_version": "1.2.0",
            "_view_name": "StyleView",
            "description_width": ""
          }
        },
        "ac71197cd32e4565b7e45557f1a4f107": {
          "model_module": "@jupyter-widgets/controls",
          "model_module_version": "1.5.0",
          "model_name": "FloatProgressModel",
          "state": {
            "_dom_classes": [],
            "_model_module": "@jupyter-widgets/controls",
            "_model_module_version": "1.5.0",
            "_model_name": "FloatProgressModel",
            "_view_count": null,
            "_view_module": "@jupyter-widgets/controls",
            "_view_module_version": "1.5.0",
            "_view_name": "ProgressView",
            "bar_style": "success",
            "description": "",
            "description_tooltip": null,
            "layout": "IPY_MODEL_4d27b7c2424a437cbff8d9f4f567317c",
            "max": 898822,
            "min": 0,
            "orientation": "horizontal",
            "style": "IPY_MODEL_0736253b34714681b9e40223d37462a6",
            "value": 898822
          }
        },
        "ae6f1d99e2c84785ae63ca4c35705209": {
          "model_module": "@jupyter-widgets/controls",
          "model_module_version": "1.5.0",
          "model_name": "FloatProgressModel",
          "state": {
            "_dom_classes": [],
            "_model_module": "@jupyter-widgets/controls",
            "_model_module_version": "1.5.0",
            "_model_name": "FloatProgressModel",
            "_view_count": null,
            "_view_module": "@jupyter-widgets/controls",
            "_view_module_version": "1.5.0",
            "_view_name": "ProgressView",
            "bar_style": "success",
            "description": "",
            "description_tooltip": null,
            "layout": "IPY_MODEL_6300253adce546bebf3b1f5c349c2d60",
            "max": 25,
            "min": 0,
            "orientation": "horizontal",
            "style": "IPY_MODEL_34ed9d19456b40f58bd9b4efa75a588d",
            "value": 25
          }
        },
        "b19dff017a64440a8889b3cd8d6f639d": {
          "model_module": "@jupyter-widgets/controls",
          "model_module_version": "1.5.0",
          "model_name": "HBoxModel",
          "state": {
            "_dom_classes": [],
            "_model_module": "@jupyter-widgets/controls",
            "_model_module_version": "1.5.0",
            "_model_name": "HBoxModel",
            "_view_count": null,
            "_view_module": "@jupyter-widgets/controls",
            "_view_module_version": "1.5.0",
            "_view_name": "HBoxView",
            "box_style": "",
            "children": [
              "IPY_MODEL_9e61e30d2cb148b79860c2ab181f2f20",
              "IPY_MODEL_ac71197cd32e4565b7e45557f1a4f107",
              "IPY_MODEL_50a049c1f3c841708c90b282c1f1393a"
            ],
            "layout": "IPY_MODEL_490755ba47ea4b0c9fb7a6b78c29e10e"
          }
        },
        "b2089d555e724df39286da0ab9789c3b": {
          "model_module": "@jupyter-widgets/base",
          "model_module_version": "1.2.0",
          "model_name": "LayoutModel",
          "state": {
            "_model_module": "@jupyter-widgets/base",
            "_model_module_version": "1.2.0",
            "_model_name": "LayoutModel",
            "_view_count": null,
            "_view_module": "@jupyter-widgets/base",
            "_view_module_version": "1.2.0",
            "_view_name": "LayoutView",
            "align_content": null,
            "align_items": null,
            "align_self": null,
            "border": null,
            "bottom": null,
            "display": null,
            "flex": null,
            "flex_flow": null,
            "grid_area": null,
            "grid_auto_columns": null,
            "grid_auto_flow": null,
            "grid_auto_rows": null,
            "grid_column": null,
            "grid_gap": null,
            "grid_row": null,
            "grid_template_areas": null,
            "grid_template_columns": null,
            "grid_template_rows": null,
            "height": null,
            "justify_content": null,
            "justify_items": null,
            "left": null,
            "margin": null,
            "max_height": null,
            "max_width": null,
            "min_height": null,
            "min_width": null,
            "object_fit": null,
            "object_position": null,
            "order": null,
            "overflow": null,
            "overflow_x": null,
            "overflow_y": null,
            "padding": null,
            "right": null,
            "top": null,
            "visibility": null,
            "width": null
          }
        },
        "b3cd526503e4472c841a65814171b405": {
          "model_module": "@jupyter-widgets/base",
          "model_module_version": "1.2.0",
          "model_name": "LayoutModel",
          "state": {
            "_model_module": "@jupyter-widgets/base",
            "_model_module_version": "1.2.0",
            "_model_name": "LayoutModel",
            "_view_count": null,
            "_view_module": "@jupyter-widgets/base",
            "_view_module_version": "1.2.0",
            "_view_name": "LayoutView",
            "align_content": null,
            "align_items": null,
            "align_self": null,
            "border": null,
            "bottom": null,
            "display": null,
            "flex": null,
            "flex_flow": null,
            "grid_area": null,
            "grid_auto_columns": null,
            "grid_auto_flow": null,
            "grid_auto_rows": null,
            "grid_column": null,
            "grid_gap": null,
            "grid_row": null,
            "grid_template_areas": null,
            "grid_template_columns": null,
            "grid_template_rows": null,
            "height": null,
            "justify_content": null,
            "justify_items": null,
            "left": null,
            "margin": null,
            "max_height": null,
            "max_width": null,
            "min_height": null,
            "min_width": null,
            "object_fit": null,
            "object_position": null,
            "order": null,
            "overflow": null,
            "overflow_x": null,
            "overflow_y": null,
            "padding": null,
            "right": null,
            "top": null,
            "visibility": null,
            "width": null
          }
        },
        "b5ba107ebdec4f80b00f642e0ff79dfa": {
          "model_module": "@jupyter-widgets/base",
          "model_module_version": "1.2.0",
          "model_name": "LayoutModel",
          "state": {
            "_model_module": "@jupyter-widgets/base",
            "_model_module_version": "1.2.0",
            "_model_name": "LayoutModel",
            "_view_count": null,
            "_view_module": "@jupyter-widgets/base",
            "_view_module_version": "1.2.0",
            "_view_name": "LayoutView",
            "align_content": null,
            "align_items": null,
            "align_self": null,
            "border": null,
            "bottom": null,
            "display": null,
            "flex": null,
            "flex_flow": null,
            "grid_area": null,
            "grid_auto_columns": null,
            "grid_auto_flow": null,
            "grid_auto_rows": null,
            "grid_column": null,
            "grid_gap": null,
            "grid_row": null,
            "grid_template_areas": null,
            "grid_template_columns": null,
            "grid_template_rows": null,
            "height": null,
            "justify_content": null,
            "justify_items": null,
            "left": null,
            "margin": null,
            "max_height": null,
            "max_width": null,
            "min_height": null,
            "min_width": null,
            "object_fit": null,
            "object_position": null,
            "order": null,
            "overflow": null,
            "overflow_x": null,
            "overflow_y": null,
            "padding": null,
            "right": null,
            "top": null,
            "visibility": null,
            "width": null
          }
        },
        "b78dd588fe1d499aab7249011efeb55b": {
          "model_module": "@jupyter-widgets/controls",
          "model_module_version": "1.5.0",
          "model_name": "HTMLModel",
          "state": {
            "_dom_classes": [],
            "_model_module": "@jupyter-widgets/controls",
            "_model_module_version": "1.5.0",
            "_model_name": "HTMLModel",
            "_view_count": null,
            "_view_module": "@jupyter-widgets/controls",
            "_view_module_version": "1.5.0",
            "_view_name": "HTMLView",
            "description": "",
            "description_tooltip": null,
            "layout": "IPY_MODEL_f5d1e15fc511455fb272081bad52cc6d",
            "placeholder": "​",
            "style": "IPY_MODEL_a807eaf49f3e4c66bf7a0728e34b7e37",
            "value": " 25.0/25.0 [00:00&lt;00:00, 824B/s]"
          }
        },
        "ba8d20fed9934b04a55f16c5a92f3340": {
          "model_module": "@jupyter-widgets/controls",
          "model_module_version": "1.5.0",
          "model_name": "ProgressStyleModel",
          "state": {
            "_model_module": "@jupyter-widgets/controls",
            "_model_module_version": "1.5.0",
            "_model_name": "ProgressStyleModel",
            "_view_count": null,
            "_view_module": "@jupyter-widgets/base",
            "_view_module_version": "1.2.0",
            "_view_name": "StyleView",
            "bar_color": null,
            "description_width": ""
          }
        },
        "bdfba5c1a50c42dd9e19a7d0634f14c2": {
          "model_module": "@jupyter-widgets/base",
          "model_module_version": "1.2.0",
          "model_name": "LayoutModel",
          "state": {
            "_model_module": "@jupyter-widgets/base",
            "_model_module_version": "1.2.0",
            "_model_name": "LayoutModel",
            "_view_count": null,
            "_view_module": "@jupyter-widgets/base",
            "_view_module_version": "1.2.0",
            "_view_name": "LayoutView",
            "align_content": null,
            "align_items": null,
            "align_self": null,
            "border": null,
            "bottom": null,
            "display": null,
            "flex": null,
            "flex_flow": null,
            "grid_area": null,
            "grid_auto_columns": null,
            "grid_auto_flow": null,
            "grid_auto_rows": null,
            "grid_column": null,
            "grid_gap": null,
            "grid_row": null,
            "grid_template_areas": null,
            "grid_template_columns": null,
            "grid_template_rows": null,
            "height": null,
            "justify_content": null,
            "justify_items": null,
            "left": null,
            "margin": null,
            "max_height": null,
            "max_width": null,
            "min_height": null,
            "min_width": null,
            "object_fit": null,
            "object_position": null,
            "order": null,
            "overflow": null,
            "overflow_x": null,
            "overflow_y": null,
            "padding": null,
            "right": null,
            "top": null,
            "visibility": null,
            "width": null
          }
        },
        "c004e94afa184f3180b3a16195d59840": {
          "model_module": "@jupyter-widgets/controls",
          "model_module_version": "1.5.0",
          "model_name": "HTMLModel",
          "state": {
            "_dom_classes": [],
            "_model_module": "@jupyter-widgets/controls",
            "_model_module_version": "1.5.0",
            "_model_name": "HTMLModel",
            "_view_count": null,
            "_view_module": "@jupyter-widgets/controls",
            "_view_module_version": "1.5.0",
            "_view_name": "HTMLView",
            "description": "",
            "description_tooltip": null,
            "layout": "IPY_MODEL_cba77fc7f46a4d2eb78349657373736d",
            "placeholder": "​",
            "style": "IPY_MODEL_5354bab8e20c43d691638f9df65f4992",
            "value": "Downloading: 100%"
          }
        },
        "cba77fc7f46a4d2eb78349657373736d": {
          "model_module": "@jupyter-widgets/base",
          "model_module_version": "1.2.0",
          "model_name": "LayoutModel",
          "state": {
            "_model_module": "@jupyter-widgets/base",
            "_model_module_version": "1.2.0",
            "_model_name": "LayoutModel",
            "_view_count": null,
            "_view_module": "@jupyter-widgets/base",
            "_view_module_version": "1.2.0",
            "_view_name": "LayoutView",
            "align_content": null,
            "align_items": null,
            "align_self": null,
            "border": null,
            "bottom": null,
            "display": null,
            "flex": null,
            "flex_flow": null,
            "grid_area": null,
            "grid_auto_columns": null,
            "grid_auto_flow": null,
            "grid_auto_rows": null,
            "grid_column": null,
            "grid_gap": null,
            "grid_row": null,
            "grid_template_areas": null,
            "grid_template_columns": null,
            "grid_template_rows": null,
            "height": null,
            "justify_content": null,
            "justify_items": null,
            "left": null,
            "margin": null,
            "max_height": null,
            "max_width": null,
            "min_height": null,
            "min_width": null,
            "object_fit": null,
            "object_position": null,
            "order": null,
            "overflow": null,
            "overflow_x": null,
            "overflow_y": null,
            "padding": null,
            "right": null,
            "top": null,
            "visibility": null,
            "width": null
          }
        },
        "d47526b963514a75986e863b2e5cdad5": {
          "model_module": "@jupyter-widgets/controls",
          "model_module_version": "1.5.0",
          "model_name": "HTMLModel",
          "state": {
            "_dom_classes": [],
            "_model_module": "@jupyter-widgets/controls",
            "_model_module_version": "1.5.0",
            "_model_name": "HTMLModel",
            "_view_count": null,
            "_view_module": "@jupyter-widgets/controls",
            "_view_module_version": "1.5.0",
            "_view_name": "HTMLView",
            "description": "",
            "description_tooltip": null,
            "layout": "IPY_MODEL_b5ba107ebdec4f80b00f642e0ff79dfa",
            "placeholder": "​",
            "style": "IPY_MODEL_e6c5f1b8f4324dc1ba5d92016a88bb75",
            "value": "Downloading: 100%"
          }
        },
        "d6546629ead94ac0b9758bf7d9eb328e": {
          "model_module": "@jupyter-widgets/base",
          "model_module_version": "1.2.0",
          "model_name": "LayoutModel",
          "state": {
            "_model_module": "@jupyter-widgets/base",
            "_model_module_version": "1.2.0",
            "_model_name": "LayoutModel",
            "_view_count": null,
            "_view_module": "@jupyter-widgets/base",
            "_view_module_version": "1.2.0",
            "_view_name": "LayoutView",
            "align_content": null,
            "align_items": null,
            "align_self": null,
            "border": null,
            "bottom": null,
            "display": null,
            "flex": null,
            "flex_flow": null,
            "grid_area": null,
            "grid_auto_columns": null,
            "grid_auto_flow": null,
            "grid_auto_rows": null,
            "grid_column": null,
            "grid_gap": null,
            "grid_row": null,
            "grid_template_areas": null,
            "grid_template_columns": null,
            "grid_template_rows": null,
            "height": null,
            "justify_content": null,
            "justify_items": null,
            "left": null,
            "margin": null,
            "max_height": null,
            "max_width": null,
            "min_height": null,
            "min_width": null,
            "object_fit": null,
            "object_position": null,
            "order": null,
            "overflow": null,
            "overflow_x": null,
            "overflow_y": null,
            "padding": null,
            "right": null,
            "top": null,
            "visibility": null,
            "width": null
          }
        },
        "d7d64f87eb744c29b140901078a6269f": {
          "model_module": "@jupyter-widgets/base",
          "model_module_version": "1.2.0",
          "model_name": "LayoutModel",
          "state": {
            "_model_module": "@jupyter-widgets/base",
            "_model_module_version": "1.2.0",
            "_model_name": "LayoutModel",
            "_view_count": null,
            "_view_module": "@jupyter-widgets/base",
            "_view_module_version": "1.2.0",
            "_view_name": "LayoutView",
            "align_content": null,
            "align_items": null,
            "align_self": null,
            "border": null,
            "bottom": null,
            "display": null,
            "flex": null,
            "flex_flow": null,
            "grid_area": null,
            "grid_auto_columns": null,
            "grid_auto_flow": null,
            "grid_auto_rows": null,
            "grid_column": null,
            "grid_gap": null,
            "grid_row": null,
            "grid_template_areas": null,
            "grid_template_columns": null,
            "grid_template_rows": null,
            "height": null,
            "justify_content": null,
            "justify_items": null,
            "left": null,
            "margin": null,
            "max_height": null,
            "max_width": null,
            "min_height": null,
            "min_width": null,
            "object_fit": null,
            "object_position": null,
            "order": null,
            "overflow": null,
            "overflow_x": null,
            "overflow_y": null,
            "padding": null,
            "right": null,
            "top": null,
            "visibility": null,
            "width": null
          }
        },
        "e1e9698760c64f578f5b0b68911593e3": {
          "model_module": "@jupyter-widgets/controls",
          "model_module_version": "1.5.0",
          "model_name": "DescriptionStyleModel",
          "state": {
            "_model_module": "@jupyter-widgets/controls",
            "_model_module_version": "1.5.0",
            "_model_name": "DescriptionStyleModel",
            "_view_count": null,
            "_view_module": "@jupyter-widgets/base",
            "_view_module_version": "1.2.0",
            "_view_name": "StyleView",
            "description_width": ""
          }
        },
        "e6c5f1b8f4324dc1ba5d92016a88bb75": {
          "model_module": "@jupyter-widgets/controls",
          "model_module_version": "1.5.0",
          "model_name": "DescriptionStyleModel",
          "state": {
            "_model_module": "@jupyter-widgets/controls",
            "_model_module_version": "1.5.0",
            "_model_name": "DescriptionStyleModel",
            "_view_count": null,
            "_view_module": "@jupyter-widgets/base",
            "_view_module_version": "1.2.0",
            "_view_name": "StyleView",
            "description_width": ""
          }
        },
        "e77dff416fb14c43a2f75348c72b2676": {
          "model_module": "@jupyter-widgets/controls",
          "model_module_version": "1.5.0",
          "model_name": "FloatProgressModel",
          "state": {
            "_dom_classes": [],
            "_model_module": "@jupyter-widgets/controls",
            "_model_module_version": "1.5.0",
            "_model_name": "FloatProgressModel",
            "_view_count": null,
            "_view_module": "@jupyter-widgets/controls",
            "_view_module_version": "1.5.0",
            "_view_name": "ProgressView",
            "bar_style": "success",
            "description": "",
            "description_tooltip": null,
            "layout": "IPY_MODEL_bdfba5c1a50c42dd9e19a7d0634f14c2",
            "max": 498,
            "min": 0,
            "orientation": "horizontal",
            "style": "IPY_MODEL_715f2b3e980d49448b635a4f329e41df",
            "value": 498
          }
        },
        "eb0ad507902c425b99426bec1e5338c7": {
          "model_module": "@jupyter-widgets/controls",
          "model_module_version": "1.5.0",
          "model_name": "FloatProgressModel",
          "state": {
            "_dom_classes": [],
            "_model_module": "@jupyter-widgets/controls",
            "_model_module_version": "1.5.0",
            "_model_name": "FloatProgressModel",
            "_view_count": null,
            "_view_module": "@jupyter-widgets/controls",
            "_view_module_version": "1.5.0",
            "_view_name": "ProgressView",
            "bar_style": "success",
            "description": "",
            "description_tooltip": null,
            "layout": "IPY_MODEL_90dc1ea2d41e4e05bff9bbabb5bf1b9a",
            "max": 456318,
            "min": 0,
            "orientation": "horizontal",
            "style": "IPY_MODEL_74334871ef264ee2b51b8fdc3e9f23c9",
            "value": 456318
          }
        },
        "ed98b54cb6954dfab89fe457880a9c00": {
          "model_module": "@jupyter-widgets/controls",
          "model_module_version": "1.5.0",
          "model_name": "HTMLModel",
          "state": {
            "_dom_classes": [],
            "_model_module": "@jupyter-widgets/controls",
            "_model_module_version": "1.5.0",
            "_model_name": "HTMLModel",
            "_view_count": null,
            "_view_module": "@jupyter-widgets/controls",
            "_view_module_version": "1.5.0",
            "_view_name": "HTMLView",
            "description": "",
            "description_tooltip": null,
            "layout": "IPY_MODEL_d7d64f87eb744c29b140901078a6269f",
            "placeholder": "​",
            "style": "IPY_MODEL_17ff645de9dc4ca4a6477cfd5ee8d93d",
            "value": " 150/150 [00:00&lt;00:00, 4.78kB/s]"
          }
        },
        "ef14172e7c9541b28a9811977b065308": {
          "model_module": "@jupyter-widgets/base",
          "model_module_version": "1.2.0",
          "model_name": "LayoutModel",
          "state": {
            "_model_module": "@jupyter-widgets/base",
            "_model_module_version": "1.2.0",
            "_model_name": "LayoutModel",
            "_view_count": null,
            "_view_module": "@jupyter-widgets/base",
            "_view_module_version": "1.2.0",
            "_view_name": "LayoutView",
            "align_content": null,
            "align_items": null,
            "align_self": null,
            "border": null,
            "bottom": null,
            "display": null,
            "flex": null,
            "flex_flow": null,
            "grid_area": null,
            "grid_auto_columns": null,
            "grid_auto_flow": null,
            "grid_auto_rows": null,
            "grid_column": null,
            "grid_gap": null,
            "grid_row": null,
            "grid_template_areas": null,
            "grid_template_columns": null,
            "grid_template_rows": null,
            "height": null,
            "justify_content": null,
            "justify_items": null,
            "left": null,
            "margin": null,
            "max_height": null,
            "max_width": null,
            "min_height": null,
            "min_width": null,
            "object_fit": null,
            "object_position": null,
            "order": null,
            "overflow": null,
            "overflow_x": null,
            "overflow_y": null,
            "padding": null,
            "right": null,
            "top": null,
            "visibility": null,
            "width": null
          }
        },
        "f1a4b01d1ea141a682adf002e4210d1e": {
          "model_module": "@jupyter-widgets/base",
          "model_module_version": "1.2.0",
          "model_name": "LayoutModel",
          "state": {
            "_model_module": "@jupyter-widgets/base",
            "_model_module_version": "1.2.0",
            "_model_name": "LayoutModel",
            "_view_count": null,
            "_view_module": "@jupyter-widgets/base",
            "_view_module_version": "1.2.0",
            "_view_name": "LayoutView",
            "align_content": null,
            "align_items": null,
            "align_self": null,
            "border": null,
            "bottom": null,
            "display": null,
            "flex": null,
            "flex_flow": null,
            "grid_area": null,
            "grid_auto_columns": null,
            "grid_auto_flow": null,
            "grid_auto_rows": null,
            "grid_column": null,
            "grid_gap": null,
            "grid_row": null,
            "grid_template_areas": null,
            "grid_template_columns": null,
            "grid_template_rows": null,
            "height": null,
            "justify_content": null,
            "justify_items": null,
            "left": null,
            "margin": null,
            "max_height": null,
            "max_width": null,
            "min_height": null,
            "min_width": null,
            "object_fit": null,
            "object_position": null,
            "order": null,
            "overflow": null,
            "overflow_x": null,
            "overflow_y": null,
            "padding": null,
            "right": null,
            "top": null,
            "visibility": null,
            "width": null
          }
        },
        "f1b331f853644e9c83b339a021252823": {
          "model_module": "@jupyter-widgets/controls",
          "model_module_version": "1.5.0",
          "model_name": "HBoxModel",
          "state": {
            "_dom_classes": [],
            "_model_module": "@jupyter-widgets/controls",
            "_model_module_version": "1.5.0",
            "_model_name": "HBoxModel",
            "_view_count": null,
            "_view_module": "@jupyter-widgets/controls",
            "_view_module_version": "1.5.0",
            "_view_name": "HBoxView",
            "box_style": "",
            "children": [
              "IPY_MODEL_c004e94afa184f3180b3a16195d59840",
              "IPY_MODEL_ae6f1d99e2c84785ae63ca4c35705209",
              "IPY_MODEL_b78dd588fe1d499aab7249011efeb55b"
            ],
            "layout": "IPY_MODEL_fa0cb635ba544553963823b23652f9e0"
          }
        },
        "f5d1e15fc511455fb272081bad52cc6d": {
          "model_module": "@jupyter-widgets/base",
          "model_module_version": "1.2.0",
          "model_name": "LayoutModel",
          "state": {
            "_model_module": "@jupyter-widgets/base",
            "_model_module_version": "1.2.0",
            "_model_name": "LayoutModel",
            "_view_count": null,
            "_view_module": "@jupyter-widgets/base",
            "_view_module_version": "1.2.0",
            "_view_name": "LayoutView",
            "align_content": null,
            "align_items": null,
            "align_self": null,
            "border": null,
            "bottom": null,
            "display": null,
            "flex": null,
            "flex_flow": null,
            "grid_area": null,
            "grid_auto_columns": null,
            "grid_auto_flow": null,
            "grid_auto_rows": null,
            "grid_column": null,
            "grid_gap": null,
            "grid_row": null,
            "grid_template_areas": null,
            "grid_template_columns": null,
            "grid_template_rows": null,
            "height": null,
            "justify_content": null,
            "justify_items": null,
            "left": null,
            "margin": null,
            "max_height": null,
            "max_width": null,
            "min_height": null,
            "min_width": null,
            "object_fit": null,
            "object_position": null,
            "order": null,
            "overflow": null,
            "overflow_x": null,
            "overflow_y": null,
            "padding": null,
            "right": null,
            "top": null,
            "visibility": null,
            "width": null
          }
        },
        "fa0cb635ba544553963823b23652f9e0": {
          "model_module": "@jupyter-widgets/base",
          "model_module_version": "1.2.0",
          "model_name": "LayoutModel",
          "state": {
            "_model_module": "@jupyter-widgets/base",
            "_model_module_version": "1.2.0",
            "_model_name": "LayoutModel",
            "_view_count": null,
            "_view_module": "@jupyter-widgets/base",
            "_view_module_version": "1.2.0",
            "_view_name": "LayoutView",
            "align_content": null,
            "align_items": null,
            "align_self": null,
            "border": null,
            "bottom": null,
            "display": null,
            "flex": null,
            "flex_flow": null,
            "grid_area": null,
            "grid_auto_columns": null,
            "grid_auto_flow": null,
            "grid_auto_rows": null,
            "grid_column": null,
            "grid_gap": null,
            "grid_row": null,
            "grid_template_areas": null,
            "grid_template_columns": null,
            "grid_template_rows": null,
            "height": null,
            "justify_content": null,
            "justify_items": null,
            "left": null,
            "margin": null,
            "max_height": null,
            "max_width": null,
            "min_height": null,
            "min_width": null,
            "object_fit": null,
            "object_position": null,
            "order": null,
            "overflow": null,
            "overflow_x": null,
            "overflow_y": null,
            "padding": null,
            "right": null,
            "top": null,
            "visibility": null,
            "width": null
          }
        }
      }
    }
  },
  "nbformat": 4,
  "nbformat_minor": 5
}
