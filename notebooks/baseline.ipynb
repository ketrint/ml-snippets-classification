{
  "cells": [
    {
      "cell_type": "markdown",
      "metadata": {
        "id": "alEukFDvsqPM"
      },
      "source": [
        "## Import & install libs"
      ]
    },
    {
      "cell_type": "code",
      "execution_count": 3,
      "metadata": {
        "id": "D1CeQ55vso09"
      },
      "outputs": [],
      "source": [
        "import random\n",
        "import os\n",
        "import re\n",
        "from tqdm import tqdm\n",
        "from IPython.display import clear_output\n",
        "from typing import List, Union\n",
        "\n",
        "import pandas as pd\n",
        "import numpy as np\n",
        "from sklearn.model_selection import train_test_split\n",
        "from sklearn.utils import shuffle\n",
        "from sklearn.metrics import accuracy_score, f1_score, precision_score, recall_score\n",
        "from sklearn.svm import SVC\n",
        "from sklearn.model_selection import GridSearchCV, StratifiedKFold\n",
        "from sklearn.pipeline import Pipeline\n",
        "from sklearn.feature_extraction.text import TfidfVectorizer\n",
        "from sklearn.linear_model import LogisticRegression\n",
        "from sklearn.compose import ColumnTransformer\n",
        "from sklearn.ensemble import RandomForestClassifier, GradientBoostingClassifier\n",
        "\n",
        "import torch\n",
        "from torch import nn\n",
        "\n",
        "import warnings\n",
        "warnings.filterwarnings(\"ignore\")"
      ]
    },
    {
      "cell_type": "code",
      "execution_count": 4,
      "metadata": {
        "id": "QpXFU0LI3y7h"
      },
      "outputs": [],
      "source": [
        "def seed_everything(seed=42):\n",
        "    random.seed(seed)\n",
        "    os.environ['PYTHONHASHSEED'] = str(seed)\n",
        "    np.random.seed(seed)\n",
        "    torch.manual_seed(seed)\n",
        "    torch.backends.cudnn.deterministic = True\n",
        "    torch.backends.cudnn.benchmark = False\n",
        "seed_everything()"
      ]
    },
    {
      "cell_type": "code",
      "execution_count": 5,
      "metadata": {
        "id": "heRSbSx9zvAJ"
      },
      "outputs": [],
      "source": [
        "# graphics settings:\n",
        "\n",
        "import matplotlib.pyplot as plt\n",
        "import seaborn as sns\n",
        "sns.set(style='whitegrid')\n",
        "%config InlineBackend.figure_format = 'retina'\n",
        "plt.rcParams['font.size'] = 14\n",
        "plt.rcParams['figure.figsize'] = 10, 7\n",
        "sns.set_style('darkgrid')"
      ]
    },
    {
      "cell_type": "markdown",
      "metadata": {
        "id": "1LKccJwfs0SM"
      },
      "source": [
        "## Load & preprocess data"
      ]
    },
    {
      "cell_type": "code",
      "execution_count": 6,
      "metadata": {
        "id": "qqTSZ0LYyANA"
      },
      "outputs": [],
      "source": [
        "def read_data(path):\n",
        "    dml = pd.read_csv(path, index_col=None).drop('Unnamed: 0', axis=1)\n",
        "    print('ALL SNIPPETS: ', dml.shape[0], 'UNIQUE: ', len(dml['code_block'].unique()))\n",
        "    dml = dml.dropna()\n",
        "    print('WITHOUT NANS: ', dml.shape[0])\n",
        "    dml = dml[dml['marks'] == 5]\n",
        "    print('CLEAR DATA MARKS', dml.shape[0])\n",
        "    dml = dml[(dml['graph_vertex_id'] != 53) & (dml['graph_vertex_id'] != 84)]\n",
        "    print('CLEAR DATA CLASSES', dml.shape[0])\n",
        "    return dml"
      ]
    },
    {
      "cell_type": "code",
      "execution_count": 7,
      "metadata": {
        "colab": {
          "base_uri": "https://localhost:8080/"
        },
        "id": "z524Jvd6FRxH",
        "outputId": "683d3874-6f4f-4297-af62-8227d72f34ce"
      },
      "outputs": [
        {
          "output_type": "stream",
          "name": "stdout",
          "text": [
            "ALL SNIPPETS:  7947 UNIQUE:  7839\n",
            "WITHOUT NANS:  7947\n",
            "CLEAR DATA MARKS 5371\n",
            "CLEAR DATA CLASSES 5152\n"
          ]
        }
      ],
      "source": [
        "path = 'snippets.csv'\n",
        "dml = read_data(path)"
      ]
    },
    {
      "cell_type": "code",
      "execution_count": 8,
      "metadata": {
        "colab": {
          "base_uri": "https://localhost:8080/"
        },
        "id": "O__Q57Qypq40",
        "outputId": "585c8d34-afca-42da-abb1-402cc02e7b1e"
      },
      "outputs": [
        {
          "output_type": "stream",
          "name": "stdout",
          "text": [
            "65\n"
          ]
        }
      ],
      "source": [
        "all_classes = sorted(dml['graph_vertex_id'].unique())\n",
        "print(len(all_classes))"
      ]
    },
    {
      "cell_type": "code",
      "execution_count": 9,
      "metadata": {
        "id": "ccjfU0rt7TRK"
      },
      "outputs": [],
      "source": [
        "def from_bytes_to_str(snippet: str) -> str:\n",
        "    \"\"\"Converts a string from byte to regular format.\"\"\"\n",
        "    format_ = f'b\"'\n",
        "    format_hat = f\"b'\"\n",
        "    if snippet[:2] == format_ or snippet[:2] == format_hat:\n",
        "        n = len(snippet)\n",
        "        snippet = snippet[2: n - 1]\n",
        "    return snippet\n",
        "\n",
        "def correct_special_symbols(snippet: str) -> str:\n",
        "    \"\"\"Fixes special characters.\"\"\"\n",
        "    snippet = snippet.replace('\\\\n', '\\n')\n",
        "    snippet = snippet.replace('<br>', '\\n')\n",
        "    snippet = snippet.replace('\\n', ' \\n ')\n",
        "    snippet = snippet.replace('\\\\\"', '\\\"')\n",
        "    snippet = snippet.replace(\"\\\\'\", \"\\'\")\n",
        "    snippet = snippet.replace('\\'\\'\\'', ' \\'\\'\\' ')\n",
        "    snippet = snippet.replace('\\\"\\\"\\\"', ' \\\"\\\"\\\" ')\n",
        "    return snippet\n",
        "\n",
        "def delete_short_comments(snippet: str) -> str:\n",
        "    \"\"\"Deletes short comments.\"\"\"\n",
        "    snippet = re.sub('#.*', '', snippet)\n",
        "    return snippet\n",
        "\n",
        "def delete_imports(snippet: str) -> str:\n",
        "    \"\"\"Deletes imports modules from code.\"\"\"\n",
        "    im_snippet = re.sub('from .* import .*', '', snippet)\n",
        "    im_snippet = re.sub('import .*', '', im_snippet)\n",
        "    if len(im_snippet.replace(' ', '').replace('\\n', '')) != 0:\n",
        "        snippet = im_snippet\n",
        "    return snippet\n",
        "\n",
        "def add_spaces(snippet: str, symbols: List[str]) -> str:\n",
        "    \"\"\"Adds spaces to the beginning and end of each character.\"\"\"\n",
        "    for symb in symbols:\n",
        "        snippet = snippet.replace(symb, ' ' + symb + ' ')\n",
        "    return snippet\n",
        "\n",
        "def delete_empty_lines(snippet: str) -> List[str]:\n",
        "    \"\"\"Deletes empty lines in snippet.\"\"\"\n",
        "    snippet = snippet.split(sep=' ')\n",
        "    while '' in snippet:\n",
        "        snippet.remove('')\n",
        "\n",
        "    if len(snippet) == 0:\n",
        "        snippet = ['\\n']\n",
        "\n",
        "    new_snippet = [snippet[0]]\n",
        "    for i in range(1, len(snippet)):\n",
        "        if snippet[i] == '\\n' and new_snippet[-1] == '\\n':\n",
        "            continue\n",
        "        else:\n",
        "            new_snippet.append(snippet[i])\n",
        "    if len(new_snippet) > 1 and new_snippet[0] == '\\n':\n",
        "        new_snippet = new_snippet[1:]\n",
        "    return new_snippet\n",
        "\n",
        "def delete_long_comments(snippet: List[str]) -> List[str]:\n",
        "    \"\"\"Deletes long comments.\"\"\"\n",
        "    res_snippet = []\n",
        "    comment_flag = 0\n",
        "    opened = ''\n",
        "    for item in snippet:\n",
        "        if item == '\\'\\'\\'' or item == \"\\\\'\\\\'\\\\'\" or item == '\\\"\\\"\\\"' or item == '\\\\\"\\\\\"\\\\\"':\n",
        "            comment_flag += 1\n",
        "            comment_flag %= 2\n",
        "            if comment_flag == 1:\n",
        "                opened = item\n",
        "            else:\n",
        "                if item != opened:\n",
        "                    comment_flag = 1\n",
        "            continue\n",
        "        if comment_flag != 1:\n",
        "            res_snippet.append(item)\n",
        "    if len(res_snippet) == 0:\n",
        "        res_snippet = ['\\n']\n",
        "    return res_snippet\n",
        "\n",
        "def preprocess_snippet(snippet: str, format='list') -> Union[str, List[str]]:\n",
        "    \"\"\"Performs string preprocessing.\"\"\"\n",
        "    functions = [from_bytes_to_str, correct_special_symbols, delete_short_comments, delete_imports]\n",
        "    for function in functions:\n",
        "        snippet = function(snippet)\n",
        "    to_replace = ['.', '(', ')', '\\n', '[', ']', '_']\n",
        "    snippet = add_spaces(snippet, to_replace)\n",
        "    new_snippet = delete_empty_lines(snippet)\n",
        "    res_snippet = delete_long_comments(new_snippet)\n",
        "    if format == 'str':\n",
        "        return ' '.join(res_snippet)\n",
        "    return res_snippet"
      ]
    },
    {
      "cell_type": "code",
      "execution_count": 10,
      "metadata": {
        "id": "sq4ddk4ogNsM"
      },
      "outputs": [],
      "source": [
        "def ind(el):\n",
        "  return list(all_classes).index(el)\n",
        "\n",
        "dml['code_block'] = dml['code_block'].apply(preprocess_snippet)\n",
        "X = dml[['code_block']]\n",
        "y = dml['graph_vertex_id'].apply(ind)"
      ]
    },
    {
      "cell_type": "code",
      "execution_count": 11,
      "metadata": {
        "colab": {
          "base_uri": "https://localhost:8080/"
        },
        "id": "6f2guNAhuOH2",
        "outputId": "b755d902-cf79-49d4-8ad9-1948bdf09c2a"
      },
      "outputs": [
        {
          "output_type": "stream",
          "name": "stdout",
          "text": [
            "(3091, 1)\n"
          ]
        }
      ],
      "source": [
        "X_train, X_test, y_train, y_test = train_test_split(X, y, test_size=0.4, random_state=42)\n",
        "print(X_train.shape)"
      ]
    },
    {
      "cell_type": "markdown",
      "metadata": {
        "id": "hO7SdNRds-KB"
      },
      "source": [
        "## SVM, Logreg, RF, GB"
      ]
    },
    {
      "cell_type": "code",
      "execution_count": 12,
      "metadata": {
        "id": "wSbmC5vKrQAK"
      },
      "outputs": [],
      "source": [
        "def id(x: str) -> str:\n",
        "    return x\n",
        "\n",
        "def get_score(scoring, tfidf, model, params):\n",
        "    param_grid = params\n",
        "\n",
        "    column_transformer = ColumnTransformer(\n",
        "        [('tfidf', TfidfVectorizer(analyzer='word', tokenizer=id, preprocessor=id, token_pattern=None), tfidf),\n",
        "         ],\n",
        "         remainder='passthrough'\n",
        "    )\n",
        "    pipeline = Pipeline([\n",
        "           ('trans', column_transformer),\n",
        "           ('model', model),\n",
        "    ])\n",
        "    grid = GridSearchCV(pipeline, param_grid, refit=True, scoring=scoring, error_score=\"raise\", verbose=3, cv=StratifiedKFold(n_splits=5, shuffle=True))\n",
        "    grid.fit(X_train, y_train)\n",
        "\n",
        "    return grid"
      ]
    },
    {
      "cell_type": "code",
      "execution_count": 13,
      "metadata": {
        "id": "Ljk__AmahOT8"
      },
      "outputs": [],
      "source": [
        "def calc(model, params):\n",
        "    res = get_score('f1_weighted', 'code_block', model, params)\n",
        "    clear_output(True)\n",
        "    print(res.best_score_, res.best_params_, res.cv_results_['std_test_score'][res.best_index_])\n",
        "    print('TEST accuracy: ', accuracy_score(res.best_estimator_.predict(X_test), y_test))\n",
        "    print('TEST f1: ', f1_score(res.best_estimator_.predict(X_test), y_test, average='weighted'))\n",
        "    print('TEST precision: ', precision_score(res.best_estimator_.predict(X_test), y_test, average='weighted'))\n",
        "    print('TEST recall: ', recall_score(res.best_estimator_.predict(X_test), y_test, average='weighted'))"
      ]
    },
    {
      "cell_type": "code",
      "execution_count": null,
      "metadata": {
        "colab": {
          "base_uri": "https://localhost:8080/"
        },
        "id": "7ByEoIkXhYOj",
        "outputId": "c3170c33-417c-442b-8bc8-3d21438dfa62"
      },
      "outputs": [
        {
          "output_type": "stream",
          "name": "stdout",
          "text": [
            "0.8084157587575141 {'model__C': 1.6681005372000592, 'model__gamma': 0.01, 'model__kernel': 'linear'} 0.012514011311451587\n",
            "TEST accuracy:  0.8321203299369239\n",
            "TEST f1:  0.8388761266509127\n",
            "TEST precision:  0.8562938679052116\n",
            "TEST recall:  0.8321203299369239\n",
            "CPU times: user 1h 4min 36s, sys: 4.82 s, total: 1h 4min 41s\n",
            "Wall time: 1h 5min 14s\n"
          ]
        }
      ],
      "source": [
        "%%time\n",
        "params = {\n",
        "    'model__C' : np.logspace(-2, 2, 10),\n",
        "    'model__kernel' : ['linear', 'poly', 'rbf'],\n",
        "    'model__gamma' : np.logspace(-2, 2, 10)\n",
        "}\n",
        "calc(SVC(), params)"
      ]
    },
    {
      "cell_type": "code",
      "execution_count": null,
      "metadata": {
        "colab": {
          "base_uri": "https://localhost:8080/"
        },
        "id": "0FuQAd9vtfAH",
        "outputId": "0338175f-609f-47d7-f48e-684866f1b177"
      },
      "outputs": [
        {
          "output_type": "stream",
          "name": "stdout",
          "text": [
            "0.8190582579205635 {'model__C': 100.0, 'model__penalty': 'l2'} 0.017074106927489334\n",
            "TEST accuracy:  0.8282387190684134\n",
            "TEST f1:  0.835118834890067\n",
            "TEST precision:  0.8526421262445221\n",
            "TEST recall:  0.8282387190684134\n",
            "CPU times: user 16min 37s, sys: 17min 43s, total: 34min 21s\n",
            "Wall time: 20min 29s\n"
          ]
        }
      ],
      "source": [
        "%%time\n",
        "params = {\n",
        "    'model__C' : np.logspace(-2, 2, 10),\n",
        "    'model__penalty' : ['l2', 'none']\n",
        "}\n",
        "calc(LogisticRegression(), params)"
      ]
    },
    {
      "cell_type": "code",
      "execution_count": null,
      "metadata": {
        "colab": {
          "base_uri": "https://localhost:8080/"
        },
        "id": "v1g_e33BtnWV",
        "outputId": "4fa6f189-2765-4cc1-9943-1e0bfcbb51b7"
      },
      "outputs": [
        {
          "output_type": "stream",
          "name": "stdout",
          "text": [
            "0.7994822366743681 {'model__max_depth': None, 'model__min_samples_leaf': 1, 'model__min_samples_split': 8, 'model__n_estimators': 100} 0.01591747405653803\n",
            "TEST accuracy:  0.8190198932557011\n",
            "TEST f1:  0.8326939926621841\n",
            "TEST precision:  0.863889552535101\n",
            "TEST recall:  0.8190198932557011\n",
            "CPU times: user 17min 45s, sys: 8.76 s, total: 17min 54s\n",
            "Wall time: 18min\n"
          ]
        }
      ],
      "source": [
        "%%time\n",
        "params = {\n",
        "    'model__n_estimators' : [100, 200, 400, 800],\n",
        "    'model__max_depth' : [5, 20, None],\n",
        "    'model__min_samples_split' : [2, 8, 32],\n",
        "    'model__min_samples_leaf' : [1, 4, 16]\n",
        "}\n",
        "calc(RandomForestClassifier(), params)"
      ]
    },
    {
      "cell_type": "code",
      "execution_count": 12,
      "metadata": {
        "colab": {
          "base_uri": "https://localhost:8080/"
        },
        "id": "ZQbU4a_6t2iw",
        "outputId": "ecee35e2-5098-4df5-8ee5-ad2429ec8994"
      },
      "outputs": [
        {
          "output_type": "stream",
          "name": "stdout",
          "text": [
            "0.7540195084095841 {'model__learning_rate': 0.1, 'model__max_depth': 4, 'model__n_estimators': 40} 0.01212267145213408\n",
            "TEST accuracy:  0.754973313925279\n",
            "TEST f1:  0.7513297710949846\n",
            "TEST precision:  0.7719663463640357\n",
            "TEST recall:  0.754973313925279\n",
            "CPU times: user 5h 19min 17s, sys: 19.1 s, total: 5h 19min 36s\n",
            "Wall time: 5h 20min 18s\n"
          ]
        }
      ],
      "source": [
        "%%time\n",
        "params = {\n",
        "    'model__n_estimators' : [20, 40],\n",
        "    'model__max_depth' : [2, 4, None],\n",
        "    'model__learning_rate' : [0.01, 0.1, 1]\n",
        "}\n",
        "calc(GradientBoostingClassifier(), params)"
      ]
    },
    {
      "cell_type": "markdown",
      "metadata": {
        "id": "Vr73xP8dPyea"
      },
      "source": [
        "# Without preprocessing"
      ]
    },
    {
      "cell_type": "code",
      "execution_count": 14,
      "metadata": {
        "colab": {
          "base_uri": "https://localhost:8080/"
        },
        "id": "4y3t1f5OOiWI",
        "outputId": "5ea226ac-e907-440a-961e-05c3d9053c0d"
      },
      "outputs": [
        {
          "output_type": "stream",
          "name": "stdout",
          "text": [
            "ALL SNIPPETS:  7947 UNIQUE:  7839\n",
            "WITHOUT NANS:  7947\n",
            "CLEAR DATA MARKS 5371\n",
            "CLEAR DATA CLASSES 5152\n"
          ]
        }
      ],
      "source": [
        "path = 'snippets.csv'\n",
        "dml = read_data(path)"
      ]
    },
    {
      "cell_type": "code",
      "execution_count": 15,
      "metadata": {
        "id": "9UOixcCNP_6q"
      },
      "outputs": [],
      "source": [
        "def preprocess_snippet(snippet: str, format='list') -> Union[str, List[str]]:\n",
        "    \"\"\"Performs string preprocessing.\"\"\"\n",
        "    return list(snippet.split())"
      ]
    },
    {
      "cell_type": "code",
      "execution_count": 16,
      "metadata": {
        "id": "nWn6eEkqQOhu"
      },
      "outputs": [],
      "source": [
        "def ind(el):\n",
        "  return list(all_classes).index(el)\n",
        "\n",
        "dml['code_block'] = dml['code_block'].apply(preprocess_snippet)\n",
        "X = dml[['code_block']]\n",
        "y = dml['graph_vertex_id'].apply(ind)"
      ]
    },
    {
      "cell_type": "code",
      "execution_count": 17,
      "metadata": {
        "id": "iZ-n6nmkQQ34"
      },
      "outputs": [],
      "source": [
        "X_train, X_test, y_train, y_test = train_test_split(X, y, test_size=0.4, random_state=42)"
      ]
    },
    {
      "cell_type": "code",
      "execution_count": null,
      "metadata": {
        "colab": {
          "base_uri": "https://localhost:8080/"
        },
        "id": "VfSuRXHhQUV1",
        "outputId": "0cd6e4cd-9e8f-4fda-b6c1-7070121652fc"
      },
      "outputs": [
        {
          "output_type": "stream",
          "name": "stdout",
          "text": [
            "0.4616242900463945 {'model__C': 4.6415888336127775, 'model__gamma': 0.01, 'model__kernel': 'linear'} 0.03232717072794601\n",
            "TEST accuracy:  0.4556040756914119\n",
            "TEST f1:  0.4580374957834386\n",
            "TEST precision:  0.6054280646649305\n",
            "TEST recall:  0.4556040756914119\n",
            "CPU times: user 52min 19s, sys: 4.3 s, total: 52min 23s\n",
            "Wall time: 52min 37s\n"
          ]
        }
      ],
      "source": [
        "%%time\n",
        "params = {\n",
        "    'model__C' : np.logspace(-2, 2, 10),\n",
        "    'model__kernel' : ['linear', 'poly', 'rbf'],\n",
        "    'model__gamma' : np.logspace(-2, 2, 10)\n",
        "}\n",
        "calc(SVC(), params)"
      ]
    },
    {
      "cell_type": "code",
      "execution_count": null,
      "metadata": {
        "colab": {
          "base_uri": "https://localhost:8080/"
        },
        "id": "lXwxTYauQWNH",
        "outputId": "15cd407c-5e21-43d5-bf3a-1e0c7272fd5d"
      },
      "outputs": [
        {
          "output_type": "stream",
          "name": "stdout",
          "text": [
            "0.4680019302883675 {'model__C': 100.0, 'model__penalty': 'l2'} 0.012781667739560217\n",
            "TEST accuracy:  0.48083454633672973\n",
            "TEST f1:  0.4883760260567769\n",
            "TEST precision:  0.6396780567990958\n",
            "TEST recall:  0.48083454633672973\n",
            "CPU times: user 30min 54s, sys: 25min 5s, total: 56min\n",
            "Wall time: 33min 35s\n"
          ]
        }
      ],
      "source": [
        "%%time\n",
        "params = {\n",
        "    'model__C' : np.logspace(-2, 2, 10),\n",
        "    'model__penalty' : ['l2', 'none']\n",
        "}\n",
        "calc(LogisticRegression(), params)"
      ]
    },
    {
      "cell_type": "code",
      "execution_count": null,
      "metadata": {
        "colab": {
          "base_uri": "https://localhost:8080/"
        },
        "id": "p-bXql_uQXMc",
        "outputId": "b8671642-2879-436a-9a8b-4ec36a476d99"
      },
      "outputs": [
        {
          "output_type": "stream",
          "name": "stdout",
          "text": [
            "0.4027315245732564 {'model__max_depth': None, 'model__min_samples_leaf': 1, 'model__min_samples_split': 2, 'model__n_estimators': 400} 0.018066803150690133\n",
            "TEST accuracy:  0.43619602134885976\n",
            "TEST f1:  0.45278979391172897\n",
            "TEST precision:  0.6497581909788717\n",
            "TEST recall:  0.43619602134885976\n",
            "CPU times: user 19min 44s, sys: 18.8 s, total: 20min 3s\n",
            "Wall time: 20min 9s\n"
          ]
        }
      ],
      "source": [
        "%%time\n",
        "params = {\n",
        "    'model__n_estimators' : [100, 200, 400, 800],\n",
        "    'model__max_depth' : [5, 20, None],\n",
        "    'model__min_samples_split' : [2, 8, 32],\n",
        "    'model__min_samples_leaf' : [1, 4, 16]\n",
        "}\n",
        "calc(RandomForestClassifier(), params)"
      ]
    },
    {
      "cell_type": "code",
      "execution_count": null,
      "metadata": {
        "colab": {
          "base_uri": "https://localhost:8080/"
        },
        "id": "OSdhBXFvQYOD",
        "outputId": "1594bd2f-e691-4aa3-d14a-10a8c8b6c2d3"
      },
      "outputs": [
        {
          "output_type": "stream",
          "name": "stdout",
          "text": [
            "Fitting 5 folds for each of 18 candidates, totalling 90 fits\n",
            "[CV 1/5] END model__learning_rate=0.01, model__max_depth=2, model__n_estimators=20;, score=0.292 total time=  17.9s\n",
            "[CV 2/5] END model__learning_rate=0.01, model__max_depth=2, model__n_estimators=20;, score=0.290 total time=  17.9s\n",
            "[CV 3/5] END model__learning_rate=0.01, model__max_depth=2, model__n_estimators=20;, score=0.313 total time=  18.3s\n",
            "[CV 4/5] END model__learning_rate=0.01, model__max_depth=2, model__n_estimators=20;, score=0.270 total time=  17.1s\n",
            "[CV 5/5] END model__learning_rate=0.01, model__max_depth=2, model__n_estimators=20;, score=0.285 total time=  18.6s\n",
            "[CV 1/5] END model__learning_rate=0.01, model__max_depth=2, model__n_estimators=40;, score=0.299 total time=  36.3s\n",
            "[CV 2/5] END model__learning_rate=0.01, model__max_depth=2, model__n_estimators=40;, score=0.329 total time=  36.5s\n",
            "[CV 3/5] END model__learning_rate=0.01, model__max_depth=2, model__n_estimators=40;, score=0.317 total time=  35.3s\n",
            "[CV 4/5] END model__learning_rate=0.01, model__max_depth=2, model__n_estimators=40;, score=0.300 total time=  36.1s\n",
            "[CV 5/5] END model__learning_rate=0.01, model__max_depth=2, model__n_estimators=40;, score=0.301 total time=  36.8s\n",
            "[CV 1/5] END model__learning_rate=0.01, model__max_depth=4, model__n_estimators=20;, score=0.325 total time=  30.0s\n",
            "[CV 2/5] END model__learning_rate=0.01, model__max_depth=4, model__n_estimators=20;, score=0.334 total time=  30.5s\n",
            "[CV 3/5] END model__learning_rate=0.01, model__max_depth=4, model__n_estimators=20;, score=0.331 total time=  30.8s\n",
            "[CV 4/5] END model__learning_rate=0.01, model__max_depth=4, model__n_estimators=20;, score=0.325 total time=  30.0s\n",
            "[CV 5/5] END model__learning_rate=0.01, model__max_depth=4, model__n_estimators=20;, score=0.321 total time=  31.4s\n",
            "[CV 1/5] END model__learning_rate=0.01, model__max_depth=4, model__n_estimators=40;, score=0.343 total time= 1.0min\n",
            "[CV 2/5] END model__learning_rate=0.01, model__max_depth=4, model__n_estimators=40;, score=0.363 total time= 1.1min\n",
            "[CV 3/5] END model__learning_rate=0.01, model__max_depth=4, model__n_estimators=40;, score=0.331 total time= 1.0min\n",
            "[CV 4/5] END model__learning_rate=0.01, model__max_depth=4, model__n_estimators=40;, score=0.331 total time= 1.0min\n",
            "[CV 5/5] END model__learning_rate=0.01, model__max_depth=4, model__n_estimators=40;, score=0.332 total time= 1.1min\n",
            "[CV 1/5] END model__learning_rate=0.01, model__max_depth=None, model__n_estimators=20;, score=0.392 total time=34.5min\n",
            "[CV 2/5] END model__learning_rate=0.01, model__max_depth=None, model__n_estimators=20;, score=0.386 total time=35.1min\n",
            "[CV 3/5] END model__learning_rate=0.01, model__max_depth=None, model__n_estimators=20;, score=0.371 total time=32.5min\n",
            "[CV 4/5] END model__learning_rate=0.01, model__max_depth=None, model__n_estimators=20;, score=0.378 total time=33.7min\n",
            "[CV 5/5] END model__learning_rate=0.01, model__max_depth=None, model__n_estimators=20;, score=0.372 total time=32.9min\n"
          ]
        }
      ],
      "source": [
        "%%time\n",
        "params = {\n",
        "    'model__n_estimators' : [20, 40],\n",
        "    'model__max_depth' : [2, 4, None],\n",
        "    'model__learning_rate' : [0.01, 0.1, 1]\n",
        "}\n",
        "calc(GradientBoostingClassifier(), params)"
      ]
    },
    {
      "cell_type": "code",
      "source": [],
      "metadata": {
        "id": "U0qmVAiamU2k"
      },
      "execution_count": null,
      "outputs": []
    }
  ],
  "metadata": {
    "colab": {
      "provenance": []
    },
    "kernelspec": {
      "display_name": "Python 3",
      "name": "python3"
    },
    "language_info": {
      "name": "python"
    }
  },
  "nbformat": 4,
  "nbformat_minor": 0
}